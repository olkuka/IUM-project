{
 "cells": [
  {
   "cell_type": "markdown",
   "metadata": {
    "cell_id": "00001-34a39f65-8c02-4800-8a93-4ef7180f5fc6",
    "deepnote_cell_type": "markdown"
   },
   "source": [
    "##### Mamy co prawda dodatkowe benefity dla naszych najlepszych klientów, ale może dałobysię ustalić kto potencjalnie jest skłonny wydawać u nas więcej?\n",
    "\n",
    "# Etap 1\n",
    "\n",
    "1. Definicja problemu biznesowego, zdefiniowanie zadania/zadań modelowania i wszystkich założeń, zaproponowanie kryteriów sukcesu.\n",
    "2. Analiza danych z perspektywy realizacji tych zadań (trzeba ocenić, czy dostarczone dane są wystarczające – może czegoś brakuje, może coś trzeba poprawić, domagać się innych danych)."
   ]
  },
  {
   "cell_type": "markdown",
   "metadata": {
    "cell_id": "00002-5e36a2c3-5057-41c0-889a-54858aee0be3",
    "deepnote_cell_type": "markdown"
   },
   "source": [
    "#### Kontekst\n",
    "- sklep internetowy z elektroniką i grami komputerowymi.\n",
    "\n",
    "#### Zadanie biznesowe\n",
    "- przewidywanie czy dana sesja klienta zakończy się zakupem po zaoferowaniu mu odpowiedniej zniżki\n",
    "\n",
    "#### Biznesowe kryterium sukcesu\n",
    "- Po wdrożeniu systemu oczekujemy, że sprzedaż wzrośnie. Model przewiduje, czy dana sesja skończy się zakupem. Po ponownym uruchomieniu modelu, ale ze zwiększoną zniżką znajdziemy klientów, którzy po zmianie ceny jednak zdecydują się na zakup, dlatego dzięki modelowi więcej osób będzie kupować produkty.\n",
    "\n",
    "#### Definicja zadania/zadań modelowania\n",
    "\n",
    "- ##### Zadanie modelowania: \n",
    "    klasyfikacja (Logistic Regression i XGBoost)\n",
    "\n",
    "- ##### Dane do modelowania\n",
    "    Zbiór danych sesji uzupełnionych o ceny, kategorie produktów oraz miasto zamieszkania usera.\n",
    "    - users: id, city\n",
    "    - sessions: session_id, user_id, timestamp, product_id, **event_type, offered_discount**, purchase_id\n",
    "    - product_id, category_path, **price**\n",
    "    \n",
    "Finalna decyzja zakupu może mieć duży związek z interakcją ceny z obniżką. Klient może być bardziej skory do kupna, jeżeli dostanie 10% zniżki na produkt o wartości 1000 zł, niż do kupna produktu z tą samą zniżką, ale o wartości 100 zł. \n",
    "\n",
    "- ##### Analityczne kryterium sukcesu\n",
    "Zbudowanie zbalansowanego modelu, który przewyższa skuteczność modelu naiwnego i ma wyższy wskaźnik F1. \n",
    "\n",
    "_Model naiwny w naszym przypadku mógłby przewidywać tylko VIEW PRODUCT i miałby wtedy około 75% skuteczności, a jego wskaźnik F1 wynosiłby 0._\n",
    "\n",
    "#### Założenia\n",
    "- przewidujemy klasę dla danych wejściowych (event type: VIEW PRODUCT lub BUY PRODUCT)\n",
    "- parametry analitycznego kryterium sukcesu są ustalone bezpośrednio na podstawie biznesowego kryterium sukcesu."
   ]
  },
  {
   "cell_type": "markdown",
   "metadata": {
    "cell_id": "00003-1a5f3e82-245c-4cda-99b4-bbe5acb267e5",
    "deepnote_cell_type": "markdown",
    "tags": []
   },
   "source": [
    "#### Analiza danych z perspektywy realizacji zadań"
   ]
  },
  {
   "cell_type": "markdown",
   "metadata": {
    "cell_id": "00003-78547fba-4348-404c-86cb-f5313839bf85",
    "deepnote_cell_type": "markdown",
    "tags": []
   },
   "source": [
    "Pracujemy na nowych danych, które nie zawierają braków."
   ]
  },
  {
   "cell_type": "code",
   "execution_count": 1,
   "metadata": {
    "cell_id": "00004-fdf08e91-16ad-4876-befa-36e57aa9958d",
    "deepnote_cell_type": "code",
    "deepnote_to_be_reexecuted": false,
    "execution_millis": 1879,
    "execution_start": 1621971624778,
    "source_hash": "542c33fa"
   },
   "outputs": [],
   "source": [
    "import pandas as pd\n",
    "import numpy as np\n",
    "import matplotlib.pyplot as plt\n",
    "import seaborn as sns\n",
    "from sklearn.metrics import mutual_info_score\n",
    "from sklearn.feature_selection import mutual_info_classif\n",
    "import random\n",
    "from sklearn.model_selection import train_test_split\n",
    "from sklearn.linear_model import LogisticRegression\n",
    "from sklearn.metrics import confusion_matrix, accuracy_score, average_precision_score, f1_score\n",
    "from sklearn.model_selection import GridSearchCV\n",
    "\n",
    "import warnings\n",
    "warnings.filterwarnings(\"ignore\")"
   ]
  },
  {
   "cell_type": "code",
   "execution_count": 2,
   "metadata": {
    "cell_id": "00005-63e66833-4c9a-4a93-bab2-c7050503b7a2",
    "deepnote_cell_type": "code",
    "deepnote_to_be_reexecuted": false,
    "execution_millis": 17,
    "execution_start": 1621971626660,
    "source_hash": "ba60830d"
   },
   "outputs": [
    {
     "name": "stdout",
     "output_type": "stream",
     "text": [
      "Name with path: C:\\Users\\Aleksandra\\OneDrive - Politechnika Warszawska\\semestr6\\IUM\\IUM-project\\./new_data\\deliveries.jsonl \n",
      "Name without path: deliveries.jsonl\n",
      "Name with path: C:\\Users\\Aleksandra\\OneDrive - Politechnika Warszawska\\semestr6\\IUM\\IUM-project\\./new_data\\products.jsonl \n",
      "Name without path: products.jsonl\n",
      "Name with path: C:\\Users\\Aleksandra\\OneDrive - Politechnika Warszawska\\semestr6\\IUM\\IUM-project\\./new_data\\sessions.jsonl \n",
      "Name without path: sessions.jsonl\n",
      "Name with path: C:\\Users\\Aleksandra\\OneDrive - Politechnika Warszawska\\semestr6\\IUM\\IUM-project\\./new_data\\users.jsonl \n",
      "Name without path: users.jsonl\n"
     ]
    }
   ],
   "source": [
    "import os, glob\n",
    "\n",
    "inputs = []\n",
    "\n",
    "for each in sorted(glob.glob(os.path.join(os.getcwd(),'./new_data/*.jsonl'), recursive=True)):\n",
    "    print(f'Name with path: {each} \\nName without path: {os.path.basename(each)}')\n",
    "    inputs.append(each)"
   ]
  },
  {
   "cell_type": "code",
   "execution_count": 3,
   "metadata": {
    "cell_id": "00006-887e0019-1a44-456f-874f-b3a83113af1b",
    "deepnote_cell_type": "code",
    "deepnote_to_be_reexecuted": false,
    "execution_millis": 237,
    "execution_start": 1621971626672,
    "source_hash": "d9912af0"
   },
   "outputs": [],
   "source": [
    "deliveries = pd.read_json(inputs[0], lines=True)\n",
    "products = pd.read_json(inputs[1], lines=True)\n",
    "sessions = pd.read_json(inputs[2], lines=True)\n",
    "users = pd.read_json(inputs[3], lines=True)"
   ]
  },
  {
   "cell_type": "markdown",
   "metadata": {
    "cell_id": "00007-8c9a8516-3c5e-43e4-977f-f57945ab6268",
    "deepnote_cell_type": "text-cell-p",
    "tags": []
   },
   "source": [
    "USERS"
   ]
  },
  {
   "cell_type": "code",
   "execution_count": 4,
   "metadata": {
    "cell_id": "00007-8ed382e9-256c-4430-aa81-c620b302633e",
    "deepnote_cell_type": "code",
    "deepnote_to_be_reexecuted": false,
    "execution_millis": 9,
    "execution_start": 1621971626917,
    "source_hash": "1cdee671"
   },
   "outputs": [
    {
     "data": {
      "text/plain": [
       "user_id    200\n",
       "name       200\n",
       "city       200\n",
       "street     200\n",
       "dtype: int64"
      ]
     },
     "execution_count": 4,
     "metadata": {},
     "output_type": "execute_result"
    }
   ],
   "source": [
    "users.count()"
   ]
  },
  {
   "cell_type": "code",
   "execution_count": 5,
   "metadata": {
    "cell_id": "00008-dcb4e253-658a-42b3-b4eb-dd4543af37fe",
    "deepnote_cell_type": "code",
    "deepnote_to_be_reexecuted": false,
    "execution_millis": 54,
    "execution_start": 1621971626922,
    "source_hash": "43709f6a"
   },
   "outputs": [
    {
     "data": {
      "text/html": [
       "<div>\n",
       "<style scoped>\n",
       "    .dataframe tbody tr th:only-of-type {\n",
       "        vertical-align: middle;\n",
       "    }\n",
       "\n",
       "    .dataframe tbody tr th {\n",
       "        vertical-align: top;\n",
       "    }\n",
       "\n",
       "    .dataframe thead th {\n",
       "        text-align: right;\n",
       "    }\n",
       "</style>\n",
       "<table border=\"1\" class=\"dataframe\">\n",
       "  <thead>\n",
       "    <tr style=\"text-align: right;\">\n",
       "      <th></th>\n",
       "      <th>user_id</th>\n",
       "      <th>name</th>\n",
       "      <th>city</th>\n",
       "      <th>street</th>\n",
       "    </tr>\n",
       "  </thead>\n",
       "  <tbody>\n",
       "    <tr>\n",
       "      <th>131</th>\n",
       "      <td>233</td>\n",
       "      <td>Radosław Cyganik</td>\n",
       "      <td>Warszawa</td>\n",
       "      <td>aleja Fabryczna 920</td>\n",
       "    </tr>\n",
       "    <tr>\n",
       "      <th>108</th>\n",
       "      <td>210</td>\n",
       "      <td>Nataniel Kołaczyk</td>\n",
       "      <td>Szczecin</td>\n",
       "      <td>ul. Jagodowa 11/54</td>\n",
       "    </tr>\n",
       "    <tr>\n",
       "      <th>13</th>\n",
       "      <td>115</td>\n",
       "      <td>Nicole Guziak</td>\n",
       "      <td>Police</td>\n",
       "      <td>ulica Lotnicza 75/22</td>\n",
       "    </tr>\n",
       "  </tbody>\n",
       "</table>\n",
       "</div>"
      ],
      "text/plain": [
       "     user_id               name      city                street\n",
       "131      233   Radosław Cyganik  Warszawa   aleja Fabryczna 920\n",
       "108      210  Nataniel Kołaczyk  Szczecin    ul. Jagodowa 11/54\n",
       "13       115      Nicole Guziak    Police  ulica Lotnicza 75/22"
      ]
     },
     "execution_count": 5,
     "metadata": {},
     "output_type": "execute_result"
    }
   ],
   "source": [
    "users.sample(3)"
   ]
  },
  {
   "cell_type": "code",
   "execution_count": 6,
   "metadata": {
    "cell_id": "00009-aeda4f58-069b-4fa4-b3be-916753aa6e86",
    "deepnote_cell_type": "code",
    "deepnote_to_be_reexecuted": false,
    "execution_millis": 21,
    "execution_start": 1621971626955,
    "source_hash": "2d406d49",
    "tags": []
   },
   "outputs": [
    {
     "data": {
      "text/plain": [
       "200"
      ]
     },
     "execution_count": 6,
     "metadata": {},
     "output_type": "execute_result"
    }
   ],
   "source": [
    "# nie ma dwóch użytkowników o takich samych imionach i nazwiskach\n",
    "users.name.nunique()"
   ]
  },
  {
   "cell_type": "markdown",
   "metadata": {
    "cell_id": "00011-27cd97eb-fd8f-4a9a-a52d-a70cfb642a43",
    "deepnote_cell_type": "text-cell-p",
    "tags": []
   },
   "source": [
    "DELIVERIES"
   ]
  },
  {
   "cell_type": "code",
   "execution_count": 7,
   "metadata": {
    "cell_id": "00011-13f10d5d-0e85-49c0-b5d1-f788cebb6192",
    "deepnote_cell_type": "code",
    "deepnote_to_be_reexecuted": false,
    "execution_millis": 12,
    "execution_start": 1621971626964,
    "source_hash": "76baac2a"
   },
   "outputs": [
    {
     "data": {
      "text/plain": [
       "purchase_id           6339\n",
       "purchase_timestamp    6339\n",
       "delivery_timestamp    6339\n",
       "delivery_company      6339\n",
       "dtype: int64"
      ]
     },
     "execution_count": 7,
     "metadata": {},
     "output_type": "execute_result"
    }
   ],
   "source": [
    "deliveries.count()"
   ]
  },
  {
   "cell_type": "code",
   "execution_count": 8,
   "metadata": {
    "cell_id": "00012-13be79e4-fdb4-4c5f-a120-3c4b34db5434",
    "deepnote_cell_type": "code",
    "deepnote_to_be_reexecuted": false,
    "execution_millis": 8,
    "execution_start": 1621971626997,
    "source_hash": "91513beb"
   },
   "outputs": [
    {
     "data": {
      "text/html": [
       "<div>\n",
       "<style scoped>\n",
       "    .dataframe tbody tr th:only-of-type {\n",
       "        vertical-align: middle;\n",
       "    }\n",
       "\n",
       "    .dataframe tbody tr th {\n",
       "        vertical-align: top;\n",
       "    }\n",
       "\n",
       "    .dataframe thead th {\n",
       "        text-align: right;\n",
       "    }\n",
       "</style>\n",
       "<table border=\"1\" class=\"dataframe\">\n",
       "  <thead>\n",
       "    <tr style=\"text-align: right;\">\n",
       "      <th></th>\n",
       "      <th>purchase_id</th>\n",
       "      <th>purchase_timestamp</th>\n",
       "      <th>delivery_timestamp</th>\n",
       "      <th>delivery_company</th>\n",
       "    </tr>\n",
       "  </thead>\n",
       "  <tbody>\n",
       "    <tr>\n",
       "      <th>3287</th>\n",
       "      <td>23288</td>\n",
       "      <td>2021-03-23T10:44:58</td>\n",
       "      <td>2021-03-28T10:47:55</td>\n",
       "      <td>620</td>\n",
       "    </tr>\n",
       "    <tr>\n",
       "      <th>4187</th>\n",
       "      <td>24188</td>\n",
       "      <td>2021-04-04T10:26:58</td>\n",
       "      <td>2021-04-08T10:29:12</td>\n",
       "      <td>620</td>\n",
       "    </tr>\n",
       "    <tr>\n",
       "      <th>4898</th>\n",
       "      <td>24899</td>\n",
       "      <td>2021-02-09T04:06:52</td>\n",
       "      <td>2021-02-11T04:09:45</td>\n",
       "      <td>516</td>\n",
       "    </tr>\n",
       "  </tbody>\n",
       "</table>\n",
       "</div>"
      ],
      "text/plain": [
       "      purchase_id   purchase_timestamp   delivery_timestamp  delivery_company\n",
       "3287        23288  2021-03-23T10:44:58  2021-03-28T10:47:55               620\n",
       "4187        24188  2021-04-04T10:26:58  2021-04-08T10:29:12               620\n",
       "4898        24899  2021-02-09T04:06:52  2021-02-11T04:09:45               516"
      ]
     },
     "execution_count": 8,
     "metadata": {},
     "output_type": "execute_result"
    }
   ],
   "source": [
    "deliveries.sample(3)"
   ]
  },
  {
   "cell_type": "code",
   "execution_count": 9,
   "metadata": {
    "cell_id": "00013-2dd98884-e064-4677-b542-f469eab85e15",
    "deepnote_cell_type": "code",
    "deepnote_to_be_reexecuted": false,
    "execution_millis": 7,
    "execution_start": 1621971626998,
    "source_hash": "d338b6ad",
    "tags": []
   },
   "outputs": [
    {
     "name": "stdout",
     "output_type": "stream",
     "text": [
      "<class 'pandas.core.frame.DataFrame'>\n",
      "RangeIndex: 6339 entries, 0 to 6338\n",
      "Data columns (total 4 columns):\n",
      " #   Column              Non-Null Count  Dtype \n",
      "---  ------              --------------  ----- \n",
      " 0   purchase_id         6339 non-null   int64 \n",
      " 1   purchase_timestamp  6339 non-null   object\n",
      " 2   delivery_timestamp  6339 non-null   object\n",
      " 3   delivery_company    6339 non-null   int64 \n",
      "dtypes: int64(2), object(2)\n",
      "memory usage: 198.2+ KB\n"
     ]
    }
   ],
   "source": [
    "deliveries.info()"
   ]
  },
  {
   "cell_type": "code",
   "execution_count": 10,
   "metadata": {
    "cell_id": "00014-5a3f5916-92f2-41eb-a148-a937275532c6",
    "deepnote_cell_type": "code",
    "deepnote_to_be_reexecuted": false,
    "execution_millis": 11,
    "execution_start": 1621971627008,
    "source_hash": "fb6c217d",
    "tags": []
   },
   "outputs": [
    {
     "data": {
      "text/html": [
       "<div>\n",
       "<style scoped>\n",
       "    .dataframe tbody tr th:only-of-type {\n",
       "        vertical-align: middle;\n",
       "    }\n",
       "\n",
       "    .dataframe tbody tr th {\n",
       "        vertical-align: top;\n",
       "    }\n",
       "\n",
       "    .dataframe thead th {\n",
       "        text-align: right;\n",
       "    }\n",
       "</style>\n",
       "<table border=\"1\" class=\"dataframe\">\n",
       "  <thead>\n",
       "    <tr style=\"text-align: right;\">\n",
       "      <th></th>\n",
       "      <th>total_missing</th>\n",
       "      <th>perc_missing</th>\n",
       "    </tr>\n",
       "  </thead>\n",
       "  <tbody>\n",
       "    <tr>\n",
       "      <th>purchase_id</th>\n",
       "      <td>0</td>\n",
       "      <td>0.0</td>\n",
       "    </tr>\n",
       "    <tr>\n",
       "      <th>purchase_timestamp</th>\n",
       "      <td>0</td>\n",
       "      <td>0.0</td>\n",
       "    </tr>\n",
       "    <tr>\n",
       "      <th>delivery_timestamp</th>\n",
       "      <td>0</td>\n",
       "      <td>0.0</td>\n",
       "    </tr>\n",
       "    <tr>\n",
       "      <th>delivery_company</th>\n",
       "      <td>0</td>\n",
       "      <td>0.0</td>\n",
       "    </tr>\n",
       "  </tbody>\n",
       "</table>\n",
       "</div>"
      ],
      "text/plain": [
       "                    total_missing  perc_missing\n",
       "purchase_id                     0           0.0\n",
       "purchase_timestamp              0           0.0\n",
       "delivery_timestamp              0           0.0\n",
       "delivery_company                0           0.0"
      ]
     },
     "execution_count": 10,
     "metadata": {},
     "output_type": "execute_result"
    }
   ],
   "source": [
    "pd.DataFrame({'total_missing': deliveries.isnull().sum(), 'perc_missing': (deliveries.isnull().sum()/deliveries.purchase_id.count())*100})"
   ]
  },
  {
   "cell_type": "markdown",
   "metadata": {
    "cell_id": "00016-7a06a702-f88a-4d3a-b8c8-da128c5d8849",
    "deepnote_cell_type": "markdown",
    "tags": []
   },
   "source": [
    "SESSIONS"
   ]
  },
  {
   "cell_type": "code",
   "execution_count": 11,
   "metadata": {
    "cell_id": "00015-227045fb-e8c8-4a2a-ac07-65187a028a44",
    "deepnote_cell_type": "code",
    "deepnote_to_be_reexecuted": false,
    "execution_millis": 8,
    "execution_start": 1621971627049,
    "source_hash": "6c9b89b6"
   },
   "outputs": [
    {
     "data": {
      "text/html": [
       "<div>\n",
       "<style scoped>\n",
       "    .dataframe tbody tr th:only-of-type {\n",
       "        vertical-align: middle;\n",
       "    }\n",
       "\n",
       "    .dataframe tbody tr th {\n",
       "        vertical-align: top;\n",
       "    }\n",
       "\n",
       "    .dataframe thead th {\n",
       "        text-align: right;\n",
       "    }\n",
       "</style>\n",
       "<table border=\"1\" class=\"dataframe\">\n",
       "  <thead>\n",
       "    <tr style=\"text-align: right;\">\n",
       "      <th></th>\n",
       "      <th>session_id</th>\n",
       "      <th>user_id</th>\n",
       "      <th>product_id</th>\n",
       "      <th>offered_discount</th>\n",
       "      <th>purchase_id</th>\n",
       "    </tr>\n",
       "  </thead>\n",
       "  <tbody>\n",
       "    <tr>\n",
       "      <th>count</th>\n",
       "      <td>37169.000000</td>\n",
       "      <td>37169.000000</td>\n",
       "      <td>37169.000000</td>\n",
       "      <td>37169.000000</td>\n",
       "      <td>6339.00000</td>\n",
       "    </tr>\n",
       "    <tr>\n",
       "      <th>mean</th>\n",
       "      <td>104916.144421</td>\n",
       "      <td>201.799645</td>\n",
       "      <td>1126.983911</td>\n",
       "      <td>4.875434</td>\n",
       "      <td>23170.00000</td>\n",
       "    </tr>\n",
       "    <tr>\n",
       "      <th>std</th>\n",
       "      <td>2833.445266</td>\n",
       "      <td>57.784774</td>\n",
       "      <td>118.472731</td>\n",
       "      <td>6.986422</td>\n",
       "      <td>1830.05601</td>\n",
       "    </tr>\n",
       "    <tr>\n",
       "      <th>min</th>\n",
       "      <td>100001.000000</td>\n",
       "      <td>102.000000</td>\n",
       "      <td>1001.000000</td>\n",
       "      <td>0.000000</td>\n",
       "      <td>20001.00000</td>\n",
       "    </tr>\n",
       "    <tr>\n",
       "      <th>25%</th>\n",
       "      <td>102467.000000</td>\n",
       "      <td>151.000000</td>\n",
       "      <td>1036.000000</td>\n",
       "      <td>0.000000</td>\n",
       "      <td>21585.50000</td>\n",
       "    </tr>\n",
       "    <tr>\n",
       "      <th>50%</th>\n",
       "      <td>104891.000000</td>\n",
       "      <td>198.000000</td>\n",
       "      <td>1067.000000</td>\n",
       "      <td>0.000000</td>\n",
       "      <td>23170.00000</td>\n",
       "    </tr>\n",
       "    <tr>\n",
       "      <th>75%</th>\n",
       "      <td>107403.000000</td>\n",
       "      <td>252.000000</td>\n",
       "      <td>1278.000000</td>\n",
       "      <td>10.000000</td>\n",
       "      <td>24754.50000</td>\n",
       "    </tr>\n",
       "    <tr>\n",
       "      <th>max</th>\n",
       "      <td>109837.000000</td>\n",
       "      <td>301.000000</td>\n",
       "      <td>1319.000000</td>\n",
       "      <td>20.000000</td>\n",
       "      <td>26339.00000</td>\n",
       "    </tr>\n",
       "  </tbody>\n",
       "</table>\n",
       "</div>"
      ],
      "text/plain": [
       "          session_id       user_id    product_id  offered_discount  \\\n",
       "count   37169.000000  37169.000000  37169.000000      37169.000000   \n",
       "mean   104916.144421    201.799645   1126.983911          4.875434   \n",
       "std      2833.445266     57.784774    118.472731          6.986422   \n",
       "min    100001.000000    102.000000   1001.000000          0.000000   \n",
       "25%    102467.000000    151.000000   1036.000000          0.000000   \n",
       "50%    104891.000000    198.000000   1067.000000          0.000000   \n",
       "75%    107403.000000    252.000000   1278.000000         10.000000   \n",
       "max    109837.000000    301.000000   1319.000000         20.000000   \n",
       "\n",
       "       purchase_id  \n",
       "count   6339.00000  \n",
       "mean   23170.00000  \n",
       "std     1830.05601  \n",
       "min    20001.00000  \n",
       "25%    21585.50000  \n",
       "50%    23170.00000  \n",
       "75%    24754.50000  \n",
       "max    26339.00000  "
      ]
     },
     "execution_count": 11,
     "metadata": {},
     "output_type": "execute_result"
    }
   ],
   "source": [
    "sessions.describe()"
   ]
  },
  {
   "cell_type": "code",
   "execution_count": 12,
   "metadata": {
    "cell_id": "00016-4f1e07c5-836a-46f4-828a-dfb69d6ca8ba",
    "deepnote_cell_type": "code",
    "deepnote_to_be_reexecuted": false,
    "execution_millis": 6,
    "execution_start": 1621971627077,
    "source_hash": "8436f832"
   },
   "outputs": [
    {
     "data": {
      "text/html": [
       "<div>\n",
       "<style scoped>\n",
       "    .dataframe tbody tr th:only-of-type {\n",
       "        vertical-align: middle;\n",
       "    }\n",
       "\n",
       "    .dataframe tbody tr th {\n",
       "        vertical-align: top;\n",
       "    }\n",
       "\n",
       "    .dataframe thead th {\n",
       "        text-align: right;\n",
       "    }\n",
       "</style>\n",
       "<table border=\"1\" class=\"dataframe\">\n",
       "  <thead>\n",
       "    <tr style=\"text-align: right;\">\n",
       "      <th></th>\n",
       "      <th>session_id</th>\n",
       "      <th>timestamp</th>\n",
       "      <th>user_id</th>\n",
       "      <th>product_id</th>\n",
       "      <th>event_type</th>\n",
       "      <th>offered_discount</th>\n",
       "      <th>purchase_id</th>\n",
       "    </tr>\n",
       "  </thead>\n",
       "  <tbody>\n",
       "    <tr>\n",
       "      <th>13834</th>\n",
       "      <td>103657</td>\n",
       "      <td>2021-04-13 06:39:46</td>\n",
       "      <td>176</td>\n",
       "      <td>1201</td>\n",
       "      <td>VIEW_PRODUCT</td>\n",
       "      <td>15</td>\n",
       "      <td>NaN</td>\n",
       "    </tr>\n",
       "    <tr>\n",
       "      <th>27997</th>\n",
       "      <td>107431</td>\n",
       "      <td>2021-04-06 12:42:41</td>\n",
       "      <td>252</td>\n",
       "      <td>1201</td>\n",
       "      <td>VIEW_PRODUCT</td>\n",
       "      <td>0</td>\n",
       "      <td>NaN</td>\n",
       "    </tr>\n",
       "    <tr>\n",
       "      <th>11498</th>\n",
       "      <td>103034</td>\n",
       "      <td>2021-03-19 08:44:23</td>\n",
       "      <td>166</td>\n",
       "      <td>1053</td>\n",
       "      <td>VIEW_PRODUCT</td>\n",
       "      <td>0</td>\n",
       "      <td>NaN</td>\n",
       "    </tr>\n",
       "  </tbody>\n",
       "</table>\n",
       "</div>"
      ],
      "text/plain": [
       "       session_id           timestamp  user_id  product_id    event_type  \\\n",
       "13834      103657 2021-04-13 06:39:46      176        1201  VIEW_PRODUCT   \n",
       "27997      107431 2021-04-06 12:42:41      252        1201  VIEW_PRODUCT   \n",
       "11498      103034 2021-03-19 08:44:23      166        1053  VIEW_PRODUCT   \n",
       "\n",
       "       offered_discount  purchase_id  \n",
       "13834                15          NaN  \n",
       "27997                 0          NaN  \n",
       "11498                 0          NaN  "
      ]
     },
     "execution_count": 12,
     "metadata": {},
     "output_type": "execute_result"
    }
   ],
   "source": [
    "sessions.sample(3)"
   ]
  },
  {
   "cell_type": "code",
   "execution_count": 13,
   "metadata": {
    "cell_id": "00017-ed9c714b-8faf-4737-a395-0c4bbcc1ac72",
    "deepnote_cell_type": "code",
    "deepnote_to_be_reexecuted": false,
    "execution_millis": 12,
    "execution_start": 1621971627114,
    "source_hash": "d39f9289",
    "tags": []
   },
   "outputs": [
    {
     "name": "stdout",
     "output_type": "stream",
     "text": [
      "<class 'pandas.core.frame.DataFrame'>\n",
      "RangeIndex: 37169 entries, 0 to 37168\n",
      "Data columns (total 7 columns):\n",
      " #   Column            Non-Null Count  Dtype         \n",
      "---  ------            --------------  -----         \n",
      " 0   session_id        37169 non-null  int64         \n",
      " 1   timestamp         37169 non-null  datetime64[ns]\n",
      " 2   user_id           37169 non-null  int64         \n",
      " 3   product_id        37169 non-null  int64         \n",
      " 4   event_type        37169 non-null  object        \n",
      " 5   offered_discount  37169 non-null  int64         \n",
      " 6   purchase_id       6339 non-null   float64       \n",
      "dtypes: datetime64[ns](1), float64(1), int64(4), object(1)\n",
      "memory usage: 2.0+ MB\n"
     ]
    }
   ],
   "source": [
    "sessions.info()"
   ]
  },
  {
   "cell_type": "code",
   "execution_count": 14,
   "metadata": {
    "cell_id": "00018-35c1438a-0719-42c1-aa97-b3fca214647b",
    "deepnote_cell_type": "code",
    "deepnote_to_be_reexecuted": false,
    "execution_millis": 10,
    "execution_start": 1621971627116,
    "source_hash": "9b009c2b",
    "tags": []
   },
   "outputs": [
    {
     "data": {
      "text/html": [
       "<div>\n",
       "<style scoped>\n",
       "    .dataframe tbody tr th:only-of-type {\n",
       "        vertical-align: middle;\n",
       "    }\n",
       "\n",
       "    .dataframe tbody tr th {\n",
       "        vertical-align: top;\n",
       "    }\n",
       "\n",
       "    .dataframe thead th {\n",
       "        text-align: right;\n",
       "    }\n",
       "</style>\n",
       "<table border=\"1\" class=\"dataframe\">\n",
       "  <thead>\n",
       "    <tr style=\"text-align: right;\">\n",
       "      <th></th>\n",
       "      <th>total_missing</th>\n",
       "      <th>perc_missing</th>\n",
       "    </tr>\n",
       "  </thead>\n",
       "  <tbody>\n",
       "    <tr>\n",
       "      <th>session_id</th>\n",
       "      <td>0</td>\n",
       "      <td>0.000000</td>\n",
       "    </tr>\n",
       "    <tr>\n",
       "      <th>timestamp</th>\n",
       "      <td>0</td>\n",
       "      <td>0.000000</td>\n",
       "    </tr>\n",
       "    <tr>\n",
       "      <th>user_id</th>\n",
       "      <td>0</td>\n",
       "      <td>0.000000</td>\n",
       "    </tr>\n",
       "    <tr>\n",
       "      <th>product_id</th>\n",
       "      <td>0</td>\n",
       "      <td>0.000000</td>\n",
       "    </tr>\n",
       "    <tr>\n",
       "      <th>event_type</th>\n",
       "      <td>0</td>\n",
       "      <td>0.000000</td>\n",
       "    </tr>\n",
       "    <tr>\n",
       "      <th>offered_discount</th>\n",
       "      <td>0</td>\n",
       "      <td>0.000000</td>\n",
       "    </tr>\n",
       "    <tr>\n",
       "      <th>purchase_id</th>\n",
       "      <td>30830</td>\n",
       "      <td>82.945465</td>\n",
       "    </tr>\n",
       "  </tbody>\n",
       "</table>\n",
       "</div>"
      ],
      "text/plain": [
       "                  total_missing  perc_missing\n",
       "session_id                    0      0.000000\n",
       "timestamp                     0      0.000000\n",
       "user_id                       0      0.000000\n",
       "product_id                    0      0.000000\n",
       "event_type                    0      0.000000\n",
       "offered_discount              0      0.000000\n",
       "purchase_id               30830     82.945465"
      ]
     },
     "execution_count": 14,
     "metadata": {},
     "output_type": "execute_result"
    }
   ],
   "source": [
    "pd.DataFrame({'total_missing': sessions.isnull().sum(), 'perc_missing': (sessions.isnull().sum()/sessions.session_id.count())*100})"
   ]
  },
  {
   "cell_type": "code",
   "execution_count": 15,
   "metadata": {
    "cell_id": "00031-152a27f7-4c1e-4a0b-8991-706748c93ddf",
    "deepnote_cell_type": "code",
    "deepnote_to_be_reexecuted": false,
    "execution_millis": 173,
    "execution_start": 1621971627123,
    "source_hash": "d712c03a",
    "tags": []
   },
   "outputs": [
    {
     "data": {
      "image/png": "[encoded data removed]",
      "text/plain": [
       "<Figure size 432x288 with 1 Axes>"
      ]
     },
     "metadata": {
      "needs_background": "light"
     },
     "output_type": "display_data"
    }
   ],
   "source": [
    "# nie ma żadnych wartości odstających do poprawienia\n",
    "numerical_columns = [\"offered_discount\"]\n",
    "sessions[numerical_columns].boxplot()\n",
    "plt.title(\"offered discount boxplot\")\n",
    "plt.show()"
   ]
  },
  {
   "cell_type": "code",
   "execution_count": 16,
   "metadata": {
    "cell_id": "00033-de9a20b7-ba6c-4799-b092-7d3689b881c7",
    "deepnote_cell_type": "code",
    "deepnote_to_be_reexecuted": false,
    "execution_millis": 15,
    "execution_start": 1621971627467,
    "source_hash": "35dc849a",
    "tags": []
   },
   "outputs": [
    {
     "data": {
      "text/plain": [
       "0"
      ]
     },
     "execution_count": 16,
     "metadata": {},
     "output_type": "execute_result"
    }
   ],
   "source": [
    "# ile brakuje purchase_id gdy typ sesji to BUY_PRODUCT?\n",
    "sessions[sessions.event_type==\"BUY_PRODUCT\"].purchase_id.isna().sum()"
   ]
  },
  {
   "cell_type": "markdown",
   "metadata": {
    "cell_id": "00034-b7498bf5-6209-4e08-8108-51ff043ffed2",
    "deepnote_cell_type": "markdown",
    "tags": []
   },
   "source": [
    "Gdy ktoś kupuje produkt, zawsze znamy id tego produktu."
   ]
  },
  {
   "cell_type": "code",
   "execution_count": 17,
   "metadata": {
    "cell_id": "00035-2519df6f-b9fd-40e7-9133-640af5e23ba0",
    "deepnote_cell_type": "code",
    "deepnote_to_be_reexecuted": false,
    "execution_millis": 16,
    "execution_start": 1621971627509,
    "source_hash": "2d35c6d8",
    "tags": []
   },
   "outputs": [
    {
     "data": {
      "text/plain": [
       "0"
      ]
     },
     "execution_count": 17,
     "metadata": {},
     "output_type": "execute_result"
    }
   ],
   "source": [
    "# ile sesji typu VIEW_PRODUCT ma purchase_id (prawdopodobnie niepotrzebne informacje)?\n",
    "sessions[sessions.event_type==\"VIEW_PRODUCT\"].purchase_id.notna().sum()"
   ]
  },
  {
   "cell_type": "markdown",
   "metadata": {},
   "source": [
    "Usuwamy sesje VIEW_PRODUCT, jeśli po nich wystąpiły sesje BUY_PRODUCT o tym samym session_id i user_id, ponieważ wtedy wiemy, że dany użytkownik w danej sesji kupił dany produkt, a nie tylko go oglądał."
   ]
  },
  {
   "cell_type": "code",
   "execution_count": 18,
   "metadata": {},
   "outputs": [
    {
     "data": {
      "text/html": [
       "<div>\n",
       "<style scoped>\n",
       "    .dataframe tbody tr th:only-of-type {\n",
       "        vertical-align: middle;\n",
       "    }\n",
       "\n",
       "    .dataframe tbody tr th {\n",
       "        vertical-align: top;\n",
       "    }\n",
       "\n",
       "    .dataframe thead th {\n",
       "        text-align: right;\n",
       "    }\n",
       "</style>\n",
       "<table border=\"1\" class=\"dataframe\">\n",
       "  <thead>\n",
       "    <tr style=\"text-align: right;\">\n",
       "      <th></th>\n",
       "      <th>session_id</th>\n",
       "      <th>product_id</th>\n",
       "      <th>has_been_bought</th>\n",
       "    </tr>\n",
       "  </thead>\n",
       "  <tbody>\n",
       "    <tr>\n",
       "      <th>2</th>\n",
       "      <td>100001</td>\n",
       "      <td>1278</td>\n",
       "      <td>True</td>\n",
       "    </tr>\n",
       "    <tr>\n",
       "      <th>4</th>\n",
       "      <td>100002</td>\n",
       "      <td>1278</td>\n",
       "      <td>True</td>\n",
       "    </tr>\n",
       "    <tr>\n",
       "      <th>6</th>\n",
       "      <td>100003</td>\n",
       "      <td>1276</td>\n",
       "      <td>True</td>\n",
       "    </tr>\n",
       "    <tr>\n",
       "      <th>9</th>\n",
       "      <td>100005</td>\n",
       "      <td>1319</td>\n",
       "      <td>True</td>\n",
       "    </tr>\n",
       "    <tr>\n",
       "      <th>13</th>\n",
       "      <td>100007</td>\n",
       "      <td>1001</td>\n",
       "      <td>True</td>\n",
       "    </tr>\n",
       "    <tr>\n",
       "      <th>...</th>\n",
       "      <td>...</td>\n",
       "      <td>...</td>\n",
       "      <td>...</td>\n",
       "    </tr>\n",
       "    <tr>\n",
       "      <th>37094</th>\n",
       "      <td>109820</td>\n",
       "      <td>1318</td>\n",
       "      <td>True</td>\n",
       "    </tr>\n",
       "    <tr>\n",
       "      <th>37105</th>\n",
       "      <td>109821</td>\n",
       "      <td>1057</td>\n",
       "      <td>True</td>\n",
       "    </tr>\n",
       "    <tr>\n",
       "      <th>37115</th>\n",
       "      <td>109822</td>\n",
       "      <td>1048</td>\n",
       "      <td>True</td>\n",
       "    </tr>\n",
       "    <tr>\n",
       "      <th>37123</th>\n",
       "      <td>109824</td>\n",
       "      <td>1042</td>\n",
       "      <td>True</td>\n",
       "    </tr>\n",
       "    <tr>\n",
       "      <th>37135</th>\n",
       "      <td>109829</td>\n",
       "      <td>1001</td>\n",
       "      <td>True</td>\n",
       "    </tr>\n",
       "  </tbody>\n",
       "</table>\n",
       "<p>6339 rows × 3 columns</p>\n",
       "</div>"
      ],
      "text/plain": [
       "       session_id  product_id  has_been_bought\n",
       "2          100001        1278             True\n",
       "4          100002        1278             True\n",
       "6          100003        1276             True\n",
       "9          100005        1319             True\n",
       "13         100007        1001             True\n",
       "...           ...         ...              ...\n",
       "37094      109820        1318             True\n",
       "37105      109821        1057             True\n",
       "37115      109822        1048             True\n",
       "37123      109824        1042             True\n",
       "37135      109829        1001             True\n",
       "\n",
       "[6339 rows x 3 columns]"
      ]
     },
     "execution_count": 18,
     "metadata": {},
     "output_type": "execute_result"
    }
   ],
   "source": [
    "session_ids_product_ids = sessions[sessions.event_type==\"BUY_PRODUCT\"][[\"session_id\", \"product_id\"]]\n",
    "session_ids_product_ids[\"has_been_bought\"] = True\n",
    "session_ids_product_ids"
   ]
  },
  {
   "cell_type": "code",
   "execution_count": 19,
   "metadata": {},
   "outputs": [],
   "source": [
    "sessions = sessions.merge(session_ids_product_ids, on=[\"session_id\", \"product_id\"], how=\"left\")"
   ]
  },
  {
   "cell_type": "code",
   "execution_count": 20,
   "metadata": {},
   "outputs": [
    {
     "data": {
      "text/html": [
       "<div>\n",
       "<style scoped>\n",
       "    .dataframe tbody tr th:only-of-type {\n",
       "        vertical-align: middle;\n",
       "    }\n",
       "\n",
       "    .dataframe tbody tr th {\n",
       "        vertical-align: top;\n",
       "    }\n",
       "\n",
       "    .dataframe thead th {\n",
       "        text-align: right;\n",
       "    }\n",
       "</style>\n",
       "<table border=\"1\" class=\"dataframe\">\n",
       "  <thead>\n",
       "    <tr style=\"text-align: right;\">\n",
       "      <th></th>\n",
       "      <th>session_id</th>\n",
       "      <th>timestamp</th>\n",
       "      <th>user_id</th>\n",
       "      <th>product_id</th>\n",
       "      <th>event_type</th>\n",
       "      <th>offered_discount</th>\n",
       "      <th>purchase_id</th>\n",
       "    </tr>\n",
       "  </thead>\n",
       "  <tbody>\n",
       "    <tr>\n",
       "      <th>0</th>\n",
       "      <td>100001</td>\n",
       "      <td>2021-02-09 13:37:03</td>\n",
       "      <td>102</td>\n",
       "      <td>1281</td>\n",
       "      <td>VIEW_PRODUCT</td>\n",
       "      <td>0</td>\n",
       "      <td>NaN</td>\n",
       "    </tr>\n",
       "    <tr>\n",
       "      <th>2</th>\n",
       "      <td>100001</td>\n",
       "      <td>2021-02-09 13:40:37</td>\n",
       "      <td>102</td>\n",
       "      <td>1278</td>\n",
       "      <td>BUY_PRODUCT</td>\n",
       "      <td>0</td>\n",
       "      <td>20001.0</td>\n",
       "    </tr>\n",
       "    <tr>\n",
       "      <th>4</th>\n",
       "      <td>100002</td>\n",
       "      <td>2020-06-28 17:55:46</td>\n",
       "      <td>102</td>\n",
       "      <td>1278</td>\n",
       "      <td>BUY_PRODUCT</td>\n",
       "      <td>0</td>\n",
       "      <td>20002.0</td>\n",
       "    </tr>\n",
       "    <tr>\n",
       "      <th>6</th>\n",
       "      <td>100003</td>\n",
       "      <td>2020-12-27 06:31:55</td>\n",
       "      <td>102</td>\n",
       "      <td>1276</td>\n",
       "      <td>BUY_PRODUCT</td>\n",
       "      <td>0</td>\n",
       "      <td>20003.0</td>\n",
       "    </tr>\n",
       "    <tr>\n",
       "      <th>7</th>\n",
       "      <td>100004</td>\n",
       "      <td>2021-02-13 01:14:18</td>\n",
       "      <td>102</td>\n",
       "      <td>1001</td>\n",
       "      <td>VIEW_PRODUCT</td>\n",
       "      <td>0</td>\n",
       "      <td>NaN</td>\n",
       "    </tr>\n",
       "    <tr>\n",
       "      <th>...</th>\n",
       "      <td>...</td>\n",
       "      <td>...</td>\n",
       "      <td>...</td>\n",
       "      <td>...</td>\n",
       "      <td>...</td>\n",
       "      <td>...</td>\n",
       "      <td>...</td>\n",
       "    </tr>\n",
       "    <tr>\n",
       "      <th>37164</th>\n",
       "      <td>109837</td>\n",
       "      <td>2021-03-27 04:50:19</td>\n",
       "      <td>301</td>\n",
       "      <td>1288</td>\n",
       "      <td>VIEW_PRODUCT</td>\n",
       "      <td>5</td>\n",
       "      <td>NaN</td>\n",
       "    </tr>\n",
       "    <tr>\n",
       "      <th>37165</th>\n",
       "      <td>109837</td>\n",
       "      <td>2021-03-27 04:51:21</td>\n",
       "      <td>301</td>\n",
       "      <td>1284</td>\n",
       "      <td>VIEW_PRODUCT</td>\n",
       "      <td>5</td>\n",
       "      <td>NaN</td>\n",
       "    </tr>\n",
       "    <tr>\n",
       "      <th>37166</th>\n",
       "      <td>109837</td>\n",
       "      <td>2021-03-27 04:55:13</td>\n",
       "      <td>301</td>\n",
       "      <td>1293</td>\n",
       "      <td>VIEW_PRODUCT</td>\n",
       "      <td>5</td>\n",
       "      <td>NaN</td>\n",
       "    </tr>\n",
       "    <tr>\n",
       "      <th>37167</th>\n",
       "      <td>109837</td>\n",
       "      <td>2021-03-27 04:56:05</td>\n",
       "      <td>301</td>\n",
       "      <td>1289</td>\n",
       "      <td>VIEW_PRODUCT</td>\n",
       "      <td>5</td>\n",
       "      <td>NaN</td>\n",
       "    </tr>\n",
       "    <tr>\n",
       "      <th>37168</th>\n",
       "      <td>109837</td>\n",
       "      <td>2021-03-27 04:59:32</td>\n",
       "      <td>301</td>\n",
       "      <td>1292</td>\n",
       "      <td>VIEW_PRODUCT</td>\n",
       "      <td>5</td>\n",
       "      <td>NaN</td>\n",
       "    </tr>\n",
       "  </tbody>\n",
       "</table>\n",
       "<p>30830 rows × 7 columns</p>\n",
       "</div>"
      ],
      "text/plain": [
       "       session_id           timestamp  user_id  product_id    event_type  \\\n",
       "0          100001 2021-02-09 13:37:03      102        1281  VIEW_PRODUCT   \n",
       "2          100001 2021-02-09 13:40:37      102        1278   BUY_PRODUCT   \n",
       "4          100002 2020-06-28 17:55:46      102        1278   BUY_PRODUCT   \n",
       "6          100003 2020-12-27 06:31:55      102        1276   BUY_PRODUCT   \n",
       "7          100004 2021-02-13 01:14:18      102        1001  VIEW_PRODUCT   \n",
       "...           ...                 ...      ...         ...           ...   \n",
       "37164      109837 2021-03-27 04:50:19      301        1288  VIEW_PRODUCT   \n",
       "37165      109837 2021-03-27 04:51:21      301        1284  VIEW_PRODUCT   \n",
       "37166      109837 2021-03-27 04:55:13      301        1293  VIEW_PRODUCT   \n",
       "37167      109837 2021-03-27 04:56:05      301        1289  VIEW_PRODUCT   \n",
       "37168      109837 2021-03-27 04:59:32      301        1292  VIEW_PRODUCT   \n",
       "\n",
       "       offered_discount  purchase_id  \n",
       "0                     0          NaN  \n",
       "2                     0      20001.0  \n",
       "4                     0      20002.0  \n",
       "6                     0      20003.0  \n",
       "7                     0          NaN  \n",
       "...                 ...          ...  \n",
       "37164                 5          NaN  \n",
       "37165                 5          NaN  \n",
       "37166                 5          NaN  \n",
       "37167                 5          NaN  \n",
       "37168                 5          NaN  \n",
       "\n",
       "[30830 rows x 7 columns]"
      ]
     },
     "execution_count": 20,
     "metadata": {},
     "output_type": "execute_result"
    }
   ],
   "source": [
    "sessions = sessions[~((sessions.event_type==\"VIEW_PRODUCT\") & (sessions.has_been_bought==True))]\n",
    "sessions = sessions.drop(\"has_been_bought\", axis=1)\n",
    "sessions"
   ]
  },
  {
   "cell_type": "markdown",
   "metadata": {
    "cell_id": "00026-4a94d74e-493e-467a-aa2e-c1fec145ce82",
    "deepnote_cell_type": "text-cell-p",
    "tags": []
   },
   "source": [
    "PRODUCTS"
   ]
  },
  {
   "cell_type": "code",
   "execution_count": 21,
   "metadata": {
    "cell_id": "00036-76b530da-3f7c-40ef-bdfa-0ee30e41e9f1",
    "deepnote_cell_type": "code",
    "deepnote_to_be_reexecuted": false,
    "execution_millis": 15,
    "execution_start": 1621971627510,
    "source_hash": "cd78479f",
    "tags": []
   },
   "outputs": [
    {
     "name": "stdout",
     "output_type": "stream",
     "text": [
      "<class 'pandas.core.frame.DataFrame'>\n",
      "RangeIndex: 319 entries, 0 to 318\n",
      "Data columns (total 4 columns):\n",
      " #   Column         Non-Null Count  Dtype  \n",
      "---  ------         --------------  -----  \n",
      " 0   product_id     319 non-null    int64  \n",
      " 1   product_name   319 non-null    object \n",
      " 2   category_path  319 non-null    object \n",
      " 3   price          319 non-null    float64\n",
      "dtypes: float64(1), int64(1), object(2)\n",
      "memory usage: 10.1+ KB\n"
     ]
    }
   ],
   "source": [
    "# brak pustych komóre\n",
    "products.info()"
   ]
  },
  {
   "cell_type": "code",
   "execution_count": 22,
   "metadata": {
    "cell_id": "00037-f10c5e65-5497-4daf-8131-47f197c29f2c",
    "deepnote_cell_type": "code",
    "deepnote_to_be_reexecuted": false,
    "execution_millis": 15,
    "execution_start": 1621971627510,
    "source_hash": "9122d6c8",
    "tags": []
   },
   "outputs": [
    {
     "data": {
      "text/html": [
       "<div>\n",
       "<style scoped>\n",
       "    .dataframe tbody tr th:only-of-type {\n",
       "        vertical-align: middle;\n",
       "    }\n",
       "\n",
       "    .dataframe tbody tr th {\n",
       "        vertical-align: top;\n",
       "    }\n",
       "\n",
       "    .dataframe thead th {\n",
       "        text-align: right;\n",
       "    }\n",
       "</style>\n",
       "<table border=\"1\" class=\"dataframe\">\n",
       "  <thead>\n",
       "    <tr style=\"text-align: right;\">\n",
       "      <th></th>\n",
       "      <th>product_id</th>\n",
       "      <th>product_name</th>\n",
       "      <th>category_path</th>\n",
       "      <th>price</th>\n",
       "    </tr>\n",
       "  </thead>\n",
       "  <tbody>\n",
       "    <tr>\n",
       "      <th>32</th>\n",
       "      <td>1033</td>\n",
       "      <td>LCD Iiyama T1932MSC</td>\n",
       "      <td>Komputery;Monitory;Monitory LCD</td>\n",
       "      <td>3029.00</td>\n",
       "    </tr>\n",
       "    <tr>\n",
       "      <th>292</th>\n",
       "      <td>1293</td>\n",
       "      <td>Hama 44292</td>\n",
       "      <td>Sprzęt RTV;Video;Telewizory i akcesoria;Anteny...</td>\n",
       "      <td>44.99</td>\n",
       "    </tr>\n",
       "    <tr>\n",
       "      <th>112</th>\n",
       "      <td>1113</td>\n",
       "      <td>Borderlands 2 (PC)</td>\n",
       "      <td>Gry i konsole;Gry komputerowe</td>\n",
       "      <td>16.90</td>\n",
       "    </tr>\n",
       "  </tbody>\n",
       "</table>\n",
       "</div>"
      ],
      "text/plain": [
       "     product_id         product_name  \\\n",
       "32         1033  LCD Iiyama T1932MSC   \n",
       "292        1293           Hama 44292   \n",
       "112        1113   Borderlands 2 (PC)   \n",
       "\n",
       "                                         category_path    price  \n",
       "32                     Komputery;Monitory;Monitory LCD  3029.00  \n",
       "292  Sprzęt RTV;Video;Telewizory i akcesoria;Anteny...    44.99  \n",
       "112                      Gry i konsole;Gry komputerowe    16.90  "
      ]
     },
     "execution_count": 22,
     "metadata": {},
     "output_type": "execute_result"
    }
   ],
   "source": [
    "products.sample(3)"
   ]
  },
  {
   "cell_type": "code",
   "execution_count": 23,
   "metadata": {
    "cell_id": "00038-668568d1-6d07-4689-9607-1e99ed5ca20d",
    "deepnote_cell_type": "code",
    "deepnote_to_be_reexecuted": false,
    "execution_millis": 19,
    "execution_start": 1621971627520,
    "source_hash": "6d63a87d"
   },
   "outputs": [
    {
     "data": {
      "text/html": [
       "<div>\n",
       "<style scoped>\n",
       "    .dataframe tbody tr th:only-of-type {\n",
       "        vertical-align: middle;\n",
       "    }\n",
       "\n",
       "    .dataframe tbody tr th {\n",
       "        vertical-align: top;\n",
       "    }\n",
       "\n",
       "    .dataframe thead th {\n",
       "        text-align: right;\n",
       "    }\n",
       "</style>\n",
       "<table border=\"1\" class=\"dataframe\">\n",
       "  <thead>\n",
       "    <tr style=\"text-align: right;\">\n",
       "      <th></th>\n",
       "      <th>product_id</th>\n",
       "      <th>price</th>\n",
       "    </tr>\n",
       "  </thead>\n",
       "  <tbody>\n",
       "    <tr>\n",
       "      <th>count</th>\n",
       "      <td>319.000000</td>\n",
       "      <td>319.000000</td>\n",
       "    </tr>\n",
       "    <tr>\n",
       "      <th>mean</th>\n",
       "      <td>1160.000000</td>\n",
       "      <td>247.787962</td>\n",
       "    </tr>\n",
       "    <tr>\n",
       "      <th>std</th>\n",
       "      <td>92.231593</td>\n",
       "      <td>813.788548</td>\n",
       "    </tr>\n",
       "    <tr>\n",
       "      <th>min</th>\n",
       "      <td>1001.000000</td>\n",
       "      <td>1.000000</td>\n",
       "    </tr>\n",
       "    <tr>\n",
       "      <th>25%</th>\n",
       "      <td>1080.500000</td>\n",
       "      <td>24.990000</td>\n",
       "    </tr>\n",
       "    <tr>\n",
       "      <th>50%</th>\n",
       "      <td>1160.000000</td>\n",
       "      <td>41.000000</td>\n",
       "    </tr>\n",
       "    <tr>\n",
       "      <th>75%</th>\n",
       "      <td>1239.500000</td>\n",
       "      <td>92.995000</td>\n",
       "    </tr>\n",
       "    <tr>\n",
       "      <th>max</th>\n",
       "      <td>1319.000000</td>\n",
       "      <td>7639.000000</td>\n",
       "    </tr>\n",
       "  </tbody>\n",
       "</table>\n",
       "</div>"
      ],
      "text/plain": [
       "        product_id        price\n",
       "count   319.000000   319.000000\n",
       "mean   1160.000000   247.787962\n",
       "std      92.231593   813.788548\n",
       "min    1001.000000     1.000000\n",
       "25%    1080.500000    24.990000\n",
       "50%    1160.000000    41.000000\n",
       "75%    1239.500000    92.995000\n",
       "max    1319.000000  7639.000000"
      ]
     },
     "execution_count": 23,
     "metadata": {},
     "output_type": "execute_result"
    }
   ],
   "source": [
    "products.describe()"
   ]
  },
  {
   "cell_type": "code",
   "execution_count": 24,
   "metadata": {
    "cell_id": "00040-1f573b78-439f-4cf3-aa4e-b4fd1e7294be",
    "deepnote_cell_type": "code",
    "deepnote_to_be_reexecuted": false,
    "execution_millis": 82,
    "execution_start": 1621971627577,
    "source_hash": "713ba29b",
    "tags": []
   },
   "outputs": [
    {
     "data": {
      "image/png": "[encoded data removed]",
      "text/plain": [
       "<Figure size 432x288 with 1 Axes>"
      ]
     },
     "metadata": {
      "needs_background": "light"
     },
     "output_type": "display_data"
    }
   ],
   "source": [
    "numerical_columns = ['price']\n",
    "products[numerical_columns].boxplot()\n",
    "plt.title('Price boxplot')\n",
    "plt.show()"
   ]
  },
  {
   "cell_type": "code",
   "execution_count": 25,
   "metadata": {
    "cell_id": "00042-406b4f9f-359b-47b4-9ee2-3e1eac1e4e17",
    "deepnote_cell_type": "code",
    "deepnote_to_be_reexecuted": false,
    "execution_millis": 8,
    "execution_start": 1621971627673,
    "source_hash": "9f992bda",
    "tags": []
   },
   "outputs": [
    {
     "data": {
      "text/html": [
       "<div>\n",
       "<style scoped>\n",
       "    .dataframe tbody tr th:only-of-type {\n",
       "        vertical-align: middle;\n",
       "    }\n",
       "\n",
       "    .dataframe tbody tr th {\n",
       "        vertical-align: top;\n",
       "    }\n",
       "\n",
       "    .dataframe thead th {\n",
       "        text-align: right;\n",
       "    }\n",
       "</style>\n",
       "<table border=\"1\" class=\"dataframe\">\n",
       "  <thead>\n",
       "    <tr style=\"text-align: right;\">\n",
       "      <th></th>\n",
       "      <th>product_id</th>\n",
       "      <th>product_name</th>\n",
       "      <th>category_path</th>\n",
       "      <th>price</th>\n",
       "    </tr>\n",
       "  </thead>\n",
       "  <tbody>\n",
       "    <tr>\n",
       "      <th>140</th>\n",
       "      <td>1141</td>\n",
       "      <td>Król Futbolu Piłkarski Quiz (PC)</td>\n",
       "      <td>Gry i konsole;Gry komputerowe</td>\n",
       "      <td>1.0</td>\n",
       "    </tr>\n",
       "    <tr>\n",
       "      <th>192</th>\n",
       "      <td>1193</td>\n",
       "      <td>Heroes Over Europe (PC)</td>\n",
       "      <td>Gry i konsole;Gry komputerowe</td>\n",
       "      <td>1.0</td>\n",
       "    </tr>\n",
       "    <tr>\n",
       "      <th>271</th>\n",
       "      <td>1272</td>\n",
       "      <td>The Ball (PC)</td>\n",
       "      <td>Gry i konsole;Gry komputerowe</td>\n",
       "      <td>1.0</td>\n",
       "    </tr>\n",
       "  </tbody>\n",
       "</table>\n",
       "</div>"
      ],
      "text/plain": [
       "     product_id                      product_name  \\\n",
       "140        1141  Król Futbolu Piłkarski Quiz (PC)   \n",
       "192        1193           Heroes Over Europe (PC)   \n",
       "271        1272                     The Ball (PC)   \n",
       "\n",
       "                     category_path  price  \n",
       "140  Gry i konsole;Gry komputerowe    1.0  \n",
       "192  Gry i konsole;Gry komputerowe    1.0  \n",
       "271  Gry i konsole;Gry komputerowe    1.0  "
      ]
     },
     "execution_count": 25,
     "metadata": {},
     "output_type": "execute_result"
    }
   ],
   "source": [
    "products[products['price'] == 1]"
   ]
  },
  {
   "cell_type": "code",
   "execution_count": 26,
   "metadata": {
    "cell_id": "00044-99664b94-c8ef-4a50-82b7-d43ef3302c80",
    "deepnote_cell_type": "code",
    "deepnote_to_be_reexecuted": false,
    "execution_millis": 7,
    "execution_start": 1621971627674,
    "source_hash": "a9fa11cf",
    "tags": []
   },
   "outputs": [
    {
     "data": {
      "text/plain": [
       "product_id       0\n",
       "product_name     0\n",
       "category_path    0\n",
       "price            0\n",
       "dtype: int64"
      ]
     },
     "execution_count": 26,
     "metadata": {},
     "output_type": "execute_result"
    }
   ],
   "source": [
    "# ceny niedodatnie\n",
    "products[products['price'] <= 0].count()"
   ]
  },
  {
   "cell_type": "code",
   "execution_count": 27,
   "metadata": {
    "cell_id": "00048-e15175f3-1cd0-4071-922d-4cf24a86f2d7",
    "deepnote_cell_type": "code",
    "deepnote_to_be_reexecuted": false,
    "execution_millis": 16,
    "execution_start": 1621971627678,
    "source_hash": "2ea6618f",
    "tags": []
   },
   "outputs": [],
   "source": [
    "# merge sessions with products\n",
    "shop_df = sessions.merge(products, on=\"product_id\", how=\"left\")"
   ]
  },
  {
   "cell_type": "code",
   "execution_count": 28,
   "metadata": {
    "cell_id": "00033-205eca2e-9b76-486b-a3b2-dcf0b57552e5",
    "deepnote_cell_type": "code",
    "deepnote_to_be_reexecuted": false,
    "execution_millis": 9,
    "execution_start": 1621971627694,
    "source_hash": "2c30680d",
    "tags": []
   },
   "outputs": [],
   "source": [
    "# merge sessions and products with users\n",
    "shop_df = shop_df.merge(users, on='user_id', how = 'left')"
   ]
  },
  {
   "cell_type": "code",
   "execution_count": 29,
   "metadata": {
    "cell_id": "00036-9603bcac-a731-4cab-b633-4db872721937",
    "deepnote_cell_type": "code",
    "deepnote_to_be_reexecuted": false,
    "execution_millis": 56,
    "execution_start": 1621971627711,
    "source_hash": "f67fa841",
    "tags": []
   },
   "outputs": [
    {
     "data": {
      "text/html": [
       "<div>\n",
       "<style scoped>\n",
       "    .dataframe tbody tr th:only-of-type {\n",
       "        vertical-align: middle;\n",
       "    }\n",
       "\n",
       "    .dataframe tbody tr th {\n",
       "        vertical-align: top;\n",
       "    }\n",
       "\n",
       "    .dataframe thead th {\n",
       "        text-align: right;\n",
       "    }\n",
       "</style>\n",
       "<table border=\"1\" class=\"dataframe\">\n",
       "  <thead>\n",
       "    <tr style=\"text-align: right;\">\n",
       "      <th></th>\n",
       "      <th>session_id</th>\n",
       "      <th>timestamp</th>\n",
       "      <th>user_id</th>\n",
       "      <th>product_id</th>\n",
       "      <th>event_type</th>\n",
       "      <th>offered_discount</th>\n",
       "      <th>purchase_id</th>\n",
       "      <th>product_name</th>\n",
       "      <th>category_path</th>\n",
       "      <th>price</th>\n",
       "      <th>name</th>\n",
       "      <th>city</th>\n",
       "      <th>street</th>\n",
       "    </tr>\n",
       "  </thead>\n",
       "  <tbody>\n",
       "    <tr>\n",
       "      <th>19837</th>\n",
       "      <td>106315</td>\n",
       "      <td>2020-05-06 10:29:19</td>\n",
       "      <td>230</td>\n",
       "      <td>1222</td>\n",
       "      <td>BUY_PRODUCT</td>\n",
       "      <td>0</td>\n",
       "      <td>24126.0</td>\n",
       "      <td>Parrot Minikit NEO</td>\n",
       "      <td>Telefony i akcesoria;Akcesoria telefoniczne;Ze...</td>\n",
       "      <td>245.00</td>\n",
       "      <td>Sonia Machowiak</td>\n",
       "      <td>Warszawa</td>\n",
       "      <td>plac Morelowa 89</td>\n",
       "    </tr>\n",
       "    <tr>\n",
       "      <th>27044</th>\n",
       "      <td>108642</td>\n",
       "      <td>2021-01-11 10:03:20</td>\n",
       "      <td>280</td>\n",
       "      <td>1038</td>\n",
       "      <td>VIEW_PRODUCT</td>\n",
       "      <td>15</td>\n",
       "      <td>NaN</td>\n",
       "      <td>LCD Asus VK278Q</td>\n",
       "      <td>Komputery;Monitory;Monitory LCD</td>\n",
       "      <td>1117.01</td>\n",
       "      <td>Mikołaj Latuszek</td>\n",
       "      <td>Radom</td>\n",
       "      <td>pl. Kruczkowskiego 076</td>\n",
       "    </tr>\n",
       "    <tr>\n",
       "      <th>20809</th>\n",
       "      <td>106628</td>\n",
       "      <td>2021-04-16 03:58:56</td>\n",
       "      <td>237</td>\n",
       "      <td>1032</td>\n",
       "      <td>VIEW_PRODUCT</td>\n",
       "      <td>15</td>\n",
       "      <td>NaN</td>\n",
       "      <td>LCD Iiyama E2280WSD</td>\n",
       "      <td>Komputery;Monitory;Monitory LCD</td>\n",
       "      <td>688.78</td>\n",
       "      <td>Ewa Chruszcz</td>\n",
       "      <td>Police</td>\n",
       "      <td>ulica Kwiatowa 75/52</td>\n",
       "    </tr>\n",
       "  </tbody>\n",
       "</table>\n",
       "</div>"
      ],
      "text/plain": [
       "       session_id           timestamp  user_id  product_id    event_type  \\\n",
       "19837      106315 2020-05-06 10:29:19      230        1222   BUY_PRODUCT   \n",
       "27044      108642 2021-01-11 10:03:20      280        1038  VIEW_PRODUCT   \n",
       "20809      106628 2021-04-16 03:58:56      237        1032  VIEW_PRODUCT   \n",
       "\n",
       "       offered_discount  purchase_id         product_name  \\\n",
       "19837                 0      24126.0   Parrot Minikit NEO   \n",
       "27044                15          NaN      LCD Asus VK278Q   \n",
       "20809                15          NaN  LCD Iiyama E2280WSD   \n",
       "\n",
       "                                           category_path    price  \\\n",
       "19837  Telefony i akcesoria;Akcesoria telefoniczne;Ze...   245.00   \n",
       "27044                    Komputery;Monitory;Monitory LCD  1117.01   \n",
       "20809                    Komputery;Monitory;Monitory LCD   688.78   \n",
       "\n",
       "                   name      city                  street  \n",
       "19837   Sonia Machowiak  Warszawa        plac Morelowa 89  \n",
       "27044  Mikołaj Latuszek     Radom  pl. Kruczkowskiego 076  \n",
       "20809      Ewa Chruszcz    Police    ulica Kwiatowa 75/52  "
      ]
     },
     "execution_count": 29,
     "metadata": {},
     "output_type": "execute_result"
    }
   ],
   "source": [
    "shop_df.sample(3)"
   ]
  },
  {
   "cell_type": "code",
   "execution_count": 30,
   "metadata": {
    "cell_id": "00033-b3620f83-83e6-4659-b470-6e0d7b040995",
    "deepnote_cell_type": "code",
    "deepnote_to_be_reexecuted": false,
    "execution_millis": 17,
    "execution_start": 1621971627769,
    "source_hash": "e6c63b21",
    "tags": []
   },
   "outputs": [
    {
     "name": "stdout",
     "output_type": "stream",
     "text": [
      "<class 'pandas.core.frame.DataFrame'>\n",
      "Int64Index: 30830 entries, 0 to 30829\n",
      "Data columns (total 13 columns):\n",
      " #   Column            Non-Null Count  Dtype         \n",
      "---  ------            --------------  -----         \n",
      " 0   session_id        30830 non-null  int64         \n",
      " 1   timestamp         30830 non-null  datetime64[ns]\n",
      " 2   user_id           30830 non-null  int64         \n",
      " 3   product_id        30830 non-null  int64         \n",
      " 4   event_type        30830 non-null  object        \n",
      " 5   offered_discount  30830 non-null  int64         \n",
      " 6   purchase_id       6339 non-null   float64       \n",
      " 7   product_name      30830 non-null  object        \n",
      " 8   category_path     30830 non-null  object        \n",
      " 9   price             30830 non-null  float64       \n",
      " 10  name              30830 non-null  object        \n",
      " 11  city              30830 non-null  object        \n",
      " 12  street            30830 non-null  object        \n",
      "dtypes: datetime64[ns](1), float64(2), int64(4), object(6)\n",
      "memory usage: 3.3+ MB\n"
     ]
    }
   ],
   "source": [
    "shop_df.info()"
   ]
  },
  {
   "cell_type": "markdown",
   "metadata": {
    "cell_id": "00037-604ad26b-a461-4857-af8f-6f460891cdc8",
    "deepnote_cell_type": "markdown",
    "tags": []
   },
   "source": [
    "Zmienną celu jest event_type_BUY_PRODUCT. Sprawdzamy współczynnik wzajemnej informacji między tą zmienną i innymi atrybutami. \n",
    "\n",
    "Pomijamy atrybut purchase_id, ponieważ jest on znany tylko wtedy, gdy dokonano zakupu. Dodajemy kolumnę 'purchase_id_nan', której wartości to 1, gdy nie dokonano zakupu i 0, jeśli dokonano. \n",
    "\n",
    "Do analizy używamy one hot encoding (pd.get_dummies()) i dlatego pomijamy też kolumny 'name' oraz 'street'. Możemy to ominąć, ponieważ mamy kolumnę 'user_id', która mówi nam o tym, który to użytkownik. Z tego samego powodu pomijamy 'product_name' - mamy 'product_id' i to wystarczy."
   ]
  },
  {
   "cell_type": "code",
   "execution_count": 31,
   "metadata": {
    "cell_id": "00038-87d95bce-df72-44ed-8b8e-bba23f1a6775",
    "deepnote_cell_type": "code",
    "deepnote_to_be_reexecuted": false,
    "execution_millis": 24,
    "execution_start": 1621971627782,
    "source_hash": "be207132",
    "tags": []
   },
   "outputs": [],
   "source": [
    "shop_df[\"purchase_id_isnan\"] = np.where(shop_df.purchase_id.isnull(), 1, 0)\n",
    "\n",
    "# dodajemy nowy atrubut: price*offered_discount\n",
    "shop_df[\"discount_price\"] = (shop_df[\"price\"] * shop_df[\"offered_discount\"])\n",
    "\n",
    "shop_df = shop_df[shop_df.columns[~shop_df.columns.isin([\"session_id\", \"product_name\", \"purchase_id\", \"name\", \"street\"])]]\n",
    "shop_df = pd.get_dummies(shop_df)"
   ]
  },
  {
   "cell_type": "markdown",
   "metadata": {
    "cell_id": "00038-df945a48-502d-4f6e-86a2-4e317af27c13",
    "deepnote_cell_type": "text-cell-h2",
    "tags": []
   },
   "source": [
    "## Sprawdzenie współczynnika wzajemnej informacji"
   ]
  },
  {
   "cell_type": "code",
   "execution_count": 32,
   "metadata": {
    "cell_id": "00035-20bd62ff-061a-4f55-a79b-331339e72eb4",
    "deepnote_cell_type": "code",
    "deepnote_to_be_reexecuted": false,
    "execution_millis": 30,
    "execution_start": 1621971627849,
    "source_hash": "be0a1b7c",
    "tags": []
   },
   "outputs": [
    {
     "data": {
      "text/html": [
       "<div>\n",
       "<style scoped>\n",
       "    .dataframe tbody tr th:only-of-type {\n",
       "        vertical-align: middle;\n",
       "    }\n",
       "\n",
       "    .dataframe tbody tr th {\n",
       "        vertical-align: top;\n",
       "    }\n",
       "\n",
       "    .dataframe thead th {\n",
       "        text-align: right;\n",
       "    }\n",
       "</style>\n",
       "<table border=\"1\" class=\"dataframe\">\n",
       "  <thead>\n",
       "    <tr style=\"text-align: right;\">\n",
       "      <th></th>\n",
       "      <th>timestamp</th>\n",
       "      <th>user_id</th>\n",
       "      <th>product_id</th>\n",
       "      <th>offered_discount</th>\n",
       "      <th>price</th>\n",
       "      <th>purchase_id_isnan</th>\n",
       "      <th>discount_price</th>\n",
       "      <th>event_type_BUY_PRODUCT</th>\n",
       "      <th>event_type_VIEW_PRODUCT</th>\n",
       "      <th>category_path_Gry i konsole;Gry komputerowe</th>\n",
       "      <th>...</th>\n",
       "      <th>category_path_Telefony i akcesoria;Telefony komórkowe</th>\n",
       "      <th>category_path_Telefony i akcesoria;Telefony stacjonarne</th>\n",
       "      <th>city_Gdynia</th>\n",
       "      <th>city_Konin</th>\n",
       "      <th>city_Kutno</th>\n",
       "      <th>city_Mielec</th>\n",
       "      <th>city_Police</th>\n",
       "      <th>city_Radom</th>\n",
       "      <th>city_Szczecin</th>\n",
       "      <th>city_Warszawa</th>\n",
       "    </tr>\n",
       "  </thead>\n",
       "  <tbody>\n",
       "    <tr>\n",
       "      <th>1468</th>\n",
       "      <td>2021-01-31 23:51:05</td>\n",
       "      <td>111</td>\n",
       "      <td>1287</td>\n",
       "      <td>0</td>\n",
       "      <td>129.00</td>\n",
       "      <td>0</td>\n",
       "      <td>0.0</td>\n",
       "      <td>1</td>\n",
       "      <td>0</td>\n",
       "      <td>0</td>\n",
       "      <td>...</td>\n",
       "      <td>0</td>\n",
       "      <td>0</td>\n",
       "      <td>0</td>\n",
       "      <td>0</td>\n",
       "      <td>0</td>\n",
       "      <td>0</td>\n",
       "      <td>0</td>\n",
       "      <td>1</td>\n",
       "      <td>0</td>\n",
       "      <td>0</td>\n",
       "    </tr>\n",
       "    <tr>\n",
       "      <th>5500</th>\n",
       "      <td>2021-03-10 04:59:27</td>\n",
       "      <td>139</td>\n",
       "      <td>1041</td>\n",
       "      <td>0</td>\n",
       "      <td>79.90</td>\n",
       "      <td>1</td>\n",
       "      <td>0.0</td>\n",
       "      <td>0</td>\n",
       "      <td>1</td>\n",
       "      <td>0</td>\n",
       "      <td>...</td>\n",
       "      <td>0</td>\n",
       "      <td>0</td>\n",
       "      <td>0</td>\n",
       "      <td>0</td>\n",
       "      <td>0</td>\n",
       "      <td>0</td>\n",
       "      <td>0</td>\n",
       "      <td>0</td>\n",
       "      <td>1</td>\n",
       "      <td>0</td>\n",
       "    </tr>\n",
       "    <tr>\n",
       "      <th>24458</th>\n",
       "      <td>2020-12-31 05:06:11</td>\n",
       "      <td>265</td>\n",
       "      <td>1276</td>\n",
       "      <td>0</td>\n",
       "      <td>1816.97</td>\n",
       "      <td>0</td>\n",
       "      <td>0.0</td>\n",
       "      <td>1</td>\n",
       "      <td>0</td>\n",
       "      <td>0</td>\n",
       "      <td>...</td>\n",
       "      <td>0</td>\n",
       "      <td>0</td>\n",
       "      <td>0</td>\n",
       "      <td>1</td>\n",
       "      <td>0</td>\n",
       "      <td>0</td>\n",
       "      <td>0</td>\n",
       "      <td>0</td>\n",
       "      <td>0</td>\n",
       "      <td>0</td>\n",
       "    </tr>\n",
       "  </tbody>\n",
       "</table>\n",
       "<p>3 rows × 32 columns</p>\n",
       "</div>"
      ],
      "text/plain": [
       "                timestamp  user_id  product_id  offered_discount    price  \\\n",
       "1468  2021-01-31 23:51:05      111        1287                 0   129.00   \n",
       "5500  2021-03-10 04:59:27      139        1041                 0    79.90   \n",
       "24458 2020-12-31 05:06:11      265        1276                 0  1816.97   \n",
       "\n",
       "       purchase_id_isnan  discount_price  event_type_BUY_PRODUCT  \\\n",
       "1468                   0             0.0                       1   \n",
       "5500                   1             0.0                       0   \n",
       "24458                  0             0.0                       1   \n",
       "\n",
       "       event_type_VIEW_PRODUCT  category_path_Gry i konsole;Gry komputerowe  \\\n",
       "1468                         0                                            0   \n",
       "5500                         1                                            0   \n",
       "24458                        0                                            0   \n",
       "\n",
       "       ...  category_path_Telefony i akcesoria;Telefony komórkowe  \\\n",
       "1468   ...                                                  0       \n",
       "5500   ...                                                  0       \n",
       "24458  ...                                                  0       \n",
       "\n",
       "       category_path_Telefony i akcesoria;Telefony stacjonarne  city_Gdynia  \\\n",
       "1468                                                   0                  0   \n",
       "5500                                                   0                  0   \n",
       "24458                                                  0                  0   \n",
       "\n",
       "       city_Konin  city_Kutno  city_Mielec  city_Police  city_Radom  \\\n",
       "1468            0           0            0            0           1   \n",
       "5500            0           0            0            0           0   \n",
       "24458           1           0            0            0           0   \n",
       "\n",
       "       city_Szczecin  city_Warszawa  \n",
       "1468               0              0  \n",
       "5500               1              0  \n",
       "24458              0              0  \n",
       "\n",
       "[3 rows x 32 columns]"
      ]
     },
     "execution_count": 32,
     "metadata": {},
     "output_type": "execute_result"
    }
   ],
   "source": [
    "shop_df_check = shop_df.copy()\n",
    "shop_df_check.sample(3)"
   ]
  },
  {
   "cell_type": "code",
   "execution_count": 33,
   "metadata": {
    "cell_id": "00035-a2e08475-52f8-4943-9ca4-2824f3f304c8",
    "deepnote_cell_type": "code",
    "deepnote_to_be_reexecuted": false,
    "execution_millis": 19,
    "execution_start": 1621971627874,
    "source_hash": "8d38a6ad",
    "tags": []
   },
   "outputs": [
    {
     "name": "stdout",
     "output_type": "stream",
     "text": [
      "<class 'pandas.core.frame.DataFrame'>\n",
      "Int64Index: 30830 entries, 0 to 30829\n",
      "Data columns (total 32 columns):\n",
      " #   Column                                                                           Non-Null Count  Dtype         \n",
      "---  ------                                                                           --------------  -----         \n",
      " 0   timestamp                                                                        30830 non-null  datetime64[ns]\n",
      " 1   user_id                                                                          30830 non-null  int64         \n",
      " 2   product_id                                                                       30830 non-null  int64         \n",
      " 3   offered_discount                                                                 30830 non-null  int64         \n",
      " 4   price                                                                            30830 non-null  float64       \n",
      " 5   purchase_id_isnan                                                                30830 non-null  int32         \n",
      " 6   discount_price                                                                   30830 non-null  float64       \n",
      " 7   event_type_BUY_PRODUCT                                                           30830 non-null  uint8         \n",
      " 8   event_type_VIEW_PRODUCT                                                          30830 non-null  uint8         \n",
      " 9   category_path_Gry i konsole;Gry komputerowe                                      30830 non-null  uint8         \n",
      " 10  category_path_Gry i konsole;Gry na konsole;Gry PlayStation3                      30830 non-null  uint8         \n",
      " 11  category_path_Gry i konsole;Gry na konsole;Gry Xbox 360                          30830 non-null  uint8         \n",
      " 12  category_path_Komputery;Drukarki i skanery;Biurowe urządzenia wielofunkcyjne     30830 non-null  uint8         \n",
      " 13  category_path_Komputery;Monitory;Monitory LCD                                    30830 non-null  uint8         \n",
      " 14  category_path_Komputery;Tablety i akcesoria;Tablety                              30830 non-null  uint8         \n",
      " 15  category_path_Sprzęt RTV;Audio;Słuchawki                                         30830 non-null  uint8         \n",
      " 16  category_path_Sprzęt RTV;Przenośne audio i video;Odtwarzacze mp3 i mp4           30830 non-null  uint8         \n",
      " 17  category_path_Sprzęt RTV;Video;Odtwarzacze DVD                                   30830 non-null  uint8         \n",
      " 18  category_path_Sprzęt RTV;Video;Telewizory i akcesoria;Anteny RTV                 30830 non-null  uint8         \n",
      " 19  category_path_Sprzęt RTV;Video;Telewizory i akcesoria;Okulary 3D                 30830 non-null  uint8         \n",
      " 20  category_path_Telefony i akcesoria;Akcesoria telefoniczne;Zestawy głośnomówiące  30830 non-null  uint8         \n",
      " 21  category_path_Telefony i akcesoria;Akcesoria telefoniczne;Zestawy słuchawkowe    30830 non-null  uint8         \n",
      " 22  category_path_Telefony i akcesoria;Telefony komórkowe                            30830 non-null  uint8         \n",
      " 23  category_path_Telefony i akcesoria;Telefony stacjonarne                          30830 non-null  uint8         \n",
      " 24  city_Gdynia                                                                      30830 non-null  uint8         \n",
      " 25  city_Konin                                                                       30830 non-null  uint8         \n",
      " 26  city_Kutno                                                                       30830 non-null  uint8         \n",
      " 27  city_Mielec                                                                      30830 non-null  uint8         \n",
      " 28  city_Police                                                                      30830 non-null  uint8         \n",
      " 29  city_Radom                                                                       30830 non-null  uint8         \n",
      " 30  city_Szczecin                                                                    30830 non-null  uint8         \n",
      " 31  city_Warszawa                                                                    30830 non-null  uint8         \n",
      "dtypes: datetime64[ns](1), float64(2), int32(1), int64(3), uint8(25)\n",
      "memory usage: 2.5 MB\n"
     ]
    }
   ],
   "source": [
    "shop_df_check.info()"
   ]
  },
  {
   "cell_type": "markdown",
   "metadata": {
    "cell_id": "00042-8607c57d-e313-40aa-9574-7ee6968f66a2",
    "deepnote_cell_type": "markdown",
    "tags": []
   },
   "source": [
    "Sprawdzamy współczynnik wzajemnej informacji między zmienną celu, a innymi atrybutami. Aby sprawdzić, czy współczynnik jest wysoki, permutujemy każdą z kolumn tworząc szum i porównujemy wyniki wzajemnej informacji z szumem i z oryginalnym atrybutem."
   ]
  },
  {
   "cell_type": "code",
   "execution_count": 34,
   "metadata": {
    "cell_id": "00037-e371ef32-a582-4e57-94d9-c8808eb32a39",
    "deepnote_cell_type": "code",
    "deepnote_to_be_reexecuted": false,
    "execution_millis": 12698,
    "execution_start": 1621971627889,
    "source_hash": "9e41da77",
    "tags": []
   },
   "outputs": [],
   "source": [
    "y = shop_df_check[\"event_type_BUY_PRODUCT\"]\n",
    "shop_df_check = shop_df_check[shop_df_check.columns[~shop_df_check.columns.isin([\"event_type_BUY_PRODUCT\", \"event_type_VIEW_PRODUCT\", \"purchase_id_isnan\", \"timestamp\"])]]\n",
    "\n",
    "# dataframe tylko dla XGB\n",
    "shop_df_xgb = shop_df_check.copy()\n",
    "y_xgb = y.copy()\n",
    "\n",
    "cols = shop_df_check.columns\n",
    "mutual_info_scores = {}\n",
    "mutual_info_noise_scores = {}\n",
    "\n",
    "shop_np_check = shop_df_check.to_numpy()\n",
    "shop_np_check_with_noise = shop_df_check.copy().to_numpy()\n",
    "\n",
    "mutual_info_scores = mutual_info_classif(shop_np_check, y)\n",
    "\n",
    "# permutacja kolumn w shop_np_check_with_noise\n",
    "np.random.seed(42)\n",
    "np.random.shuffle(np.transpose(shop_np_check_with_noise))\n",
    "mutual_info_noise_scores = mutual_info_classif(shop_np_check_with_noise, y)"
   ]
  },
  {
   "cell_type": "code",
   "execution_count": 35,
   "metadata": {
    "cell_id": "00041-b70fc9c2-a78f-449b-8acf-dd4f66f29d48",
    "deepnote_cell_type": "code",
    "deepnote_to_be_reexecuted": false,
    "execution_millis": 49,
    "execution_start": 1621971640607,
    "source_hash": "ccd7b545",
    "tags": []
   },
   "outputs": [],
   "source": [
    "mi_df = pd.DataFrame([mutual_info_scores, mutual_info_noise_scores], index=[\"mutual_info_score\", \"noise\"]).T\n",
    "mi_df.index = shop_df_check.columns"
   ]
  },
  {
   "cell_type": "code",
   "execution_count": 36,
   "metadata": {
    "cell_id": "00042-a7bdff8d-650a-4563-928c-a3f6eed7d596",
    "deepnote_cell_type": "code",
    "deepnote_to_be_reexecuted": false,
    "execution_millis": 1443,
    "execution_start": 1621971640650,
    "source_hash": "5d62d10",
    "tags": []
   },
   "outputs": [
    {
     "data": {
      "image/png": "[encoded data removed]",
      "text/plain": [
       "<Figure size 1080x756 with 2 Axes>"
      ]
     },
     "metadata": {
      "needs_background": "light"
     },
     "output_type": "display_data"
    }
   ],
   "source": [
    "plt.figure(figsize=(15,10.5))\n",
    "sns.heatmap(mi_df, annot=True, fmt=\"g\", cmap='viridis')\n",
    "\n",
    "plt.show()"
   ]
  },
  {
   "cell_type": "markdown",
   "metadata": {
    "cell_id": "00046-59a74d5f-20a8-45a1-b6d8-9555f6e745dd",
    "deepnote_cell_type": "markdown",
    "tags": []
   },
   "source": [
    "Do Logistic Regression wybieramy kolumny, których współczynnik wzajemnej informacji z funkcją celu jest większy, niż funkcji celu z szumem."
   ]
  },
  {
   "cell_type": "code",
   "execution_count": 37,
   "metadata": {
    "cell_id": "00040-b078d27e-054e-4d24-8f86-939e5ccfe795",
    "deepnote_cell_type": "code",
    "deepnote_to_be_reexecuted": false,
    "execution_millis": 1,
    "execution_start": 1621971642078,
    "source_hash": "4f3d2f84",
    "tags": []
   },
   "outputs": [],
   "source": [
    "useful_categories = np.where(mutual_info_scores > mutual_info_noise_scores, 1, 0)\n",
    "useful_categories_indices = np.argwhere(useful_categories == np.amax(useful_categories))"
   ]
  },
  {
   "cell_type": "code",
   "execution_count": 38,
   "metadata": {
    "cell_id": "00042-38ae6b34-64d3-4e65-8b43-1d30303874ea",
    "deepnote_cell_type": "code",
    "deepnote_to_be_reexecuted": false,
    "execution_millis": 14,
    "execution_start": 1621971642081,
    "source_hash": "8be7d987",
    "tags": []
   },
   "outputs": [
    {
     "name": "stdout",
     "output_type": "stream",
     "text": [
      "Meaningful categories are: \n",
      " [['user_id']\n",
      " ['product_id']\n",
      " ['price']\n",
      " ['discount_price']\n",
      " ['category_path_Gry i konsole;Gry na konsole;Gry Xbox 360']\n",
      " ['category_path_Komputery;Monitory;Monitory LCD']\n",
      " ['category_path_Sprzęt RTV;Video;Odtwarzacze DVD']\n",
      " ['category_path_Sprzęt RTV;Video;Telewizory i akcesoria;Anteny RTV']\n",
      " ['category_path_Sprzęt RTV;Video;Telewizory i akcesoria;Okulary 3D']\n",
      " ['category_path_Telefony i akcesoria;Akcesoria telefoniczne;Zestawy głośnomówiące']\n",
      " ['category_path_Telefony i akcesoria;Telefony komórkowe']\n",
      " ['category_path_Telefony i akcesoria;Telefony stacjonarne']\n",
      " ['city_Gdynia']\n",
      " ['city_Kutno']\n",
      " ['city_Mielec']\n",
      " ['city_Radom']\n",
      " ['city_Warszawa']]\n"
     ]
    }
   ],
   "source": [
    "print(\"Meaningful categories are: \\n\", shop_df_check.columns[useful_categories_indices])"
   ]
  },
  {
   "cell_type": "markdown",
   "metadata": {
    "cell_id": "00041-319096c5-bfb8-4ad7-8f5b-d815a247644d",
    "deepnote_cell_type": "markdown",
    "tags": []
   },
   "source": [
    "# Etap 2"
   ]
  },
  {
   "cell_type": "markdown",
   "metadata": {
    "cell_id": "00041-bde97dd9-b664-43a2-a351-ba9ef27ac2d2",
    "deepnote_cell_type": "markdown",
    "tags": []
   },
   "source": [
    "1. Dwa modele: model bazowy (najprostszy możliwy dla danego zadania) i bardziej zaawansowany model docelowy, oraz raport pokazujący proces budowy modelu i porównujący wyniki (0-15pkt).\n",
    "2. Implementacja aplikacji (w formie mikroserwisu), która pozwala na (0-15pkt):\n",
    "    - serwowanie predykcji przy pomocy danego modelu,\n",
    "    - realizację eksperymentu A/B –w ramach którego porównywane będą oba modelei zbierane dane niezbędne do późniejszej oceny ich jakości,\n",
    "    - materiały pokazujące, że implementacja działa."
   ]
  },
  {
   "cell_type": "markdown",
   "metadata": {
    "cell_id": "00042-4b21b3b1-3b9a-4c4b-a644-25e433da735f",
    "deepnote_cell_type": "markdown",
    "tags": []
   },
   "source": [
    "Od początku zdawaliśmy sobie sprawę, że nasz dataset jest bardzo niezbalansowany, co przedstawia poniższy wykres."
   ]
  },
  {
   "cell_type": "code",
   "execution_count": 39,
   "metadata": {
    "cell_id": "00042-489b407e-20ad-4775-92d6-c7ffd31537c6",
    "deepnote_cell_type": "code",
    "deepnote_to_be_reexecuted": false,
    "execution_millis": 163,
    "execution_start": 1621971642109,
    "source_hash": "98cd7d86",
    "tags": []
   },
   "outputs": [
    {
     "data": {
      "image/png": "[encoded data removed]",
      "text/plain": [
       "<Figure size 432x288 with 1 Axes>"
      ]
     },
     "metadata": {
      "needs_background": "light"
     },
     "output_type": "display_data"
    }
   ],
   "source": [
    "sns.histplot(sessions.event_type)\n",
    "plt.title(\"Distribution of session events\")\n",
    "plt.show()"
   ]
  },
  {
   "cell_type": "markdown",
   "metadata": {
    "cell_id": "00043-a2dedf55-b07b-4837-8a03-e4fed5d629cd",
    "deepnote_cell_type": "markdown",
    "tags": []
   },
   "source": [
    "Oba nasze modele (Logistic Regression i XGBoost) nie biorą tego pod uwagę."
   ]
  },
  {
   "cell_type": "markdown",
   "metadata": {
    "cell_id": "00042-d669a40b-8b2d-47c9-86dc-4f173d7286bb",
    "deepnote_cell_type": "text-cell-h2",
    "tags": []
   },
   "source": [
    "## Logistic Regression"
   ]
  },
  {
   "cell_type": "code",
   "execution_count": 40,
   "metadata": {
    "cell_id": "00043-9f0b660a-70ac-48ae-a6ab-3d1d9f029583",
    "deepnote_cell_type": "code",
    "deepnote_to_be_reexecuted": false,
    "execution_millis": 3,
    "execution_start": 1621971642261,
    "source_hash": "2ece78a",
    "tags": []
   },
   "outputs": [],
   "source": [
    "y_col_lr = 'event_type_BUY_PRODUCT'"
   ]
  },
  {
   "cell_type": "code",
   "execution_count": 41,
   "metadata": {
    "cell_id": "00045-908a87fa-d082-4250-8131-9b8a637126aa",
    "deepnote_cell_type": "code",
    "deepnote_to_be_reexecuted": false,
    "execution_millis": 5,
    "execution_start": 1621971642269,
    "source_hash": "cccd805",
    "tags": []
   },
   "outputs": [],
   "source": [
    "X_train_lr, X_test_lr, y_train_lr, y_test_lr = train_test_split(shop_df[shop_df_check.columns[useful_categories_indices].flatten()], shop_df[y_col_lr], test_size=0.2, random_state=42)"
   ]
  },
  {
   "cell_type": "markdown",
   "metadata": {
    "cell_id": "00057-bdd65418-1483-403c-8aca-219928d60177",
    "deepnote_cell_type": "text-cell-h3",
    "tags": []
   },
   "source": [
    "### Niezbalansowany model"
   ]
  },
  {
   "cell_type": "code",
   "execution_count": 42,
   "metadata": {
    "cell_id": "00046-643788de-d66b-4191-b94c-938040fcd44e",
    "deepnote_cell_type": "code",
    "deepnote_to_be_reexecuted": false,
    "execution_millis": 122,
    "execution_start": 1621971642289,
    "source_hash": "dae26494",
    "tags": []
   },
   "outputs": [],
   "source": [
    "model_lr = LogisticRegression(solver='liblinear', C=10.0, random_state=42).fit(X_train_lr, y_train_lr)\n",
    "y_pred_lr = model_lr.predict(X_test_lr)"
   ]
  },
  {
   "cell_type": "code",
   "execution_count": 43,
   "metadata": {
    "cell_id": "00048-eb3c56bb-3c15-4a86-b515-72caa16fee9a",
    "deepnote_cell_type": "code",
    "deepnote_to_be_reexecuted": false,
    "execution_millis": 12,
    "execution_start": 1621971642423,
    "source_hash": "b8a8a8e6",
    "tags": []
   },
   "outputs": [
    {
     "data": {
      "text/plain": [
       "0.8001946156341226"
      ]
     },
     "execution_count": 43,
     "metadata": {},
     "output_type": "execute_result"
    }
   ],
   "source": [
    "# accuracy\n",
    "model_lr.score(X_test_lr, y_test_lr)"
   ]
  },
  {
   "cell_type": "code",
   "execution_count": 44,
   "metadata": {
    "cell_id": "00061-2d71751c-6dee-452f-9425-ae5f50c91e61",
    "deepnote_cell_type": "code",
    "deepnote_to_be_reexecuted": false,
    "execution_millis": 51,
    "execution_start": 1621971642435,
    "source_hash": "ad9bf6ce",
    "tags": []
   },
   "outputs": [
    {
     "data": {
      "text/plain": [
       "0.10595065312046444"
      ]
     },
     "execution_count": 44,
     "metadata": {},
     "output_type": "execute_result"
    }
   ],
   "source": [
    "# f1-score\n",
    "f1_score(y_test_lr, y_pred_lr)"
   ]
  },
  {
   "cell_type": "code",
   "execution_count": 45,
   "metadata": {
    "cell_id": "00048-3a39f374-f63f-470f-9102-96b6658d79a7",
    "deepnote_cell_type": "code",
    "deepnote_to_be_reexecuted": false,
    "execution_millis": 180,
    "execution_start": 1621971642469,
    "source_hash": "f2948b1",
    "tags": []
   },
   "outputs": [
    {
     "data": {
      "image/png": "[encoded data removed]",
      "text/plain": [
       "<Figure size 360x360 with 1 Axes>"
      ]
     },
     "metadata": {
      "needs_background": "light"
     },
     "output_type": "display_data"
    }
   ],
   "source": [
    "cm = confusion_matrix(y_test_lr, y_pred_lr)\n",
    "\n",
    "fig, ax = plt.subplots(figsize=(5, 5))\n",
    "ax.imshow(cm)\n",
    "ax.grid(False)\n",
    "ax.xaxis.set(ticks=(0, 1), ticklabels=('Predicted 0s', 'Predicted 1s'))\n",
    "ax.yaxis.set(ticks=(0, 1), ticklabels=('Actual 0s', 'Actual 1s'))\n",
    "ax.set_ylim(1.5, -0.5)\n",
    "for i in range(2):\n",
    "    for j in range(2):\n",
    "        ax.text(j, i, cm[i, j], ha='center', va='center', color='red')\n",
    "plt.title('Confusion matrix')\n",
    "plt.show()"
   ]
  },
  {
   "cell_type": "markdown",
   "metadata": {},
   "source": [
    "Pomimo, że dokładność (accuracy) modelu jest bardzo wysoka, to po spojrzeniu w tablicę pomyłek zauważamy, że przewiduje prawie zawsze tylko brak zakupu."
   ]
  },
  {
   "cell_type": "markdown",
   "metadata": {
    "cell_id": "00062-5f5e45c3-42f0-4a7f-9fb2-807641a67bc7",
    "deepnote_cell_type": "text-cell-h3",
    "tags": []
   },
   "source": [
    "### Zbalansowany model"
   ]
  },
  {
   "cell_type": "markdown",
   "metadata": {},
   "source": [
    "Aby zbalansować model, dodaliśmy do LogisticRegression parametr class_weight, który ustawiliśmy na wartość \"balanced\"."
   ]
  },
  {
   "cell_type": "code",
   "execution_count": 46,
   "metadata": {
    "cell_id": "00063-aeb428b0-adf1-47a1-b190-e6c299c86384",
    "deepnote_cell_type": "code",
    "deepnote_to_be_reexecuted": false,
    "execution_millis": 196,
    "execution_start": 1621971642643,
    "source_hash": "c050e115",
    "tags": []
   },
   "outputs": [],
   "source": [
    "model_lr_balanced = LogisticRegression(solver='liblinear', C=10.0, random_state=42, class_weight='balanced').fit(X_train_lr, y_train_lr)\n",
    "y_pred_lr = model_lr_balanced.predict(X_test_lr)"
   ]
  },
  {
   "cell_type": "code",
   "execution_count": 47,
   "metadata": {
    "cell_id": "00065-f9657604-d15e-4bdc-bc98-666ed77cb2fb",
    "deepnote_cell_type": "code",
    "deepnote_to_be_reexecuted": false,
    "execution_millis": 18,
    "execution_start": 1621971642865,
    "source_hash": "b8a8a8e6",
    "tags": []
   },
   "outputs": [
    {
     "data": {
      "text/plain": [
       "0.7392150502757054"
      ]
     },
     "execution_count": 47,
     "metadata": {},
     "output_type": "execute_result"
    }
   ],
   "source": [
    "model_lr_balanced.score(X_test_lr, y_test_lr)"
   ]
  },
  {
   "cell_type": "code",
   "execution_count": 48,
   "metadata": {
    "cell_id": "00066-87e85e36-78d0-4ed8-89f1-9fdc32daba3b",
    "deepnote_cell_type": "code",
    "deepnote_to_be_reexecuted": false,
    "execution_millis": 21,
    "execution_start": 1621971642877,
    "source_hash": "ad9bf6ce",
    "tags": []
   },
   "outputs": [
    {
     "data": {
      "text/plain": [
       "0.4878980891719746"
      ]
     },
     "execution_count": 48,
     "metadata": {},
     "output_type": "execute_result"
    }
   ],
   "source": [
    "f1_score(y_test_lr, y_pred_lr)"
   ]
  },
  {
   "cell_type": "code",
   "execution_count": 49,
   "metadata": {
    "cell_id": "00066-6eb61431-5161-4308-96ac-89b11f35dc79",
    "deepnote_cell_type": "code",
    "deepnote_to_be_reexecuted": false,
    "execution_millis": 168,
    "execution_start": 1621971642895,
    "source_hash": "f2948b1",
    "tags": []
   },
   "outputs": [
    {
     "data": {
      "image/png": "[encoded data removed]",
      "text/plain": [
       "<Figure size 360x360 with 1 Axes>"
      ]
     },
     "metadata": {
      "needs_background": "light"
     },
     "output_type": "display_data"
    }
   ],
   "source": [
    "cm = confusion_matrix(y_test_lr, y_pred_lr)\n",
    "\n",
    "fig, ax = plt.subplots(figsize=(5, 5))\n",
    "ax.imshow(cm)\n",
    "ax.grid(False)\n",
    "ax.xaxis.set(ticks=(0, 1), ticklabels=('Predicted 0s', 'Predicted 1s'))\n",
    "ax.yaxis.set(ticks=(0, 1), ticklabels=('Actual 0s', 'Actual 1s'))\n",
    "ax.set_ylim(1.5, -0.5)\n",
    "for i in range(2):\n",
    "    for j in range(2):\n",
    "        ax.text(j, i, cm[i, j], ha='center', va='center', color='red')\n",
    "plt.title('Confusion matrix')\n",
    "plt.show()"
   ]
  },
  {
   "cell_type": "markdown",
   "metadata": {},
   "source": [
    "Dokładność modelu (accuracy) zmalała o ok. 7%. Jednakże uzyskaliśmy to, czego oczekiwaliśmy - nasz wskaźnik F1 wynosi teraz 49%. Dodatkowo, po spojrzeniu w tablicę pomyłek, widzimy, że model nie przewiduje już tylko zer, ale też jedynki - i zaczynają one się pojawiać coraz częściej. "
   ]
  },
  {
   "cell_type": "markdown",
   "metadata": {
    "cell_id": "00043-19c8ac8c-6bd5-434c-bce3-e9ed323d42fe",
    "deepnote_cell_type": "text-cell-h2",
    "tags": []
   },
   "source": [
    "## XGBoost"
   ]
  },
  {
   "cell_type": "markdown",
   "metadata": {},
   "source": [
    "Zbudowaliśmy także model używając bardziej zaawansowanego algorytmu - XGBClassifier."
   ]
  },
  {
   "cell_type": "code",
   "execution_count": 50,
   "metadata": {
    "cell_id": "00045-24e21ed8-8f4a-45b4-a581-adaf3ecb3d08",
    "deepnote_cell_type": "code",
    "deepnote_to_be_reexecuted": false,
    "execution_millis": 172,
    "execution_start": 1621971643101,
    "source_hash": "b6acbc26",
    "tags": []
   },
   "outputs": [],
   "source": [
    "from xgboost import XGBClassifier\n",
    "from xgboost import plot_importance"
   ]
  },
  {
   "cell_type": "code",
   "execution_count": 51,
   "metadata": {
    "cell_id": "00053-b8b3a46f-f3fd-4a1a-ab3b-fa7fb56d30b5",
    "deepnote_cell_type": "code",
    "deepnote_to_be_reexecuted": false,
    "execution_millis": 11,
    "execution_start": 1621971643276,
    "source_hash": "b4380942",
    "tags": []
   },
   "outputs": [],
   "source": [
    "X_train_xgb, X_test_xgb, y_train_xgb, y_test_xgb = train_test_split(shop_df_xgb, y_xgb, test_size=0.2, random_state=42)"
   ]
  },
  {
   "cell_type": "markdown",
   "metadata": {
    "cell_id": "00070-7b8fe5a0-1630-486e-be18-b79cd3d8d49c",
    "deepnote_cell_type": "text-cell-h3",
    "tags": []
   },
   "source": [
    "### Niezbalansowany model"
   ]
  },
  {
   "cell_type": "code",
   "execution_count": 52,
   "metadata": {
    "cell_id": "00058-bf930fcd-4ab5-4dae-91c1-0394ba2c3734",
    "deepnote_cell_type": "code",
    "deepnote_to_be_reexecuted": false,
    "execution_millis": 4296,
    "execution_start": 1621971643291,
    "source_hash": "d9a4461a",
    "tags": []
   },
   "outputs": [
    {
     "name": "stdout",
     "output_type": "stream",
     "text": [
      "[13:44:37] WARNING: C:/Users/Administrator/workspace/xgboost-win64_release_1.4.0/src/learner.cc:1095: Starting in XGBoost 1.3.0, the default evaluation metric used with the objective 'binary:logistic' was changed from 'error' to 'logloss'. Explicitly set eval_metric if you'd like to restore the old behavior.\n"
     ]
    }
   ],
   "source": [
    "model_xgb = XGBClassifier(random_state=42)\n",
    "model_xgb.fit(X_train_xgb, y_train_xgb)\n",
    "\n",
    "cols_when_model_builds = model_xgb.get_booster().feature_names\n",
    "X_test_xgb = X_test_xgb[cols_when_model_builds]\n",
    "\n",
    "y_pred_xgb = model_xgb.predict(X_test_xgb)\n",
    "predictions = [round(value) for value in y_pred_xgb]"
   ]
  },
  {
   "cell_type": "code",
   "execution_count": 53,
   "metadata": {},
   "outputs": [
    {
     "data": {
      "text/plain": [
       "0.8138177100227052"
      ]
     },
     "execution_count": 53,
     "metadata": {},
     "output_type": "execute_result"
    }
   ],
   "source": [
    "accuracy_score(y_test_xgb, y_pred_xgb)"
   ]
  },
  {
   "cell_type": "code",
   "execution_count": 54,
   "metadata": {},
   "outputs": [
    {
     "data": {
      "text/plain": [
       "0.3925925925925926"
      ]
     },
     "execution_count": 54,
     "metadata": {},
     "output_type": "execute_result"
    }
   ],
   "source": [
    "f1_score(y_test_xgb, predictions)"
   ]
  },
  {
   "cell_type": "markdown",
   "metadata": {},
   "source": [
    "Dokładność modelu wynosi ok. 81%. Wskaźnik F1 wynosi niemalże 40%. Poniżej będziemy go jeszcze ulepszać, aby uzyskać wskaźnik wyższy od wskaźnika w zbalansowanym modelu Logistic Regression. Najpierw przyjrzyjmy się jeszcze temu, które atrybuty XGBClassifier uznał za najważniejsze. "
   ]
  },
  {
   "cell_type": "code",
   "execution_count": 55,
   "metadata": {
    "cell_id": "00073-d5e8b5ce-f905-4189-9b43-5b5d779f72c0",
    "deepnote_cell_type": "code",
    "deepnote_to_be_reexecuted": false,
    "execution_millis": 804,
    "execution_start": 1621971647590,
    "source_hash": "e3d1d881",
    "tags": []
   },
   "outputs": [
    {
     "data": {
      "image/png": "[encoded data removed]",
      "text/plain": [
       "<Figure size 432x288 with 1 Axes>"
      ]
     },
     "metadata": {
      "needs_background": "light"
     },
     "output_type": "display_data"
    },
    {
     "data": {
      "text/plain": [
       "<Figure size 1440x720 with 0 Axes>"
      ]
     },
     "metadata": {},
     "output_type": "display_data"
    }
   ],
   "source": [
    "plot_importance(model_xgb)\n",
    "plt.figure(figsize = (20, 10))\n",
    "plt.show()"
   ]
  },
  {
   "cell_type": "markdown",
   "metadata": {},
   "source": [
    "Model zdecydowanie poświęca najwięcej uwagi identyfikatorowi użytkownika. Tak jak oczekiwaliśmy, dużą uwagę zwraca także na id produktu, obniżkę i cenę oraz na dodany przez nas atrybut - cenę pomnożoną przez obniżkę (czyli całkowitą wartość obniżki)."
   ]
  },
  {
   "cell_type": "code",
   "execution_count": 56,
   "metadata": {
    "cell_id": "00057-6a08725e-896f-49ed-a1a5-077b8dda5bf0",
    "deepnote_cell_type": "code",
    "deepnote_to_be_reexecuted": false,
    "execution_millis": 108,
    "execution_start": 1621971648386,
    "source_hash": "dde815b2",
    "tags": []
   },
   "outputs": [
    {
     "data": {
      "image/png": "[encoded data removed]",
      "text/plain": [
       "<Figure size 360x360 with 1 Axes>"
      ]
     },
     "metadata": {
      "needs_background": "light"
     },
     "output_type": "display_data"
    }
   ],
   "source": [
    "cm = confusion_matrix(y_test_xgb, predictions)\n",
    "\n",
    "fig, ax = plt.subplots(figsize=(5, 5))\n",
    "ax.imshow(cm)\n",
    "ax.grid(False)\n",
    "ax.xaxis.set(ticks=(0, 1), ticklabels=('Predicted 0s', 'Predicted 1s'))\n",
    "ax.yaxis.set(ticks=(0, 1), ticklabels=('Actual 0s', 'Actual 1s'))\n",
    "ax.set_ylim(1.5, -0.5)\n",
    "for i in range(2):\n",
    "    for j in range(2):\n",
    "        ax.text(j, i, cm[i, j], ha='center', va='center', color='red')\n",
    "plt.title('Confusion matrix')\n",
    "plt.show()"
   ]
  },
  {
   "cell_type": "markdown",
   "metadata": {},
   "source": [
    "Model wciąż nie może poradzić sobie z niezbalansowanymi klasami, dlatego w następnym kroku będziemy wybierać odpowiednie parametry."
   ]
  },
  {
   "cell_type": "markdown",
   "metadata": {
    "cell_id": "00058-da1be011-e2ec-46f1-b749-102a2c2f38d8",
    "deepnote_cell_type": "markdown",
    "tags": []
   },
   "source": [
    "### Zbalansowany model"
   ]
  },
  {
   "cell_type": "markdown",
   "metadata": {
    "cell_id": "00076-730887b0-1d49-4b4f-93bf-1c442fc14b02",
    "deepnote_cell_type": "text-cell-h3",
    "tags": []
   },
   "source": [
    "#### GridSearchCV"
   ]
  },
  {
   "cell_type": "markdown",
   "metadata": {},
   "source": [
    "Użyliśmy GridSearchCV, aby znaleźć odpowiednie parametry dla XGBClassifier. (około 8 minut)"
   ]
  },
  {
   "cell_type": "code",
   "execution_count": 57,
   "metadata": {},
   "outputs": [],
   "source": [
    "cv_params = {'max_depth': [1,2,4,5,50], 'min_child_weight': [1,2,3,4], 'scale_pos_weight': [2,4,5,6,8], 'reg_lambda':[1]}\n",
    "fix_params = {'learning_rate': 0.2, 'n_estimators': 100, 'objective': 'binary:logistic'}\n",
    "grid_cv = GridSearchCV(XGBClassifier(objective='binary:logistic'), cv_params, scoring = 'f1', cv = 5, verbose=10)"
   ]
  },
  {
   "cell_type": "code",
   "execution_count": null,
   "metadata": {
    "scrolled": true
   },
   "outputs": [],
   "source": [
    "grid_cv.fit(X_train_xgb, y_train_xgb)"
   ]
  },
  {
   "cell_type": "code",
   "execution_count": 59,
   "metadata": {},
   "outputs": [
    {
     "data": {
      "text/plain": [
       "{'max_depth': 1, 'min_child_weight': 1, 'reg_lambda': 1, 'scale_pos_weight': 4}"
      ]
     },
     "execution_count": 59,
     "metadata": {},
     "output_type": "execute_result"
    }
   ],
   "source": [
    "grid_cv.best_params_"
   ]
  },
  {
   "cell_type": "code",
   "execution_count": 60,
   "metadata": {
    "cell_id": "00086-13abcc41-7043-4c5f-8b9f-784b4e86e4df",
    "deepnote_cell_type": "code",
    "deepnote_to_be_reexecuted": false,
    "execution_millis": 4124,
    "execution_start": 1621971956598,
    "source_hash": "b832b4f3",
    "tags": []
   },
   "outputs": [],
   "source": [
    "y_pred_grid = grid_cv.predict(X_test_xgb)\n",
    "predictions = [round(value) for value in y_pred_grid]"
   ]
  },
  {
   "cell_type": "code",
   "execution_count": 61,
   "metadata": {
    "cell_id": "00088-1efc91ef-d697-4ecd-9a76-c56f3a66ce36",
    "deepnote_cell_type": "code",
    "deepnote_to_be_reexecuted": false,
    "execution_millis": 149,
    "execution_start": 1621971961582,
    "source_hash": "dde815b2",
    "tags": []
   },
   "outputs": [
    {
     "data": {
      "image/png": "[encoded data removed]",
      "text/plain": [
       "<Figure size 360x360 with 1 Axes>"
      ]
     },
     "metadata": {
      "needs_background": "light"
     },
     "output_type": "display_data"
    }
   ],
   "source": [
    "cm = confusion_matrix(y_test_xgb, predictions)\n",
    "\n",
    "fig, ax = plt.subplots(figsize=(5, 5))\n",
    "ax.imshow(cm)\n",
    "ax.grid(False)\n",
    "ax.xaxis.set(ticks=(0, 1), ticklabels=('Predicted 0s', 'Predicted 1s'))\n",
    "ax.yaxis.set(ticks=(0, 1), ticklabels=('Actual 0s', 'Actual 1s'))\n",
    "ax.set_ylim(1.5, -0.5)\n",
    "for i in range(2):\n",
    "    for j in range(2):\n",
    "        ax.text(j, i, cm[i, j], ha='center', va='center', color='red')\n",
    "plt.title('Confusion matrix')\n",
    "plt.show()"
   ]
  },
  {
   "cell_type": "code",
   "execution_count": 65,
   "metadata": {
    "cell_id": "00090-672d05fe-8d45-46ce-ae37-9b75ddaf1224",
    "deepnote_cell_type": "code",
    "deepnote_to_be_reexecuted": false,
    "execution_millis": 72,
    "execution_start": 1621971961660,
    "source_hash": "ad9bf6ce",
    "tags": []
   },
   "outputs": [
    {
     "data": {
      "text/plain": [
       "0.7645150827116445"
      ]
     },
     "execution_count": 65,
     "metadata": {},
     "output_type": "execute_result"
    }
   ],
   "source": [
    "accuracy_score(y_test_xgb, y_pred_grid)"
   ]
  },
  {
   "cell_type": "code",
   "execution_count": 66,
   "metadata": {},
   "outputs": [
    {
     "data": {
      "text/plain": [
       "0.4989648033126293"
      ]
     },
     "execution_count": 66,
     "metadata": {},
     "output_type": "execute_result"
    }
   ],
   "source": [
    "f1_score(y_test_xgb, y_pred_grid)"
   ]
  },
  {
   "cell_type": "markdown",
   "metadata": {},
   "source": [
    "Są to najlepsze wyniki, jakie do tej pory uzyskaliśmy. Dokładność wynosi 76%, a wskaźnik F1 niemalże 50%. W porównaniu z wszystkimi trzema poprzednimi modelami jest to najbardziej satysfakcjonujący wynik. Udało się nam spełnić analityczne kryteium sukcesu. "
   ]
  },
  {
   "cell_type": "markdown",
   "metadata": {
    "cell_id": "00080-0739d71a-7d03-4aaf-ba00-394a76b63a39",
    "deepnote_cell_type": "markdown",
    "tags": []
   },
   "source": [
    "### Zapisywanie modelu do użycia w aplikacji"
   ]
  },
  {
   "cell_type": "code",
   "execution_count": 64,
   "metadata": {
    "cell_id": "00081-443e1613-25aa-44b5-abbc-bcfa1e83aeb2",
    "deepnote_cell_type": "code",
    "deepnote_to_be_reexecuted": true,
    "execution_millis": 23,
    "execution_start": 1621786784265,
    "source_hash": "f49bb1bf",
    "tags": []
   },
   "outputs": [],
   "source": [
    "import pickle\n",
    "\n",
    "# model naiwny\n",
    "with open('model/model_lr.pkl', 'wb') as model_file:\n",
    "    pickle.dump(model_lr_balanced, model_file)\n",
    "    \n",
    "#XGB Classifier\n",
    "with open('model/model_xgb.pkl', 'wb') as model_file:\n",
    "    pickle.dump(grid_cv, model_file)"
   ]
  },
  {
   "cell_type": "markdown",
   "metadata": {},
   "source": [
    "### Eksperyment A/B"
   ]
  },
  {
   "cell_type": "markdown",
   "metadata": {},
   "source": [
    "- Wariant A: XGBClassifier z parametrami znalezionymi przez GridSearchCV, czyli najlepszy uzyskany model\n",
    "- Wariant B: niezbalansowana regresja logistyczna\n",
    "\n",
    "Każda próbka ze zbioru testowego jest przydzielona albo do wariantu A, albo do B (tylko do jednego z nich). Hashujemy każdego użytkownika (jego identyfikator), a następnie przydzielamy go do wariantu A lub B wykonując operację modulo 2 (0: wariant A, 1: wariant B). Predykcje zapisujemy w logach aplikacji."
   ]
  },
  {
   "cell_type": "markdown",
   "metadata": {},
   "source": [
    "Repozytorium na GitHubie z implementacją aplikacji użytkowej: https://github.com/olkuka/IUM-project.\n",
    "\n",
    "Link do aplikacji webowej: https://ium-project.herokuapp.com/"
   ]
  }
 ],
 "metadata": {
  "deepnote": {
   "is_reactive": false
  },
  "deepnote_execution_queue": [],
  "deepnote_notebook_id": "86018db3-9d84-45d3-a940-66648a08ad29",
  "kernelspec": {
   "display_name": "Python 3",
   "language": "python",
   "name": "python3"
  },
  "language_info": {
   "codemirror_mode": {
    "name": "ipython",
    "version": 3
   },
   "file_extension": ".py",
   "mimetype": "text/x-python",
   "name": "python",
   "nbconvert_exporter": "python",
   "pygments_lexer": "ipython3",
   "version": "3.8.5"
  }
 },
 "nbformat": 4,
 "nbformat_minor": 4
}
