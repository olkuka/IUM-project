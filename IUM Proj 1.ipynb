{
 "cells": [
  {
   "cell_type": "markdown",
   "metadata": {
    "cell_id": "00000-ce25691c-a51c-414d-a22e-201382fca206",
    "deepnote_cell_type": "markdown"
   },
   "source": [
    "##### Mamy co prawda dodatkowe benefity dla naszych najlepszych klientów, ale może dałoby się ustalić kto potencjalnie jest skłonny wydawać u nas więcej?"
   ]
  },
  {
   "cell_type": "markdown",
   "metadata": {
    "cell_id": "00001-c0e597f4-c3c2-4673-9319-44ec21ee35fa",
    "deepnote_cell_type": "markdown"
   },
   "source": [
    "#### Kontekst\n",
    "- sklep internetowy z elektroniką i grami komputerowymi.\n",
    "\n",
    "#### Zadanie biznesowe\n",
    "- przewidywanie czy dana sesja klienta zakończy się zakupem po zaoferowaniu mu odpowiedniej zniżki\n",
    "\n",
    "\n",
    "#### Biznesowe kryterium sukcesu\n",
    "- system powinien poprawnie przewidywać zakończenie sesji (wyświetlenie / zakup)\n",
    "\n",
    "#### Definicja zadania/zadań modelowania\n",
    "\n",
    "- ##### Zadanie modelowania: \n",
    "    klasyfikacja\n",
    "\n",
    "- ##### Dane do modelowania\n",
    "    Zbiór danych sesji uzupełnionych o ceny, kategorie produktów oraz miasto zamieszkania usera.\n",
    "    - users: id, city\n",
    "    - sessions: session_id, user_id, timestamp, product_id, **event_type, offered_discount**, purchase_id\n",
    "    - product_id, category_path, **price**\n",
    "    \n",
    "Finalna decyzja zakupu może mieć duży związek z interakcją ceny z obniżką. Klient może być bardziej skory do kupna, jeżeli dostanie 10% zniżki na produkt o wartości 1000 zł, niż do kupna produktu z tą samą zniżką, ale o wartości 100 zł. \n",
    "\n",
    "- ##### Analityczne kryterium sukcesu\n",
    "Zbudowanie zbalansowanego modelu, który przewyższa skuteczność modelu naiwnego.\n",
    "\n",
    "_Model naiwny w naszym przypadku mógłby przewidywać tylko VIEW PRODUCT i miałby wtedy około 85,7% skuteczności (Aktualnie na 6 akcji VIEW PRODUCT, mamy 1 akcję BUY PRODUCT (14.3%))._\n",
    "\n",
    "#### Założenia\n",
    "- przewidujemy klasę dla danych wejściowych (event type: VIEW PRODUCT lub BUY PRODUCT)\n",
    "- parametry analitycznego kryterium sukcesu są ustalone bezpośrednio na podstawie biznesowego kryterium sukcesu."
   ]
  },
  {
   "cell_type": "markdown",
   "metadata": {
    "cell_id": "00002-d0d600a6-f0e0-4212-b318-508301019f07",
    "deepnote_cell_type": "markdown",
    "tags": []
   },
   "source": [
    "#### Analiza danych z perspektywy realizacji zadań"
   ]
  },
  {
   "cell_type": "code",
   "execution_count": 1,
   "metadata": {
    "cell_id": "00002-410aca81-42e0-4f5b-8792-b282e8ecd5e5",
    "deepnote_cell_type": "code",
    "deepnote_to_be_reexecuted": false,
    "execution_millis": 5,
    "execution_start": 1618673970697,
    "source_hash": "a0e7b017"
   },
   "outputs": [],
   "source": [
    "import pandas as pd\n",
    "import numpy as np\n",
    "import matplotlib.pyplot as plt\n",
    "import seaborn as sn\n",
    "import statsmodels.api as sm\n",
    "import statsmodels.graphics.api as smg"
   ]
  },
  {
   "cell_type": "code",
   "execution_count": 2,
   "metadata": {
    "cell_id": "00003-68437c6b-764b-4428-bf1a-913d975b6ed9",
    "deepnote_cell_type": "code",
    "deepnote_to_be_reexecuted": false,
    "execution_millis": 7,
    "execution_start": 1618673986035,
    "source_hash": "6bf17448"
   },
   "outputs": [
    {
     "name": "stdout",
     "output_type": "stream",
     "text": [
      "Name with path: /home/olkuka/Pulpit/Studia/IUM/IUM-project/data/deliveries.jsonl \n",
      "Name without path: deliveries.jsonl\n",
      "Name with path: /home/olkuka/Pulpit/Studia/IUM/IUM-project/data/products.jsonl \n",
      "Name without path: products.jsonl\n",
      "Name with path: /home/olkuka/Pulpit/Studia/IUM/IUM-project/data/sessions.jsonl \n",
      "Name without path: sessions.jsonl\n",
      "Name with path: /home/olkuka/Pulpit/Studia/IUM/IUM-project/data/users.jsonl \n",
      "Name without path: users.jsonl\n"
     ]
    }
   ],
   "source": [
    "import os, glob\n",
    "\n",
    "inputs = []\n",
    "\n",
    "for each in sorted(glob.glob(os.path.join(os.getcwd(),'data/*.jsonl'), recursive=True)):\n",
    "    print(f'Name with path: {each} \\nName without path: {os.path.basename(each)}')\n",
    "    inputs.append(each)"
   ]
  },
  {
   "cell_type": "code",
   "execution_count": 3,
   "metadata": {
    "cell_id": "00004-95783288-c51c-45dd-9516-6738e8af0edd",
    "deepnote_cell_type": "code",
    "deepnote_to_be_reexecuted": false,
    "execution_millis": 411,
    "execution_start": 1618673971684,
    "source_hash": "d9912af0"
   },
   "outputs": [],
   "source": [
    "deliveries = pd.read_json(inputs[0], lines=True)\n",
    "products = pd.read_json(inputs[1], lines=True)\n",
    "sessions = pd.read_json(inputs[2], lines=True)\n",
    "users = pd.read_json(inputs[3], lines=True)"
   ]
  },
  {
   "cell_type": "code",
   "execution_count": 4,
   "metadata": {
    "cell_id": "00005-4c363306-939f-44d9-9853-6898fd389388",
    "deepnote_cell_type": "code",
    "deepnote_to_be_reexecuted": false,
    "execution_millis": 6,
    "execution_start": 1618673972547,
    "source_hash": "97d97978"
   },
   "outputs": [
    {
     "data": {
      "text/plain": [
       "user_id    200\n",
       "name       200\n",
       "city       200\n",
       "street     200\n",
       "dtype: int64"
      ]
     },
     "execution_count": 4,
     "metadata": {},
     "output_type": "execute_result"
    }
   ],
   "source": [
    "# No missing data in users\n",
    "users.count()"
   ]
  },
  {
   "cell_type": "code",
   "execution_count": 5,
   "metadata": {
    "cell_id": "00006-407fd595-8dfd-437f-ac91-3e772237abaf",
    "deepnote_cell_type": "code",
    "deepnote_to_be_reexecuted": false,
    "execution_millis": 32,
    "execution_start": 1618673973180,
    "source_hash": "43709f6a"
   },
   "outputs": [
    {
     "data": {
      "text/html": [
       "<div>\n",
       "<style scoped>\n",
       "    .dataframe tbody tr th:only-of-type {\n",
       "        vertical-align: middle;\n",
       "    }\n",
       "\n",
       "    .dataframe tbody tr th {\n",
       "        vertical-align: top;\n",
       "    }\n",
       "\n",
       "    .dataframe thead th {\n",
       "        text-align: right;\n",
       "    }\n",
       "</style>\n",
       "<table border=\"1\" class=\"dataframe\">\n",
       "  <thead>\n",
       "    <tr style=\"text-align: right;\">\n",
       "      <th></th>\n",
       "      <th>user_id</th>\n",
       "      <th>name</th>\n",
       "      <th>city</th>\n",
       "      <th>street</th>\n",
       "    </tr>\n",
       "  </thead>\n",
       "  <tbody>\n",
       "    <tr>\n",
       "      <th>50</th>\n",
       "      <td>152</td>\n",
       "      <td>Bianka Tlałka</td>\n",
       "      <td>Konin</td>\n",
       "      <td>aleja Rataja 389</td>\n",
       "    </tr>\n",
       "    <tr>\n",
       "      <th>184</th>\n",
       "      <td>286</td>\n",
       "      <td>Mariusz Szramka</td>\n",
       "      <td>Warszawa</td>\n",
       "      <td>pl. Daszyńskiego 34/75</td>\n",
       "    </tr>\n",
       "    <tr>\n",
       "      <th>20</th>\n",
       "      <td>122</td>\n",
       "      <td>Mariusz Jany</td>\n",
       "      <td>Warszawa</td>\n",
       "      <td>ul. Krasińskiego 26</td>\n",
       "    </tr>\n",
       "  </tbody>\n",
       "</table>\n",
       "</div>"
      ],
      "text/plain": [
       "     user_id             name      city                  street\n",
       "50       152    Bianka Tlałka     Konin        aleja Rataja 389\n",
       "184      286  Mariusz Szramka  Warszawa  pl. Daszyńskiego 34/75\n",
       "20       122     Mariusz Jany  Warszawa     ul. Krasińskiego 26"
      ]
     },
     "execution_count": 5,
     "metadata": {},
     "output_type": "execute_result"
    }
   ],
   "source": [
    "users.sample(3)"
   ]
  },
  {
   "cell_type": "code",
   "execution_count": 6,
   "metadata": {
    "cell_id": "00008-785f1a63-09cb-42fc-a4f0-00260ee9ed06",
    "deepnote_cell_type": "code",
    "deepnote_to_be_reexecuted": false,
    "execution_millis": 56,
    "execution_start": 1618673973869,
    "source_hash": "c3871732",
    "tags": []
   },
   "outputs": [
    {
     "data": {
      "text/plain": [
       "200"
      ]
     },
     "execution_count": 6,
     "metadata": {},
     "output_type": "execute_result"
    }
   ],
   "source": [
    "# Users names are unique\n",
    "users.name.nunique()"
   ]
  },
  {
   "cell_type": "code",
   "execution_count": 7,
   "metadata": {
    "cell_id": "00007-3260298e-873c-47c6-9e8d-4fbe1daa3f42",
    "deepnote_cell_type": "code",
    "deepnote_to_be_reexecuted": false,
    "execution_millis": 7,
    "execution_start": 1618673974686,
    "source_hash": "76baac2a"
   },
   "outputs": [
    {
     "data": {
      "text/plain": [
       "purchase_id           5297\n",
       "purchase_timestamp    5297\n",
       "delivery_timestamp    5016\n",
       "delivery_company      5045\n",
       "dtype: int64"
      ]
     },
     "execution_count": 7,
     "metadata": {},
     "output_type": "execute_result"
    }
   ],
   "source": [
    "deliveries.count()"
   ]
  },
  {
   "cell_type": "code",
   "execution_count": 8,
   "metadata": {
    "cell_id": "00008-4b82b13b-7384-4941-89b1-a9899ed91473",
    "deepnote_cell_type": "code",
    "deepnote_to_be_reexecuted": false,
    "execution_millis": 43,
    "execution_start": 1618673975344,
    "source_hash": "91513beb"
   },
   "outputs": [
    {
     "data": {
      "text/html": [
       "<div>\n",
       "<style scoped>\n",
       "    .dataframe tbody tr th:only-of-type {\n",
       "        vertical-align: middle;\n",
       "    }\n",
       "\n",
       "    .dataframe tbody tr th {\n",
       "        vertical-align: top;\n",
       "    }\n",
       "\n",
       "    .dataframe thead th {\n",
       "        text-align: right;\n",
       "    }\n",
       "</style>\n",
       "<table border=\"1\" class=\"dataframe\">\n",
       "  <thead>\n",
       "    <tr style=\"text-align: right;\">\n",
       "      <th></th>\n",
       "      <th>purchase_id</th>\n",
       "      <th>purchase_timestamp</th>\n",
       "      <th>delivery_timestamp</th>\n",
       "      <th>delivery_company</th>\n",
       "    </tr>\n",
       "  </thead>\n",
       "  <tbody>\n",
       "    <tr>\n",
       "      <th>884</th>\n",
       "      <td>20885</td>\n",
       "      <td>2021-02-22T13:59:01</td>\n",
       "      <td>2021-02-24T13:59:10</td>\n",
       "      <td>516.0</td>\n",
       "    </tr>\n",
       "    <tr>\n",
       "      <th>604</th>\n",
       "      <td>20605</td>\n",
       "      <td>2020-12-30T14:40:56</td>\n",
       "      <td>2021-01-02T14:43:08</td>\n",
       "      <td>360.0</td>\n",
       "    </tr>\n",
       "    <tr>\n",
       "      <th>3089</th>\n",
       "      <td>23090</td>\n",
       "      <td>2021-02-20T16:50:46</td>\n",
       "      <td>2021-02-25T16:52:28</td>\n",
       "      <td>360.0</td>\n",
       "    </tr>\n",
       "  </tbody>\n",
       "</table>\n",
       "</div>"
      ],
      "text/plain": [
       "      purchase_id   purchase_timestamp   delivery_timestamp  delivery_company\n",
       "884         20885  2021-02-22T13:59:01  2021-02-24T13:59:10             516.0\n",
       "604         20605  2020-12-30T14:40:56  2021-01-02T14:43:08             360.0\n",
       "3089        23090  2021-02-20T16:50:46  2021-02-25T16:52:28             360.0"
      ]
     },
     "execution_count": 8,
     "metadata": {},
     "output_type": "execute_result"
    }
   ],
   "source": [
    "deliveries.sample(3)"
   ]
  },
  {
   "cell_type": "code",
   "execution_count": 9,
   "metadata": {
    "cell_id": "00011-b1667e06-350a-4c5e-af08-7f67a3223982",
    "deepnote_cell_type": "code",
    "deepnote_to_be_reexecuted": false,
    "execution_millis": 53,
    "execution_start": 1618673976508,
    "source_hash": "d338b6ad",
    "tags": []
   },
   "outputs": [
    {
     "name": "stdout",
     "output_type": "stream",
     "text": [
      "<class 'pandas.core.frame.DataFrame'>\n",
      "RangeIndex: 5297 entries, 0 to 5296\n",
      "Data columns (total 4 columns):\n",
      " #   Column              Non-Null Count  Dtype  \n",
      "---  ------              --------------  -----  \n",
      " 0   purchase_id         5297 non-null   int64  \n",
      " 1   purchase_timestamp  5297 non-null   object \n",
      " 2   delivery_timestamp  5016 non-null   object \n",
      " 3   delivery_company    5045 non-null   float64\n",
      "dtypes: float64(1), int64(1), object(2)\n",
      "memory usage: 165.7+ KB\n"
     ]
    }
   ],
   "source": [
    "deliveries.info()"
   ]
  },
  {
   "cell_type": "code",
   "execution_count": 10,
   "metadata": {
    "cell_id": "00012-7f77df20-fabc-48d7-a013-b67c618e8cbb",
    "deepnote_cell_type": "code",
    "deepnote_to_be_reexecuted": false,
    "execution_millis": 29,
    "execution_start": 1618673531827,
    "source_hash": "fb6c217d",
    "tags": []
   },
   "outputs": [
    {
     "data": {
      "text/html": [
       "<div>\n",
       "<style scoped>\n",
       "    .dataframe tbody tr th:only-of-type {\n",
       "        vertical-align: middle;\n",
       "    }\n",
       "\n",
       "    .dataframe tbody tr th {\n",
       "        vertical-align: top;\n",
       "    }\n",
       "\n",
       "    .dataframe thead th {\n",
       "        text-align: right;\n",
       "    }\n",
       "</style>\n",
       "<table border=\"1\" class=\"dataframe\">\n",
       "  <thead>\n",
       "    <tr style=\"text-align: right;\">\n",
       "      <th></th>\n",
       "      <th>total_missing</th>\n",
       "      <th>perc_missing</th>\n",
       "    </tr>\n",
       "  </thead>\n",
       "  <tbody>\n",
       "    <tr>\n",
       "      <th>purchase_id</th>\n",
       "      <td>0</td>\n",
       "      <td>0.00000</td>\n",
       "    </tr>\n",
       "    <tr>\n",
       "      <th>purchase_timestamp</th>\n",
       "      <td>0</td>\n",
       "      <td>0.00000</td>\n",
       "    </tr>\n",
       "    <tr>\n",
       "      <th>delivery_timestamp</th>\n",
       "      <td>281</td>\n",
       "      <td>5.30489</td>\n",
       "    </tr>\n",
       "    <tr>\n",
       "      <th>delivery_company</th>\n",
       "      <td>252</td>\n",
       "      <td>4.75741</td>\n",
       "    </tr>\n",
       "  </tbody>\n",
       "</table>\n",
       "</div>"
      ],
      "text/plain": [
       "                    total_missing  perc_missing\n",
       "purchase_id                     0       0.00000\n",
       "purchase_timestamp              0       0.00000\n",
       "delivery_timestamp            281       5.30489\n",
       "delivery_company              252       4.75741"
      ]
     },
     "execution_count": 10,
     "metadata": {},
     "output_type": "execute_result"
    }
   ],
   "source": [
    "pd.DataFrame({'total_missing': deliveries.isnull().sum(), 'perc_missing': (deliveries.isnull().sum()/deliveries.purchase_id.count())*100})"
   ]
  },
  {
   "cell_type": "code",
   "execution_count": 11,
   "metadata": {
    "cell_id": "00010-a3174123-e805-4d98-a219-001a869f3392",
    "deepnote_cell_type": "code",
    "deepnote_to_be_reexecuted": false,
    "execution_millis": 56,
    "execution_start": 1618673533604,
    "source_hash": "6c9b89b6"
   },
   "outputs": [
    {
     "data": {
      "text/html": [
       "<div>\n",
       "<style scoped>\n",
       "    .dataframe tbody tr th:only-of-type {\n",
       "        vertical-align: middle;\n",
       "    }\n",
       "\n",
       "    .dataframe tbody tr th {\n",
       "        vertical-align: top;\n",
       "    }\n",
       "\n",
       "    .dataframe thead th {\n",
       "        text-align: right;\n",
       "    }\n",
       "</style>\n",
       "<table border=\"1\" class=\"dataframe\">\n",
       "  <thead>\n",
       "    <tr style=\"text-align: right;\">\n",
       "      <th></th>\n",
       "      <th>session_id</th>\n",
       "      <th>user_id</th>\n",
       "      <th>product_id</th>\n",
       "      <th>offered_discount</th>\n",
       "      <th>purchase_id</th>\n",
       "    </tr>\n",
       "  </thead>\n",
       "  <tbody>\n",
       "    <tr>\n",
       "      <th>count</th>\n",
       "      <td>37539.000000</td>\n",
       "      <td>35657.000000</td>\n",
       "      <td>35696.000000</td>\n",
       "      <td>37539.000000</td>\n",
       "      <td>5297.000000</td>\n",
       "    </tr>\n",
       "    <tr>\n",
       "      <th>mean</th>\n",
       "      <td>105310.580729</td>\n",
       "      <td>199.224388</td>\n",
       "      <td>1128.044851</td>\n",
       "      <td>4.921815</td>\n",
       "      <td>22649.000000</td>\n",
       "    </tr>\n",
       "    <tr>\n",
       "      <th>std</th>\n",
       "      <td>3049.208276</td>\n",
       "      <td>57.835868</td>\n",
       "      <td>119.183838</td>\n",
       "      <td>7.074449</td>\n",
       "      <td>1529.256519</td>\n",
       "    </tr>\n",
       "    <tr>\n",
       "      <th>min</th>\n",
       "      <td>100001.000000</td>\n",
       "      <td>102.000000</td>\n",
       "      <td>1001.000000</td>\n",
       "      <td>0.000000</td>\n",
       "      <td>20001.000000</td>\n",
       "    </tr>\n",
       "    <tr>\n",
       "      <th>25%</th>\n",
       "      <td>102677.000000</td>\n",
       "      <td>150.000000</td>\n",
       "      <td>1035.000000</td>\n",
       "      <td>0.000000</td>\n",
       "      <td>21325.000000</td>\n",
       "    </tr>\n",
       "    <tr>\n",
       "      <th>50%</th>\n",
       "      <td>105326.000000</td>\n",
       "      <td>196.000000</td>\n",
       "      <td>1067.000000</td>\n",
       "      <td>0.000000</td>\n",
       "      <td>22649.000000</td>\n",
       "    </tr>\n",
       "    <tr>\n",
       "      <th>75%</th>\n",
       "      <td>107956.000000</td>\n",
       "      <td>252.000000</td>\n",
       "      <td>1278.000000</td>\n",
       "      <td>10.000000</td>\n",
       "      <td>23973.000000</td>\n",
       "    </tr>\n",
       "    <tr>\n",
       "      <th>max</th>\n",
       "      <td>110597.000000</td>\n",
       "      <td>301.000000</td>\n",
       "      <td>1319.000000</td>\n",
       "      <td>20.000000</td>\n",
       "      <td>25297.000000</td>\n",
       "    </tr>\n",
       "  </tbody>\n",
       "</table>\n",
       "</div>"
      ],
      "text/plain": [
       "          session_id       user_id    product_id  offered_discount  \\\n",
       "count   37539.000000  35657.000000  35696.000000      37539.000000   \n",
       "mean   105310.580729    199.224388   1128.044851          4.921815   \n",
       "std      3049.208276     57.835868    119.183838          7.074449   \n",
       "min    100001.000000    102.000000   1001.000000          0.000000   \n",
       "25%    102677.000000    150.000000   1035.000000          0.000000   \n",
       "50%    105326.000000    196.000000   1067.000000          0.000000   \n",
       "75%    107956.000000    252.000000   1278.000000         10.000000   \n",
       "max    110597.000000    301.000000   1319.000000         20.000000   \n",
       "\n",
       "        purchase_id  \n",
       "count   5297.000000  \n",
       "mean   22649.000000  \n",
       "std     1529.256519  \n",
       "min    20001.000000  \n",
       "25%    21325.000000  \n",
       "50%    22649.000000  \n",
       "75%    23973.000000  \n",
       "max    25297.000000  "
      ]
     },
     "execution_count": 11,
     "metadata": {},
     "output_type": "execute_result"
    }
   ],
   "source": [
    "sessions.describe()"
   ]
  },
  {
   "cell_type": "code",
   "execution_count": 12,
   "metadata": {
    "cell_id": "00011-2ebc505d-6eed-4260-a30c-7f2dbf85c111",
    "deepnote_cell_type": "code",
    "deepnote_to_be_reexecuted": false,
    "execution_millis": 42,
    "execution_start": 1618673553477,
    "source_hash": "8436f832"
   },
   "outputs": [
    {
     "data": {
      "text/html": [
       "<div>\n",
       "<style scoped>\n",
       "    .dataframe tbody tr th:only-of-type {\n",
       "        vertical-align: middle;\n",
       "    }\n",
       "\n",
       "    .dataframe tbody tr th {\n",
       "        vertical-align: top;\n",
       "    }\n",
       "\n",
       "    .dataframe thead th {\n",
       "        text-align: right;\n",
       "    }\n",
       "</style>\n",
       "<table border=\"1\" class=\"dataframe\">\n",
       "  <thead>\n",
       "    <tr style=\"text-align: right;\">\n",
       "      <th></th>\n",
       "      <th>session_id</th>\n",
       "      <th>timestamp</th>\n",
       "      <th>user_id</th>\n",
       "      <th>product_id</th>\n",
       "      <th>event_type</th>\n",
       "      <th>offered_discount</th>\n",
       "      <th>purchase_id</th>\n",
       "    </tr>\n",
       "  </thead>\n",
       "  <tbody>\n",
       "    <tr>\n",
       "      <th>6234</th>\n",
       "      <td>101803</td>\n",
       "      <td>2020-12-20 22:41:08</td>\n",
       "      <td>134.0</td>\n",
       "      <td>1233.0</td>\n",
       "      <td>VIEW_PRODUCT</td>\n",
       "      <td>5</td>\n",
       "      <td>NaN</td>\n",
       "    </tr>\n",
       "    <tr>\n",
       "      <th>9380</th>\n",
       "      <td>102677</td>\n",
       "      <td>2020-05-23 13:01:45</td>\n",
       "      <td>150.0</td>\n",
       "      <td>1045.0</td>\n",
       "      <td>VIEW_PRODUCT</td>\n",
       "      <td>15</td>\n",
       "      <td>NaN</td>\n",
       "    </tr>\n",
       "    <tr>\n",
       "      <th>14815</th>\n",
       "      <td>104192</td>\n",
       "      <td>2021-03-11 23:24:06</td>\n",
       "      <td>176.0</td>\n",
       "      <td>1081.0</td>\n",
       "      <td>VIEW_PRODUCT</td>\n",
       "      <td>0</td>\n",
       "      <td>NaN</td>\n",
       "    </tr>\n",
       "  </tbody>\n",
       "</table>\n",
       "</div>"
      ],
      "text/plain": [
       "       session_id           timestamp  user_id  product_id    event_type  \\\n",
       "6234       101803 2020-12-20 22:41:08    134.0      1233.0  VIEW_PRODUCT   \n",
       "9380       102677 2020-05-23 13:01:45    150.0      1045.0  VIEW_PRODUCT   \n",
       "14815      104192 2021-03-11 23:24:06    176.0      1081.0  VIEW_PRODUCT   \n",
       "\n",
       "       offered_discount  purchase_id  \n",
       "6234                  5          NaN  \n",
       "9380                 15          NaN  \n",
       "14815                 0          NaN  "
      ]
     },
     "execution_count": 12,
     "metadata": {},
     "output_type": "execute_result"
    }
   ],
   "source": [
    "sessions.sample(3)"
   ]
  },
  {
   "cell_type": "code",
   "execution_count": 13,
   "metadata": {
    "cell_id": "00012-0bb571d7-bf01-470a-9c48-7cf0a712d6bc",
    "deepnote_cell_type": "code",
    "deepnote_to_be_reexecuted": false,
    "execution_millis": 17,
    "execution_start": 1618673554452,
    "source_hash": "d39f9289",
    "tags": []
   },
   "outputs": [
    {
     "name": "stdout",
     "output_type": "stream",
     "text": [
      "<class 'pandas.core.frame.DataFrame'>\n",
      "RangeIndex: 37539 entries, 0 to 37538\n",
      "Data columns (total 7 columns):\n",
      " #   Column            Non-Null Count  Dtype         \n",
      "---  ------            --------------  -----         \n",
      " 0   session_id        37539 non-null  int64         \n",
      " 1   timestamp         37539 non-null  datetime64[ns]\n",
      " 2   user_id           35657 non-null  float64       \n",
      " 3   product_id        35696 non-null  float64       \n",
      " 4   event_type        37539 non-null  object        \n",
      " 5   offered_discount  37539 non-null  int64         \n",
      " 6   purchase_id       5297 non-null   float64       \n",
      "dtypes: datetime64[ns](1), float64(3), int64(2), object(1)\n",
      "memory usage: 2.0+ MB\n"
     ]
    }
   ],
   "source": [
    "sessions.info()"
   ]
  },
  {
   "cell_type": "code",
   "execution_count": 14,
   "metadata": {
    "cell_id": "00016-40f0022b-9d85-4bbd-bf57-b9c999f1ce0e",
    "deepnote_cell_type": "code",
    "deepnote_to_be_reexecuted": false,
    "execution_millis": 24,
    "execution_start": 1618673565424,
    "source_hash": "9b009c2b",
    "tags": []
   },
   "outputs": [
    {
     "data": {
      "text/html": [
       "<div>\n",
       "<style scoped>\n",
       "    .dataframe tbody tr th:only-of-type {\n",
       "        vertical-align: middle;\n",
       "    }\n",
       "\n",
       "    .dataframe tbody tr th {\n",
       "        vertical-align: top;\n",
       "    }\n",
       "\n",
       "    .dataframe thead th {\n",
       "        text-align: right;\n",
       "    }\n",
       "</style>\n",
       "<table border=\"1\" class=\"dataframe\">\n",
       "  <thead>\n",
       "    <tr style=\"text-align: right;\">\n",
       "      <th></th>\n",
       "      <th>total_missing</th>\n",
       "      <th>perc_missing</th>\n",
       "    </tr>\n",
       "  </thead>\n",
       "  <tbody>\n",
       "    <tr>\n",
       "      <th>session_id</th>\n",
       "      <td>0</td>\n",
       "      <td>0.000000</td>\n",
       "    </tr>\n",
       "    <tr>\n",
       "      <th>timestamp</th>\n",
       "      <td>0</td>\n",
       "      <td>0.000000</td>\n",
       "    </tr>\n",
       "    <tr>\n",
       "      <th>user_id</th>\n",
       "      <td>1882</td>\n",
       "      <td>5.013453</td>\n",
       "    </tr>\n",
       "    <tr>\n",
       "      <th>product_id</th>\n",
       "      <td>1843</td>\n",
       "      <td>4.909561</td>\n",
       "    </tr>\n",
       "    <tr>\n",
       "      <th>event_type</th>\n",
       "      <td>0</td>\n",
       "      <td>0.000000</td>\n",
       "    </tr>\n",
       "    <tr>\n",
       "      <th>offered_discount</th>\n",
       "      <td>0</td>\n",
       "      <td>0.000000</td>\n",
       "    </tr>\n",
       "    <tr>\n",
       "      <th>purchase_id</th>\n",
       "      <td>32242</td>\n",
       "      <td>85.889342</td>\n",
       "    </tr>\n",
       "  </tbody>\n",
       "</table>\n",
       "</div>"
      ],
      "text/plain": [
       "                  total_missing  perc_missing\n",
       "session_id                    0      0.000000\n",
       "timestamp                     0      0.000000\n",
       "user_id                    1882      5.013453\n",
       "product_id                 1843      4.909561\n",
       "event_type                    0      0.000000\n",
       "offered_discount              0      0.000000\n",
       "purchase_id               32242     85.889342"
      ]
     },
     "execution_count": 14,
     "metadata": {},
     "output_type": "execute_result"
    }
   ],
   "source": [
    "pd.DataFrame({'total_missing': sessions.isnull().sum(), 'perc_missing': (sessions.isnull().sum()/sessions.session_id.count())*100})"
   ]
  },
  {
   "cell_type": "markdown",
   "metadata": {
    "cell_id": "00013-35682c55-a14e-4307-b079-5e18dd271b6f",
    "deepnote_cell_type": "markdown",
    "tags": []
   },
   "source": [
    "W tabeli sessions widzimy, że niektóre product_id są nan (dokładnie 1843 rekordy). Przez to wiersze z tymi pustymi wartościami są nam zbędne, bo nie ma sposobu, abyśmy doszli do tego jaki był oglądany/kupiony produkt. Nie możemy usunąć tych wierszy, ponieważ nie jesteśmy pewni czy te braki są MCAR - nie wiemy nic o tym, czy zależą od zmiennych ukrytych, czy też nie. \n",
    "\n",
    "Widzimy też, że w 1882 rekordach brakuje nam  user_id. Te wiersze prawdopodobnie nic nie wniosą do naszego algorytmu klasyfikacji, ponieważ nie możemy ich połączyć z żadnym z użytkowników z tabeli users. "
   ]
  },
  {
   "cell_type": "markdown",
   "metadata": {
    "cell_id": "00020-b4035f30-5852-4bbf-ab5d-3f622aa0c31c",
    "deepnote_cell_type": "markdown",
    "tags": []
   },
   "source": [
    "Sprawdzamy czy braki w danych są losowe heurystyką pokazaną na wykładzie. Dla zmiennej z brakami danych tworzymy zmienną wskaźnikową, która przyjmuje wartość 1, gdy są braki lub 0, gdy nie ma braków. Następnie za pomocą macierzy korelacji analizujemy zależności między utworzoną zmienną wskaźnikową, a pozostałymi. Najpierw dla user_id (zmienna wskaźnikowa: user_id_test), a następnie dla product_id (product_id_test)."
   ]
  },
  {
   "cell_type": "code",
   "execution_count": 15,
   "metadata": {
    "cell_id": "00020-1acd7e8b-8ddd-4370-9e2f-46d488362139",
    "deepnote_cell_type": "code",
    "deepnote_to_be_reexecuted": false,
    "execution_millis": 1,
    "execution_start": 1618674110301,
    "source_hash": "e11b2cfe",
    "tags": []
   },
   "outputs": [],
   "source": [
    "sessions_cp = sessions.copy()\n",
    "sessions_cp['user_id_test'] = np.where(sessions_cp.user_id.isnull(), 1, 0)\n",
    "sessions_cp = sessions_cp.drop([\"user_id\"], axis=1)\n",
    "# sessions_cp = pd.get_dummies(sessions_cp)\n",
    "\n",
    "cols = sessions_cp.columns.tolist()\n",
    "cols.remove(\"timestamp\")"
   ]
  },
  {
   "cell_type": "code",
   "execution_count": 16,
   "metadata": {
    "cell_id": "00022-1233b990-7f4f-46ed-be32-7ceabff30174",
    "deepnote_cell_type": "code",
    "deepnote_to_be_reexecuted": false,
    "execution_millis": 27,
    "execution_start": 1618674110610,
    "source_hash": "86664942",
    "tags": []
   },
   "outputs": [
    {
     "data": {
      "text/html": [
       "<style  type=\"text/css\" >\n",
       "#T_4d399_row0_col0,#T_4d399_row0_col3,#T_4d399_row1_col1,#T_4d399_row2_col2,#T_4d399_row3_col0,#T_4d399_row3_col3,#T_4d399_row4_col4{\n",
       "            background-color:  #b40426;\n",
       "            color:  #f1f1f1;\n",
       "        }#T_4d399_row0_col1,#T_4d399_row1_col0{\n",
       "            background-color:  #3f53c6;\n",
       "            color:  #f1f1f1;\n",
       "        }#T_4d399_row0_col2,#T_4d399_row0_col4,#T_4d399_row2_col0,#T_4d399_row4_col0{\n",
       "            background-color:  #3e51c5;\n",
       "            color:  #f1f1f1;\n",
       "        }#T_4d399_row1_col2,#T_4d399_row1_col3,#T_4d399_row2_col1,#T_4d399_row3_col1{\n",
       "            background-color:  #3b4cc0;\n",
       "            color:  #f1f1f1;\n",
       "        }#T_4d399_row1_col4,#T_4d399_row4_col1{\n",
       "            background-color:  #4358cb;\n",
       "            color:  #f1f1f1;\n",
       "        }#T_4d399_row2_col3,#T_4d399_row2_col4,#T_4d399_row3_col2,#T_4d399_row4_col2{\n",
       "            background-color:  #4055c8;\n",
       "            color:  #f1f1f1;\n",
       "        }#T_4d399_row3_col4,#T_4d399_row4_col3{\n",
       "            background-color:  #4257c9;\n",
       "            color:  #f1f1f1;\n",
       "        }</style><table id=\"T_4d399_\" ><thead>    <tr>        <th class=\"blank level0\" ></th>        <th class=\"col_heading level0 col0\" >session_id</th>        <th class=\"col_heading level0 col1\" >product_id</th>        <th class=\"col_heading level0 col2\" >offered_discount</th>        <th class=\"col_heading level0 col3\" >purchase_id</th>        <th class=\"col_heading level0 col4\" >user_id_test</th>    </tr></thead><tbody>\n",
       "                <tr>\n",
       "                        <th id=\"T_4d399_level0_row0\" class=\"row_heading level0 row0\" >session_id</th>\n",
       "                        <td id=\"T_4d399_row0_col0\" class=\"data row0 col0\" >1.000</td>\n",
       "                        <td id=\"T_4d399_row0_col1\" class=\"data row0 col1\" >-0.001</td>\n",
       "                        <td id=\"T_4d399_row0_col2\" class=\"data row0 col2\" >-0.007</td>\n",
       "                        <td id=\"T_4d399_row0_col3\" class=\"data row0 col3\" >1.000</td>\n",
       "                        <td id=\"T_4d399_row0_col4\" class=\"data row0 col4\" >-0.004</td>\n",
       "            </tr>\n",
       "            <tr>\n",
       "                        <th id=\"T_4d399_level0_row1\" class=\"row_heading level0 row1\" >product_id</th>\n",
       "                        <td id=\"T_4d399_row1_col0\" class=\"data row1 col0\" >-0.001</td>\n",
       "                        <td id=\"T_4d399_row1_col1\" class=\"data row1 col1\" >1.000</td>\n",
       "                        <td id=\"T_4d399_row1_col2\" class=\"data row1 col2\" >-0.018</td>\n",
       "                        <td id=\"T_4d399_row1_col3\" class=\"data row1 col3\" >-0.020</td>\n",
       "                        <td id=\"T_4d399_row1_col4\" class=\"data row1 col4\" >0.010</td>\n",
       "            </tr>\n",
       "            <tr>\n",
       "                        <th id=\"T_4d399_level0_row2\" class=\"row_heading level0 row2\" >offered_discount</th>\n",
       "                        <td id=\"T_4d399_row2_col0\" class=\"data row2 col0\" >-0.007</td>\n",
       "                        <td id=\"T_4d399_row2_col1\" class=\"data row2 col1\" >-0.018</td>\n",
       "                        <td id=\"T_4d399_row2_col2\" class=\"data row2 col2\" >1.000</td>\n",
       "                        <td id=\"T_4d399_row2_col3\" class=\"data row2 col3\" >0.000</td>\n",
       "                        <td id=\"T_4d399_row2_col4\" class=\"data row2 col4\" >0.002</td>\n",
       "            </tr>\n",
       "            <tr>\n",
       "                        <th id=\"T_4d399_level0_row3\" class=\"row_heading level0 row3\" >purchase_id</th>\n",
       "                        <td id=\"T_4d399_row3_col0\" class=\"data row3 col0\" >1.000</td>\n",
       "                        <td id=\"T_4d399_row3_col1\" class=\"data row3 col1\" >-0.020</td>\n",
       "                        <td id=\"T_4d399_row3_col2\" class=\"data row3 col2\" >0.000</td>\n",
       "                        <td id=\"T_4d399_row3_col3\" class=\"data row3 col3\" >1.000</td>\n",
       "                        <td id=\"T_4d399_row3_col4\" class=\"data row3 col4\" >0.005</td>\n",
       "            </tr>\n",
       "            <tr>\n",
       "                        <th id=\"T_4d399_level0_row4\" class=\"row_heading level0 row4\" >user_id_test</th>\n",
       "                        <td id=\"T_4d399_row4_col0\" class=\"data row4 col0\" >-0.004</td>\n",
       "                        <td id=\"T_4d399_row4_col1\" class=\"data row4 col1\" >0.010</td>\n",
       "                        <td id=\"T_4d399_row4_col2\" class=\"data row4 col2\" >0.002</td>\n",
       "                        <td id=\"T_4d399_row4_col3\" class=\"data row4 col3\" >0.005</td>\n",
       "                        <td id=\"T_4d399_row4_col4\" class=\"data row4 col4\" >1.000</td>\n",
       "            </tr>\n",
       "    </tbody></table>"
      ],
      "text/plain": [
       "<pandas.io.formats.style.Styler at 0x7fa12fc0c690>"
      ]
     },
     "execution_count": 16,
     "metadata": {},
     "output_type": "execute_result"
    }
   ],
   "source": [
    "sessions_cp.corr().style.background_gradient(cmap='coolwarm', axis=None).set_precision(3)"
   ]
  },
  {
   "cell_type": "markdown",
   "metadata": {
    "cell_id": "00024-164dec7c-f123-421f-8ec6-02d861177779",
    "deepnote_cell_type": "markdown",
    "tags": []
   },
   "source": [
    "Możemy zauważyć, że zmienna wskaźnikowa user_id_test jest słabo skorelowana z innymi atrybutami. Wciąż jednak nie mamy pewności czy braki nie są MNAR. Nie jesteśmy pewni, czy zmienna ta nie jest zależna od innej zmiennej ukrytej (związanej np. z używaną przez klienta przeglądarką i/lub z wersją systemu operacyjnego, na którym była ta przeglądarka uruchomiona)."
   ]
  },
  {
   "cell_type": "code",
   "execution_count": 17,
   "metadata": {
    "cell_id": "00029-99ade982-de5a-4ed8-a9a6-6fa9ade9acaa",
    "deepnote_cell_type": "code",
    "deepnote_to_be_reexecuted": false,
    "execution_millis": 16,
    "execution_start": 1618674127080,
    "source_hash": "86ef038a",
    "tags": []
   },
   "outputs": [],
   "source": [
    "sessions_cp = sessions.copy()\n",
    "sessions_cp['product_id_test'] = np.where(sessions_cp.user_id.isnull(), 1, 0)\n",
    "sessions_cp = sessions_cp.drop([\"product_id\"], axis=1)\n",
    "# sessions_cp = pd.get_dummies(sessions_cp)\n",
    "\n",
    "cols = sessions_cp.columns.tolist()\n",
    "cols.remove(\"timestamp\")"
   ]
  },
  {
   "cell_type": "code",
   "execution_count": 18,
   "metadata": {
    "cell_id": "00027-15dc5249-537b-440d-a0fd-07af31b59896",
    "deepnote_cell_type": "code",
    "deepnote_to_be_reexecuted": false,
    "execution_millis": 29,
    "execution_start": 1618674127774,
    "source_hash": "86664942",
    "tags": []
   },
   "outputs": [
    {
     "data": {
      "text/html": [
       "<style  type=\"text/css\" >\n",
       "#T_66ef2_row0_col0,#T_66ef2_row0_col1,#T_66ef2_row0_col3,#T_66ef2_row1_col0,#T_66ef2_row1_col1,#T_66ef2_row1_col3,#T_66ef2_row2_col2,#T_66ef2_row3_col0,#T_66ef2_row3_col1,#T_66ef2_row3_col3,#T_66ef2_row4_col4{\n",
       "            background-color:  #b40426;\n",
       "            color:  #f1f1f1;\n",
       "        }#T_66ef2_row0_col2,#T_66ef2_row0_col4,#T_66ef2_row1_col2,#T_66ef2_row2_col0,#T_66ef2_row2_col1,#T_66ef2_row4_col0{\n",
       "            background-color:  #3b4cc0;\n",
       "            color:  #f1f1f1;\n",
       "        }#T_66ef2_row1_col4,#T_66ef2_row4_col1{\n",
       "            background-color:  #000000;\n",
       "            color:  #f1f1f1;\n",
       "        }#T_66ef2_row2_col3,#T_66ef2_row3_col2{\n",
       "            background-color:  #3c4ec2;\n",
       "            color:  #f1f1f1;\n",
       "        }#T_66ef2_row2_col4,#T_66ef2_row4_col2{\n",
       "            background-color:  #3d50c3;\n",
       "            color:  #f1f1f1;\n",
       "        }#T_66ef2_row3_col4,#T_66ef2_row4_col3{\n",
       "            background-color:  #3e51c5;\n",
       "            color:  #f1f1f1;\n",
       "        }</style><table id=\"T_66ef2_\" ><thead>    <tr>        <th class=\"blank level0\" ></th>        <th class=\"col_heading level0 col0\" >session_id</th>        <th class=\"col_heading level0 col1\" >user_id</th>        <th class=\"col_heading level0 col2\" >offered_discount</th>        <th class=\"col_heading level0 col3\" >purchase_id</th>        <th class=\"col_heading level0 col4\" >product_id_test</th>    </tr></thead><tbody>\n",
       "                <tr>\n",
       "                        <th id=\"T_66ef2_level0_row0\" class=\"row_heading level0 row0\" >session_id</th>\n",
       "                        <td id=\"T_66ef2_row0_col0\" class=\"data row0 col0\" >1.000</td>\n",
       "                        <td id=\"T_66ef2_row0_col1\" class=\"data row0 col1\" >0.999</td>\n",
       "                        <td id=\"T_66ef2_row0_col2\" class=\"data row0 col2\" >-0.007</td>\n",
       "                        <td id=\"T_66ef2_row0_col3\" class=\"data row0 col3\" >1.000</td>\n",
       "                        <td id=\"T_66ef2_row0_col4\" class=\"data row0 col4\" >-0.004</td>\n",
       "            </tr>\n",
       "            <tr>\n",
       "                        <th id=\"T_66ef2_level0_row1\" class=\"row_heading level0 row1\" >user_id</th>\n",
       "                        <td id=\"T_66ef2_row1_col0\" class=\"data row1 col0\" >0.999</td>\n",
       "                        <td id=\"T_66ef2_row1_col1\" class=\"data row1 col1\" >1.000</td>\n",
       "                        <td id=\"T_66ef2_row1_col2\" class=\"data row1 col2\" >-0.007</td>\n",
       "                        <td id=\"T_66ef2_row1_col3\" class=\"data row1 col3\" >0.999</td>\n",
       "                        <td id=\"T_66ef2_row1_col4\" class=\"data row1 col4\" >nan</td>\n",
       "            </tr>\n",
       "            <tr>\n",
       "                        <th id=\"T_66ef2_level0_row2\" class=\"row_heading level0 row2\" >offered_discount</th>\n",
       "                        <td id=\"T_66ef2_row2_col0\" class=\"data row2 col0\" >-0.007</td>\n",
       "                        <td id=\"T_66ef2_row2_col1\" class=\"data row2 col1\" >-0.007</td>\n",
       "                        <td id=\"T_66ef2_row2_col2\" class=\"data row2 col2\" >1.000</td>\n",
       "                        <td id=\"T_66ef2_row2_col3\" class=\"data row2 col3\" >0.000</td>\n",
       "                        <td id=\"T_66ef2_row2_col4\" class=\"data row2 col4\" >0.002</td>\n",
       "            </tr>\n",
       "            <tr>\n",
       "                        <th id=\"T_66ef2_level0_row3\" class=\"row_heading level0 row3\" >purchase_id</th>\n",
       "                        <td id=\"T_66ef2_row3_col0\" class=\"data row3 col0\" >1.000</td>\n",
       "                        <td id=\"T_66ef2_row3_col1\" class=\"data row3 col1\" >0.999</td>\n",
       "                        <td id=\"T_66ef2_row3_col2\" class=\"data row3 col2\" >0.000</td>\n",
       "                        <td id=\"T_66ef2_row3_col3\" class=\"data row3 col3\" >1.000</td>\n",
       "                        <td id=\"T_66ef2_row3_col4\" class=\"data row3 col4\" >0.005</td>\n",
       "            </tr>\n",
       "            <tr>\n",
       "                        <th id=\"T_66ef2_level0_row4\" class=\"row_heading level0 row4\" >product_id_test</th>\n",
       "                        <td id=\"T_66ef2_row4_col0\" class=\"data row4 col0\" >-0.004</td>\n",
       "                        <td id=\"T_66ef2_row4_col1\" class=\"data row4 col1\" >nan</td>\n",
       "                        <td id=\"T_66ef2_row4_col2\" class=\"data row4 col2\" >0.002</td>\n",
       "                        <td id=\"T_66ef2_row4_col3\" class=\"data row4 col3\" >0.005</td>\n",
       "                        <td id=\"T_66ef2_row4_col4\" class=\"data row4 col4\" >1.000</td>\n",
       "            </tr>\n",
       "    </tbody></table>"
      ],
      "text/plain": [
       "<pandas.io.formats.style.Styler at 0x7fa12b486690>"
      ]
     },
     "execution_count": 18,
     "metadata": {},
     "output_type": "execute_result"
    }
   ],
   "source": [
    "sessions_cp.corr().style.background_gradient(cmap='coolwarm', axis=None).set_precision(3)"
   ]
  },
  {
   "cell_type": "markdown",
   "metadata": {
    "cell_id": "00029-5d3db8c6-4980-44e1-94b1-b02c2732b598",
    "deepnote_cell_type": "markdown",
    "tags": []
   },
   "source": [
    "Identyfikator produktu jest także słabo skorelowany z pozostałymi zmiennymi. W tym wypadku także nie możemy wykluczyć opcji, że braki są MNAR."
   ]
  },
  {
   "cell_type": "code",
   "execution_count": 19,
   "metadata": {
    "cell_id": "00018-a968de25-53f9-4c4e-b08a-eee11fdb9153",
    "deepnote_cell_type": "code",
    "deepnote_to_be_reexecuted": false,
    "execution_millis": 245,
    "execution_start": 1618673942613,
    "source_hash": "d712c03a",
    "tags": []
   },
   "outputs": [
    {
     "data": {
      "image/png": "[encoded data removed]",
      "text/plain": [
       "<Figure size 432x288 with 1 Axes>"
      ]
     },
     "metadata": {
      "needs_background": "light"
     },
     "output_type": "display_data"
    }
   ],
   "source": [
    "# nie ma żadnych wartości odstających do poprawienia\n",
    "numerical_columns = [\"offered_discount\"]\n",
    "sessions[numerical_columns].boxplot()\n",
    "plt.title(\"offered discount boxplot\")\n",
    "plt.show()"
   ]
  },
  {
   "cell_type": "code",
   "execution_count": 20,
   "metadata": {
    "cell_id": "00019-2265d4c8-746c-422a-a46c-c32127472e22",
    "deepnote_cell_type": "code",
    "deepnote_to_be_reexecuted": false,
    "execution_millis": 289,
    "execution_start": 1618673944843,
    "source_hash": "be6c0923",
    "tags": []
   },
   "outputs": [
    {
     "data": {
      "image/png": "[encoded data removed]",
      "text/plain": [
       "<Figure size 432x288 with 1 Axes>"
      ]
     },
     "metadata": {
      "needs_background": "light"
     },
     "output_type": "display_data"
    }
   ],
   "source": [
    "sn.histplot(sessions.event_type)\n",
    "plt.title(\"Distribution of session events\")\n",
    "plt.show()\n",
    "\n",
    "# na 6 oglądań, średnio mamy 1 zakup"
   ]
  },
  {
   "cell_type": "code",
   "execution_count": 21,
   "metadata": {
    "cell_id": "00020-cf1360fb-cd4b-423a-9b05-8b7609533707",
    "deepnote_cell_type": "code",
    "deepnote_to_be_reexecuted": false,
    "execution_millis": 30,
    "execution_start": 1618673947945,
    "source_hash": "5e365288",
    "tags": []
   },
   "outputs": [
    {
     "data": {
      "text/plain": [
       "0"
      ]
     },
     "execution_count": 21,
     "metadata": {},
     "output_type": "execute_result"
    }
   ],
   "source": [
    "# ile brakuje purchase_id gdy typ sesji to BUY_PRODUCT\n",
    "sessions[sessions.event_type==\"BUY_PRODUCT\"].purchase_id.isna().sum()"
   ]
  },
  {
   "cell_type": "markdown",
   "metadata": {
    "cell_id": "00022-d6e1897c-85bb-4162-bfec-a94b7badc853",
    "deepnote_cell_type": "markdown",
    "tags": []
   },
   "source": [
    "Gdy ktoś kupuje produkt, zawsze znamy id tego produktu."
   ]
  },
  {
   "cell_type": "code",
   "execution_count": 22,
   "metadata": {
    "cell_id": "00021-3d6b39e2-a0e0-4556-a7d8-6b2ac7086028",
    "deepnote_cell_type": "code",
    "deepnote_to_be_reexecuted": false,
    "execution_millis": 18,
    "execution_start": 1618673952746,
    "source_hash": "8f6683bc",
    "tags": []
   },
   "outputs": [
    {
     "data": {
      "text/plain": [
       "0"
      ]
     },
     "execution_count": 22,
     "metadata": {},
     "output_type": "execute_result"
    }
   ],
   "source": [
    "# ile sesji typu VIEW_PRODUCT ma purchase_id (prawdopodobnie niepotrzebne informacje)\n",
    "sessions[sessions.event_type==\"VIEW_PRODUCT\"].purchase_id.notna().sum()"
   ]
  },
  {
   "cell_type": "code",
   "execution_count": 23,
   "metadata": {
    "cell_id": "00019-4de1de06-9a96-4f55-bc1d-70260beb1a37",
    "deepnote_cell_type": "code",
    "deepnote_to_be_reexecuted": false,
    "execution_millis": 26,
    "execution_start": 1618673957553,
    "source_hash": "acd26b7c",
    "tags": []
   },
   "outputs": [
    {
     "name": "stdout",
     "output_type": "stream",
     "text": [
      "<class 'pandas.core.frame.DataFrame'>\n",
      "RangeIndex: 319 entries, 0 to 318\n",
      "Data columns (total 4 columns):\n",
      " #   Column         Non-Null Count  Dtype  \n",
      "---  ------         --------------  -----  \n",
      " 0   product_id     319 non-null    int64  \n",
      " 1   product_name   319 non-null    object \n",
      " 2   category_path  319 non-null    object \n",
      " 3   price          319 non-null    float64\n",
      "dtypes: float64(1), int64(1), object(2)\n",
      "memory usage: 10.1+ KB\n"
     ]
    }
   ],
   "source": [
    "# Brak pustych komórek.\n",
    "products.info()"
   ]
  },
  {
   "cell_type": "code",
   "execution_count": 24,
   "metadata": {
    "cell_id": "00023-3a72afd3-ce28-4901-8c0b-3d929cd0dbad",
    "deepnote_cell_type": "code",
    "deepnote_to_be_reexecuted": false,
    "execution_millis": 43,
    "execution_start": 1618673958797,
    "source_hash": "9122d6c8",
    "tags": []
   },
   "outputs": [
    {
     "data": {
      "text/html": [
       "<div>\n",
       "<style scoped>\n",
       "    .dataframe tbody tr th:only-of-type {\n",
       "        vertical-align: middle;\n",
       "    }\n",
       "\n",
       "    .dataframe tbody tr th {\n",
       "        vertical-align: top;\n",
       "    }\n",
       "\n",
       "    .dataframe thead th {\n",
       "        text-align: right;\n",
       "    }\n",
       "</style>\n",
       "<table border=\"1\" class=\"dataframe\">\n",
       "  <thead>\n",
       "    <tr style=\"text-align: right;\">\n",
       "      <th></th>\n",
       "      <th>product_id</th>\n",
       "      <th>product_name</th>\n",
       "      <th>category_path</th>\n",
       "      <th>price</th>\n",
       "    </tr>\n",
       "  </thead>\n",
       "  <tbody>\n",
       "    <tr>\n",
       "      <th>124</th>\n",
       "      <td>1125</td>\n",
       "      <td>Diablo 3 (PC)</td>\n",
       "      <td>Gry i konsole;Gry komputerowe</td>\n",
       "      <td>69.90</td>\n",
       "    </tr>\n",
       "    <tr>\n",
       "      <th>57</th>\n",
       "      <td>1058</td>\n",
       "      <td>Angry Birds Classic (PC)</td>\n",
       "      <td>Gry i konsole;Gry komputerowe</td>\n",
       "      <td>24.99</td>\n",
       "    </tr>\n",
       "    <tr>\n",
       "      <th>39</th>\n",
       "      <td>1040</td>\n",
       "      <td>Crysis 2 (PS3)</td>\n",
       "      <td>Gry i konsole;Gry na konsole;Gry PlayStation3</td>\n",
       "      <td>79.90</td>\n",
       "    </tr>\n",
       "  </tbody>\n",
       "</table>\n",
       "</div>"
      ],
      "text/plain": [
       "     product_id              product_name  \\\n",
       "124        1125             Diablo 3 (PC)   \n",
       "57         1058  Angry Birds Classic (PC)   \n",
       "39         1040            Crysis 2 (PS3)   \n",
       "\n",
       "                                     category_path  price  \n",
       "124                  Gry i konsole;Gry komputerowe  69.90  \n",
       "57                   Gry i konsole;Gry komputerowe  24.99  \n",
       "39   Gry i konsole;Gry na konsole;Gry PlayStation3  79.90  "
      ]
     },
     "execution_count": 24,
     "metadata": {},
     "output_type": "execute_result"
    }
   ],
   "source": [
    "products.sample(3)"
   ]
  },
  {
   "cell_type": "code",
   "execution_count": 25,
   "metadata": {
    "cell_id": "00012-ed832146-fd44-42c4-849e-a9be62824304",
    "deepnote_cell_type": "code",
    "deepnote_to_be_reexecuted": false,
    "execution_millis": 35,
    "execution_start": 1618673960476,
    "source_hash": "6d63a87d"
   },
   "outputs": [
    {
     "data": {
      "text/html": [
       "<div>\n",
       "<style scoped>\n",
       "    .dataframe tbody tr th:only-of-type {\n",
       "        vertical-align: middle;\n",
       "    }\n",
       "\n",
       "    .dataframe tbody tr th {\n",
       "        vertical-align: top;\n",
       "    }\n",
       "\n",
       "    .dataframe thead th {\n",
       "        text-align: right;\n",
       "    }\n",
       "</style>\n",
       "<table border=\"1\" class=\"dataframe\">\n",
       "  <thead>\n",
       "    <tr style=\"text-align: right;\">\n",
       "      <th></th>\n",
       "      <th>product_id</th>\n",
       "      <th>price</th>\n",
       "    </tr>\n",
       "  </thead>\n",
       "  <tbody>\n",
       "    <tr>\n",
       "      <th>count</th>\n",
       "      <td>319.000000</td>\n",
       "      <td>3.190000e+02</td>\n",
       "    </tr>\n",
       "    <tr>\n",
       "      <th>mean</th>\n",
       "      <td>1160.000000</td>\n",
       "      <td>5.370644e+06</td>\n",
       "    </tr>\n",
       "    <tr>\n",
       "      <th>std</th>\n",
       "      <td>92.231593</td>\n",
       "      <td>4.231655e+07</td>\n",
       "    </tr>\n",
       "    <tr>\n",
       "      <th>min</th>\n",
       "      <td>1001.000000</td>\n",
       "      <td>-2.450000e+02</td>\n",
       "    </tr>\n",
       "    <tr>\n",
       "      <th>25%</th>\n",
       "      <td>1080.500000</td>\n",
       "      <td>2.390000e+01</td>\n",
       "    </tr>\n",
       "    <tr>\n",
       "      <th>50%</th>\n",
       "      <td>1160.000000</td>\n",
       "      <td>4.499000e+01</td>\n",
       "    </tr>\n",
       "    <tr>\n",
       "      <th>75%</th>\n",
       "      <td>1239.500000</td>\n",
       "      <td>1.109900e+02</td>\n",
       "    </tr>\n",
       "    <tr>\n",
       "      <th>max</th>\n",
       "      <td>1319.000000</td>\n",
       "      <td>6.887800e+08</td>\n",
       "    </tr>\n",
       "  </tbody>\n",
       "</table>\n",
       "</div>"
      ],
      "text/plain": [
       "        product_id         price\n",
       "count   319.000000  3.190000e+02\n",
       "mean   1160.000000  5.370644e+06\n",
       "std      92.231593  4.231655e+07\n",
       "min    1001.000000 -2.450000e+02\n",
       "25%    1080.500000  2.390000e+01\n",
       "50%    1160.000000  4.499000e+01\n",
       "75%    1239.500000  1.109900e+02\n",
       "max    1319.000000  6.887800e+08"
      ]
     },
     "execution_count": 25,
     "metadata": {},
     "output_type": "execute_result"
    }
   ],
   "source": [
    "products.describe()"
   ]
  },
  {
   "cell_type": "markdown",
   "metadata": {
    "cell_id": "00016-42e32b59-fa83-49bc-b8cf-0d3e56c0a78e",
    "deepnote_cell_type": "markdown",
    "tags": []
   },
   "source": [
    "Po prostym poleceniu describe() wykonanym na tabeli products widzimy, że w danych pojawiają się ujemne ceny. Nie jest to możliwe. Dodatkowo widzimy, że istnieją takie ceny (bądź jedna cena), która wyraźnie odstaje od reszty, tym samym nielogicznie zawyża średnią i odchylenie standardowe. Trzeba koniecznie zidentyfikować te wartości i dopytać się klienta, czy są one w ogóle możliwe. "
   ]
  },
  {
   "cell_type": "code",
   "execution_count": 26,
   "metadata": {
    "cell_id": "00022-edfd1081-1e9b-4cd3-9cf1-3b313fa5a00e",
    "deepnote_cell_type": "code",
    "deepnote_to_be_reexecuted": false,
    "execution_millis": 204,
    "execution_start": 1618673965494,
    "source_hash": "713ba29b",
    "tags": []
   },
   "outputs": [
    {
     "data": {
      "image/png": "[encoded data removed]",
      "text/plain": [
       "<Figure size 432x288 with 1 Axes>"
      ]
     },
     "metadata": {
      "needs_background": "light"
     },
     "output_type": "display_data"
    }
   ],
   "source": [
    "numerical_columns = ['price']\n",
    "products[numerical_columns].boxplot()\n",
    "plt.title('Price boxplot')\n",
    "plt.show()"
   ]
  },
  {
   "cell_type": "markdown",
   "metadata": {
    "cell_id": "00024-8066706a-e458-4d60-a9a5-3a4905a0e184",
    "deepnote_cell_type": "markdown",
    "tags": []
   },
   "source": [
    "Widzimy jak bardzo odstają nam wartości w kwotach rzędu milionowego. Na wykresie widać to idealnie, ponieważ 25%, 50% i 75% znajdują się w tym samym miejscu na 0 (zielona linia). To oznacza, że niestety mamy tutaj dużo wartości odstających, z którymi trzeba coś zrobić. Pojawia się jednak pytanie - którą kwotę jako pierwszą można uznać za odstającą?"
   ]
  },
  {
   "cell_type": "code",
   "execution_count": 27,
   "metadata": {
    "cell_id": "00025-e26758c6-07ab-490e-b749-24ef54e30a84",
    "deepnote_cell_type": "code",
    "deepnote_to_be_reexecuted": false,
    "execution_millis": 46,
    "execution_start": 1618673973917,
    "source_hash": "672c4aa1",
    "tags": []
   },
   "outputs": [
    {
     "data": {
      "text/html": [
       "<div>\n",
       "<style scoped>\n",
       "    .dataframe tbody tr th:only-of-type {\n",
       "        vertical-align: middle;\n",
       "    }\n",
       "\n",
       "    .dataframe tbody tr th {\n",
       "        vertical-align: top;\n",
       "    }\n",
       "\n",
       "    .dataframe thead th {\n",
       "        text-align: right;\n",
       "    }\n",
       "</style>\n",
       "<table border=\"1\" class=\"dataframe\">\n",
       "  <thead>\n",
       "    <tr style=\"text-align: right;\">\n",
       "      <th></th>\n",
       "      <th>product_id</th>\n",
       "      <th>product_name</th>\n",
       "      <th>category_path</th>\n",
       "      <th>price</th>\n",
       "    </tr>\n",
       "  </thead>\n",
       "  <tbody>\n",
       "    <tr>\n",
       "      <th>27</th>\n",
       "      <td>1028</td>\n",
       "      <td>Sniper Ghost Warrior 2 (Xbox 360)</td>\n",
       "      <td>Gry i konsole;Gry na konsole;Gry Xbox 360</td>\n",
       "      <td>39000000.0</td>\n",
       "    </tr>\n",
       "    <tr>\n",
       "      <th>31</th>\n",
       "      <td>1032</td>\n",
       "      <td>LCD Iiyama E2280WSD</td>\n",
       "      <td>Komputery;Monitory;Monitory LCD</td>\n",
       "      <td>688780000.0</td>\n",
       "    </tr>\n",
       "    <tr>\n",
       "      <th>40</th>\n",
       "      <td>1041</td>\n",
       "      <td>Crysis 3 (PS3)</td>\n",
       "      <td>Gry i konsole;Gry na konsole;Gry PlayStation3</td>\n",
       "      <td>79900000.0</td>\n",
       "    </tr>\n",
       "    <tr>\n",
       "      <th>48</th>\n",
       "      <td>1049</td>\n",
       "      <td>Max Payne 3 (PC)</td>\n",
       "      <td>Gry i konsole;Gry komputerowe</td>\n",
       "      <td>17900000.0</td>\n",
       "    </tr>\n",
       "    <tr>\n",
       "      <th>66</th>\n",
       "      <td>1067</td>\n",
       "      <td>Nokia 3310</td>\n",
       "      <td>Telefony i akcesoria;Telefony komórkowe</td>\n",
       "      <td>207330000.0</td>\n",
       "    </tr>\n",
       "    <tr>\n",
       "      <th>73</th>\n",
       "      <td>1074</td>\n",
       "      <td>Gembird BTCC-002</td>\n",
       "      <td>Telefony i akcesoria;Akcesoria telefoniczne;Ze...</td>\n",
       "      <td>86280000.0</td>\n",
       "    </tr>\n",
       "    <tr>\n",
       "      <th>87</th>\n",
       "      <td>1088</td>\n",
       "      <td>Fallout New Vegas (PC)</td>\n",
       "      <td>Gry i konsole;Gry komputerowe</td>\n",
       "      <td>32990000.0</td>\n",
       "    </tr>\n",
       "    <tr>\n",
       "      <th>143</th>\n",
       "      <td>1144</td>\n",
       "      <td>Street Fighter 4 (PC)</td>\n",
       "      <td>Gry i konsole;Gry komputerowe</td>\n",
       "      <td>1990000.0</td>\n",
       "    </tr>\n",
       "    <tr>\n",
       "      <th>213</th>\n",
       "      <td>1214</td>\n",
       "      <td>Call of Cthulhu Mroczne zakamarki Świata (PC)</td>\n",
       "      <td>Gry i konsole;Gry komputerowe</td>\n",
       "      <td>18990000.0</td>\n",
       "    </tr>\n",
       "    <tr>\n",
       "      <th>222</th>\n",
       "      <td>1223</td>\n",
       "      <td>Call of Duty Black Ops 2 (PC)</td>\n",
       "      <td>Gry i konsole;Gry komputerowe</td>\n",
       "      <td>32990000.0</td>\n",
       "    </tr>\n",
       "    <tr>\n",
       "      <th>231</th>\n",
       "      <td>1232</td>\n",
       "      <td>Symulator Prac Górniczych (PC)</td>\n",
       "      <td>Gry i konsole;Gry komputerowe</td>\n",
       "      <td>18240000.0</td>\n",
       "    </tr>\n",
       "    <tr>\n",
       "      <th>236</th>\n",
       "      <td>1237</td>\n",
       "      <td>Race Injection (PC)</td>\n",
       "      <td>Gry i konsole;Gry komputerowe</td>\n",
       "      <td>35990000.0</td>\n",
       "    </tr>\n",
       "    <tr>\n",
       "      <th>250</th>\n",
       "      <td>1251</td>\n",
       "      <td>Kane &amp;amp; Lynch 2 (PC)</td>\n",
       "      <td>Gry i konsole;Gry komputerowe</td>\n",
       "      <td>15900000.0</td>\n",
       "    </tr>\n",
       "    <tr>\n",
       "      <th>258</th>\n",
       "      <td>1259</td>\n",
       "      <td>Rocksmith (PC)</td>\n",
       "      <td>Gry i konsole;Gry komputerowe</td>\n",
       "      <td>73900000.0</td>\n",
       "    </tr>\n",
       "    <tr>\n",
       "      <th>279</th>\n",
       "      <td>1280</td>\n",
       "      <td>Kinectimals Now with Bears (Xbox 360)</td>\n",
       "      <td>Gry i konsole;Gry na konsole;Gry Xbox 360</td>\n",
       "      <td>89000000.0</td>\n",
       "    </tr>\n",
       "    <tr>\n",
       "      <th>288</th>\n",
       "      <td>1289</td>\n",
       "      <td>Philips SDV5225</td>\n",
       "      <td>Sprzęt RTV;Video;Telewizory i akcesoria;Anteny...</td>\n",
       "      <td>129000000.0</td>\n",
       "    </tr>\n",
       "    <tr>\n",
       "      <th>295</th>\n",
       "      <td>1296</td>\n",
       "      <td>Sencor SDA-630</td>\n",
       "      <td>Sprzęt RTV;Video;Telewizory i akcesoria;Anteny...</td>\n",
       "      <td>89990000.0</td>\n",
       "    </tr>\n",
       "    <tr>\n",
       "      <th>314</th>\n",
       "      <td>1315</td>\n",
       "      <td>Jabra Talk</td>\n",
       "      <td>Telefony i akcesoria;Akcesoria telefoniczne;Ze...</td>\n",
       "      <td>54990000.0</td>\n",
       "    </tr>\n",
       "  </tbody>\n",
       "</table>\n",
       "</div>"
      ],
      "text/plain": [
       "     product_id                                   product_name  \\\n",
       "27         1028              Sniper Ghost Warrior 2 (Xbox 360)   \n",
       "31         1032                            LCD Iiyama E2280WSD   \n",
       "40         1041                                 Crysis 3 (PS3)   \n",
       "48         1049                               Max Payne 3 (PC)   \n",
       "66         1067                                     Nokia 3310   \n",
       "73         1074                               Gembird BTCC-002   \n",
       "87         1088                         Fallout New Vegas (PC)   \n",
       "143        1144                          Street Fighter 4 (PC)   \n",
       "213        1214  Call of Cthulhu Mroczne zakamarki Świata (PC)   \n",
       "222        1223                  Call of Duty Black Ops 2 (PC)   \n",
       "231        1232                 Symulator Prac Górniczych (PC)   \n",
       "236        1237                            Race Injection (PC)   \n",
       "250        1251                        Kane &amp; Lynch 2 (PC)   \n",
       "258        1259                                 Rocksmith (PC)   \n",
       "279        1280          Kinectimals Now with Bears (Xbox 360)   \n",
       "288        1289                                Philips SDV5225   \n",
       "295        1296                                 Sencor SDA-630   \n",
       "314        1315                                     Jabra Talk   \n",
       "\n",
       "                                         category_path        price  \n",
       "27           Gry i konsole;Gry na konsole;Gry Xbox 360   39000000.0  \n",
       "31                     Komputery;Monitory;Monitory LCD  688780000.0  \n",
       "40       Gry i konsole;Gry na konsole;Gry PlayStation3   79900000.0  \n",
       "48                       Gry i konsole;Gry komputerowe   17900000.0  \n",
       "66             Telefony i akcesoria;Telefony komórkowe  207330000.0  \n",
       "73   Telefony i akcesoria;Akcesoria telefoniczne;Ze...   86280000.0  \n",
       "87                       Gry i konsole;Gry komputerowe   32990000.0  \n",
       "143                      Gry i konsole;Gry komputerowe    1990000.0  \n",
       "213                      Gry i konsole;Gry komputerowe   18990000.0  \n",
       "222                      Gry i konsole;Gry komputerowe   32990000.0  \n",
       "231                      Gry i konsole;Gry komputerowe   18240000.0  \n",
       "236                      Gry i konsole;Gry komputerowe   35990000.0  \n",
       "250                      Gry i konsole;Gry komputerowe   15900000.0  \n",
       "258                      Gry i konsole;Gry komputerowe   73900000.0  \n",
       "279          Gry i konsole;Gry na konsole;Gry Xbox 360   89000000.0  \n",
       "288  Sprzęt RTV;Video;Telewizory i akcesoria;Anteny...  129000000.0  \n",
       "295  Sprzęt RTV;Video;Telewizory i akcesoria;Anteny...   89990000.0  \n",
       "314  Telefony i akcesoria;Akcesoria telefoniczne;Ze...   54990000.0  "
      ]
     },
     "execution_count": 27,
     "metadata": {},
     "output_type": "execute_result"
    }
   ],
   "source": [
    "products[products['price'] > 50000]"
   ]
  },
  {
   "cell_type": "markdown",
   "metadata": {
    "cell_id": "00027-d9584a2a-aa01-499c-a132-deb556696b4f",
    "deepnote_cell_type": "markdown",
    "tags": []
   },
   "source": [
    "Eksperymentalnie dobraliśmy wartość 50 000 jako granicę. Nie było to trudne, ponieważ w tabeli mamy tylko 319 rekordów, przez co możemy je manualnie przeglądać. Każdą z odstających wartości zastąpimy medianą z danej kategorii. "
   ]
  },
  {
   "cell_type": "code",
   "execution_count": 28,
   "metadata": {
    "cell_id": "00018-80bfbf28-878d-4e44-9ef7-4cec8a95ca95",
    "deepnote_cell_type": "code",
    "deepnote_to_be_reexecuted": false,
    "execution_millis": 17,
    "execution_start": 1618673977742,
    "source_hash": "57c22bec",
    "tags": []
   },
   "outputs": [
    {
     "data": {
      "text/plain": [
       "product_id       16\n",
       "product_name     16\n",
       "category_path    16\n",
       "price            16\n",
       "dtype: int64"
      ]
     },
     "execution_count": 28,
     "metadata": {},
     "output_type": "execute_result"
    }
   ],
   "source": [
    "# Ceny niedodatnie\n",
    "products[products['price'] <= 0].count()"
   ]
  },
  {
   "cell_type": "markdown",
   "metadata": {
    "cell_id": "00019-15506d4d-7ed9-4ecd-8ab0-0b08744d48e2",
    "deepnote_cell_type": "markdown",
    "tags": []
   },
   "source": [
    "Jest dokładnie 16 niedodatnich cen. Po przejrzeniu tych 16 wartości widzimy, że mają one sens. Mamy w tym momencie kilka opcji. Możemy oczywiście usunąć produkty z ujemnymi cenami (ale wtedy stracimy ok. 5% danych). Możemy także pomnożyć ujemne ceny przez -1 otrzymując wtedy dodatnie, normalne kwoty. Jest jeszcze opcja, aby zrobić tak jak z poprzednimi dużymi odstającymi wartościami i zastąpić te ujemne ceny medianą z cen w danej kategorii."
   ]
  },
  {
   "cell_type": "code",
   "execution_count": 29,
   "metadata": {
    "cell_id": "00029-2eace8e5-f03a-42a9-bc3c-cecc9dbf9a30",
    "deepnote_cell_type": "code",
    "deepnote_to_be_reexecuted": false,
    "execution_millis": 18,
    "execution_start": 1618673994949,
    "source_hash": "ab14a140",
    "tags": []
   },
   "outputs": [
    {
     "data": {
      "text/html": [
       "<div>\n",
       "<style scoped>\n",
       "    .dataframe tbody tr th:only-of-type {\n",
       "        vertical-align: middle;\n",
       "    }\n",
       "\n",
       "    .dataframe tbody tr th {\n",
       "        vertical-align: top;\n",
       "    }\n",
       "\n",
       "    .dataframe thead th {\n",
       "        text-align: right;\n",
       "    }\n",
       "</style>\n",
       "<table border=\"1\" class=\"dataframe\">\n",
       "  <thead>\n",
       "    <tr style=\"text-align: right;\">\n",
       "      <th></th>\n",
       "      <th>product_id</th>\n",
       "      <th>product_name</th>\n",
       "      <th>category_path</th>\n",
       "      <th>price</th>\n",
       "    </tr>\n",
       "  </thead>\n",
       "  <tbody>\n",
       "    <tr>\n",
       "      <th>47</th>\n",
       "      <td>1048</td>\n",
       "      <td>Gra o tron (PC)</td>\n",
       "      <td>Gry i konsole;Gry komputerowe</td>\n",
       "      <td>-63.49</td>\n",
       "    </tr>\n",
       "    <tr>\n",
       "      <th>91</th>\n",
       "      <td>1092</td>\n",
       "      <td>Company of Heroes (PC)</td>\n",
       "      <td>Gry i konsole;Gry komputerowe</td>\n",
       "      <td>-34.99</td>\n",
       "    </tr>\n",
       "    <tr>\n",
       "      <th>120</th>\n",
       "      <td>1121</td>\n",
       "      <td>Battlefield 3 Powrót do Karkand (PC)</td>\n",
       "      <td>Gry i konsole;Gry komputerowe</td>\n",
       "      <td>-29.99</td>\n",
       "    </tr>\n",
       "    <tr>\n",
       "      <th>138</th>\n",
       "      <td>1139</td>\n",
       "      <td>F1 2012 (PC)</td>\n",
       "      <td>Gry i konsole;Gry komputerowe</td>\n",
       "      <td>-71.99</td>\n",
       "    </tr>\n",
       "    <tr>\n",
       "      <th>154</th>\n",
       "      <td>1155</td>\n",
       "      <td>The Sims 3 Kariera (PC)</td>\n",
       "      <td>Gry i konsole;Gry komputerowe</td>\n",
       "      <td>-31.90</td>\n",
       "    </tr>\n",
       "    <tr>\n",
       "      <th>159</th>\n",
       "      <td>1160</td>\n",
       "      <td>Street Racing Syndicate (PC)</td>\n",
       "      <td>Gry i konsole;Gry komputerowe</td>\n",
       "      <td>-11.90</td>\n",
       "    </tr>\n",
       "    <tr>\n",
       "      <th>179</th>\n",
       "      <td>1180</td>\n",
       "      <td>Split/Second (PC)</td>\n",
       "      <td>Gry i konsole;Gry komputerowe</td>\n",
       "      <td>-24.90</td>\n",
       "    </tr>\n",
       "    <tr>\n",
       "      <th>185</th>\n",
       "      <td>1186</td>\n",
       "      <td>Symulator Budowy Mostów (PC)</td>\n",
       "      <td>Gry i konsole;Gry komputerowe</td>\n",
       "      <td>-18.24</td>\n",
       "    </tr>\n",
       "    <tr>\n",
       "      <th>189</th>\n",
       "      <td>1190</td>\n",
       "      <td>Star Wars The Force Unleashed 2 (PC)</td>\n",
       "      <td>Gry i konsole;Gry komputerowe</td>\n",
       "      <td>-70.90</td>\n",
       "    </tr>\n",
       "    <tr>\n",
       "      <th>202</th>\n",
       "      <td>1203</td>\n",
       "      <td>LEGO Batman 2 DC Super Heroes (PC)</td>\n",
       "      <td>Gry i konsole;Gry komputerowe</td>\n",
       "      <td>-29.99</td>\n",
       "    </tr>\n",
       "    <tr>\n",
       "      <th>211</th>\n",
       "      <td>1212</td>\n",
       "      <td>Arma 3 (PC)</td>\n",
       "      <td>Gry i konsole;Gry komputerowe</td>\n",
       "      <td>-102.90</td>\n",
       "    </tr>\n",
       "    <tr>\n",
       "      <th>215</th>\n",
       "      <td>1216</td>\n",
       "      <td>Damnation (PC)</td>\n",
       "      <td>Gry i konsole;Gry komputerowe</td>\n",
       "      <td>-34.99</td>\n",
       "    </tr>\n",
       "    <tr>\n",
       "      <th>221</th>\n",
       "      <td>1222</td>\n",
       "      <td>Parrot Minikit NEO</td>\n",
       "      <td>Telefony i akcesoria;Akcesoria telefoniczne;Ze...</td>\n",
       "      <td>-245.00</td>\n",
       "    </tr>\n",
       "    <tr>\n",
       "      <th>244</th>\n",
       "      <td>1245</td>\n",
       "      <td>Warhammer 40.000 Dawn of War 2 (PC)</td>\n",
       "      <td>Gry i konsole;Gry komputerowe</td>\n",
       "      <td>-34.99</td>\n",
       "    </tr>\n",
       "    <tr>\n",
       "      <th>246</th>\n",
       "      <td>1247</td>\n",
       "      <td>Star Wars The Force Unleashed (PC)</td>\n",
       "      <td>Gry i konsole;Gry komputerowe</td>\n",
       "      <td>-63.99</td>\n",
       "    </tr>\n",
       "    <tr>\n",
       "      <th>303</th>\n",
       "      <td>1304</td>\n",
       "      <td>Wiwa AN 200</td>\n",
       "      <td>Sprzęt RTV;Video;Telewizory i akcesoria;Anteny...</td>\n",
       "      <td>-29.99</td>\n",
       "    </tr>\n",
       "  </tbody>\n",
       "</table>\n",
       "</div>"
      ],
      "text/plain": [
       "     product_id                          product_name  \\\n",
       "47         1048                       Gra o tron (PC)   \n",
       "91         1092                Company of Heroes (PC)   \n",
       "120        1121  Battlefield 3 Powrót do Karkand (PC)   \n",
       "138        1139                          F1 2012 (PC)   \n",
       "154        1155               The Sims 3 Kariera (PC)   \n",
       "159        1160          Street Racing Syndicate (PC)   \n",
       "179        1180                     Split/Second (PC)   \n",
       "185        1186          Symulator Budowy Mostów (PC)   \n",
       "189        1190  Star Wars The Force Unleashed 2 (PC)   \n",
       "202        1203    LEGO Batman 2 DC Super Heroes (PC)   \n",
       "211        1212                           Arma 3 (PC)   \n",
       "215        1216                        Damnation (PC)   \n",
       "221        1222                    Parrot Minikit NEO   \n",
       "244        1245   Warhammer 40.000 Dawn of War 2 (PC)   \n",
       "246        1247    Star Wars The Force Unleashed (PC)   \n",
       "303        1304                           Wiwa AN 200   \n",
       "\n",
       "                                         category_path   price  \n",
       "47                       Gry i konsole;Gry komputerowe  -63.49  \n",
       "91                       Gry i konsole;Gry komputerowe  -34.99  \n",
       "120                      Gry i konsole;Gry komputerowe  -29.99  \n",
       "138                      Gry i konsole;Gry komputerowe  -71.99  \n",
       "154                      Gry i konsole;Gry komputerowe  -31.90  \n",
       "159                      Gry i konsole;Gry komputerowe  -11.90  \n",
       "179                      Gry i konsole;Gry komputerowe  -24.90  \n",
       "185                      Gry i konsole;Gry komputerowe  -18.24  \n",
       "189                      Gry i konsole;Gry komputerowe  -70.90  \n",
       "202                      Gry i konsole;Gry komputerowe  -29.99  \n",
       "211                      Gry i konsole;Gry komputerowe -102.90  \n",
       "215                      Gry i konsole;Gry komputerowe  -34.99  \n",
       "221  Telefony i akcesoria;Akcesoria telefoniczne;Ze... -245.00  \n",
       "244                      Gry i konsole;Gry komputerowe  -34.99  \n",
       "246                      Gry i konsole;Gry komputerowe  -63.99  \n",
       "303  Sprzęt RTV;Video;Telewizory i akcesoria;Anteny...  -29.99  "
      ]
     },
     "execution_count": 29,
     "metadata": {},
     "output_type": "execute_result"
    }
   ],
   "source": [
    "products[products['price'] <= 0]"
   ]
  },
  {
   "cell_type": "markdown",
   "metadata": {
    "cell_id": "00042-ecb7f69c-9077-44b7-9605-574f7c955ad0",
    "deepnote_cell_type": "markdown",
    "tags": []
   },
   "source": [
    "Po konsultacjach otrzymaliśmy nowy zbiór danych, który po sprawdzeniu okazał się być pozbawionym wszystkich błędów. To właśnie na nim będziemy tworzyć nasze modele. "
   ]
  }
 ],
 "metadata": {
  "deepnote": {},
  "deepnote_execution_queue": [],
  "deepnote_notebook_id": "82df4d3c-72f2-4c94-ae0a-3b5f8ec5c86a",
  "kernelspec": {
   "display_name": "Python 3",
   "language": "python",
   "name": "python3"
  },
  "language_info": {
   "codemirror_mode": {
    "name": "ipython",
    "version": 3
   },
   "file_extension": ".py",
   "mimetype": "text/x-python",
   "name": "python",
   "nbconvert_exporter": "python",
   "pygments_lexer": "ipython3",
   "version": "3.7.10"
  },
  "varInspector": {
   "cols": {
    "lenName": 16,
    "lenType": 16,
    "lenVar": 40
   },
   "kernels_config": {
    "python": {
     "delete_cmd_postfix": "",
     "delete_cmd_prefix": "del ",
     "library": "var_list.py",
     "varRefreshCmd": "print(var_dic_list())"
    },
    "r": {
     "delete_cmd_postfix": ") ",
     "delete_cmd_prefix": "rm(",
     "library": "var_list.r",
     "varRefreshCmd": "cat(var_dic_list()) "
    }
   },
   "types_to_exclude": [
    "module",
    "function",
    "builtin_function_or_method",
    "instance",
    "_Feature"
   ],
   "window_display": false
  }
 },
 "nbformat": 4,
 "nbformat_minor": 4
}
