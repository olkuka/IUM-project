{
 "cells": [
  {
   "cell_type": "markdown",
   "metadata": {
    "cell_id": "00001-34a39f65-8c02-4800-8a93-4ef7180f5fc6",
    "deepnote_cell_type": "markdown"
   },
   "source": [
    "##### Mamy co prawda dodatkowe benefity dla naszych najlepszych klientów, ale może dałobysię ustalić kto potencjalnie jest skłonny wydawać u nas więcej?\n",
    "\n",
    "# Etap 1\n",
    "\n",
    "1. Definicja problemu biznesowego, zdefiniowanie zadania/zadań modelowania i wszystkich założeń, zaproponowanie kryteriów sukcesu.\n",
    "2. Analiza danych z perspektywy realizacji tych zadań (trzeba ocenić, czy dostarczone dane są wystarczające – może czegoś brakuje, może coś trzeba poprawić, domagać się innych danych)."
   ]
  },
  {
   "cell_type": "markdown",
   "metadata": {
    "cell_id": "00002-5e36a2c3-5057-41c0-889a-54858aee0be3",
    "deepnote_cell_type": "markdown"
   },
   "source": [
    "#### Kontekst\n",
    "- sklep internetowy z elektroniką i grami komputerowymi.\n",
    "\n",
    "#### Zadanie biznesowe\n",
    "- przewidywanie czy dana sesja klienta zakończy się zakupem po zaoferowaniu mu odpowiedniej zniżki\n",
    "\n",
    "#### Biznesowe kryterium sukcesu\n",
    "- Po wdrożeniu systemu oczekujemy, że sprzedaż wzrośnie. Model przewiduje, czy dana sesja skończy się zakupem. Po ponownym uruchomieniu modelu, ale ze zwiększoną zniżką znajdziemy klientów, którzy po zmianie ceny jednak zdecydują się na zakup, dlatego dzięki modelowi więcej osób będzie kupować produkty.\n",
    "\n",
    "#### Definicja zadania/zadań modelowania\n",
    "\n",
    "- ##### Zadanie modelowania: \n",
    "    klasyfikacja (Logistic Regression i XGBoost)\n",
    "\n",
    "- ##### Dane do modelowania\n",
    "    Zbiór danych sesji uzupełnionych o ceny, kategorie produktów oraz miasto zamieszkania usera.\n",
    "    - users: id, city\n",
    "    - sessions: session_id, user_id, timestamp, product_id, **event_type, offered_discount**, purchase_id\n",
    "    - product_id, category_path, **price**\n",
    "    \n",
    "Finalna decyzja zakupu może mieć duży związek z interakcją ceny z obniżką. Klient może być bardziej skory do kupna, jeżeli dostanie 10% zniżki na produkt o wartości 1000 zł, niż do kupna produktu z tą samą zniżką, ale o wartości 100 zł. \n",
    "\n",
    "- ##### Analityczne kryterium sukcesu\n",
    "Zbudowanie zbalansowanego modelu, który przewyższa skuteczność modelu naiwnego.\n",
    "\n",
    "_Model naiwny w naszym przypadku mógłby przewidywać tylko VIEW PRODUCT i miałby wtedy około 85,7% skuteczności (Aktualnie na 6 akcji VIEW PRODUCT, mamy 1 akcję BUY PRODUCT (14.3%))._\n",
    "\n",
    "#### Założenia\n",
    "- przewidujemy klasę dla danych wejściowych (event type: VIEW PRODUCT lub BUY PRODUCT)\n",
    "- parametry analitycznego kryterium sukcesu są ustalone bezpośrednio na podstawie biznesowego kryterium sukcesu."
   ]
  },
  {
   "cell_type": "markdown",
   "metadata": {
    "cell_id": "00003-1a5f3e82-245c-4cda-99b4-bbe5acb267e5",
    "deepnote_cell_type": "markdown",
    "tags": []
   },
   "source": [
    "#### Analiza danych z perspektywy realizacji zadań"
   ]
  },
  {
   "cell_type": "markdown",
   "metadata": {
    "cell_id": "00003-78547fba-4348-404c-86cb-f5313839bf85",
    "deepnote_cell_type": "markdown",
    "tags": []
   },
   "source": [
    "Pracujemy na nowych danych, które nie zawierają braków."
   ]
  },
  {
   "cell_type": "code",
   "execution_count": 1,
   "metadata": {
    "cell_id": "00004-fdf08e91-16ad-4876-befa-36e57aa9958d",
    "deepnote_cell_type": "code",
    "deepnote_to_be_reexecuted": false,
    "execution_millis": 0,
    "execution_start": 1621089004319,
    "source_hash": "7aaa7948"
   },
   "outputs": [],
   "source": [
    "import pandas as pd\n",
    "import numpy as np\n",
    "import matplotlib.pyplot as plt\n",
    "import seaborn as sns\n",
    "from sklearn.metrics import mutual_info_score\n",
    "from sklearn.feature_selection import mutual_info_classif\n",
    "import random\n",
    "from sklearn.model_selection import train_test_split\n",
    "from sklearn.linear_model import LogisticRegression\n",
    "from sklearn.metrics import confusion_matrix\n",
    "from sklearn.metrics import accuracy_score\n",
    "\n",
    "import warnings\n",
    "warnings.filterwarnings(\"ignore\")"
   ]
  },
  {
   "cell_type": "code",
   "execution_count": 2,
   "metadata": {
    "cell_id": "00005-63e66833-4c9a-4a93-bab2-c7050503b7a2",
    "deepnote_cell_type": "code",
    "deepnote_to_be_reexecuted": false,
    "execution_millis": 16,
    "execution_start": 1621088795382,
    "source_hash": "ba8c312f"
   },
   "outputs": [
    {
     "name": "stdout",
     "output_type": "stream",
     "text": [
      "Name with path: C:\\Users\\Aleksandra\\Downloads\\./new_data\\deliveries.jsonl \n",
      "Name without path: deliveries.jsonl\n",
      "Name with path: C:\\Users\\Aleksandra\\Downloads\\./new_data\\products.jsonl \n",
      "Name without path: products.jsonl\n",
      "Name with path: C:\\Users\\Aleksandra\\Downloads\\./new_data\\sessions.jsonl \n",
      "Name without path: sessions.jsonl\n",
      "Name with path: C:\\Users\\Aleksandra\\Downloads\\./new_data\\users.jsonl \n",
      "Name without path: users.jsonl\n"
     ]
    }
   ],
   "source": [
    "import os, glob\n",
    "\n",
    "inputs = []\n",
    "\n",
    "for each in sorted(glob.glob(os.path.join(os.getcwd(),'./new_data/*.jsonl'), recursive=True)):\n",
    "    print(f'Name with path: {each} \\nName without path: {os.path.basename(each)}')\n",
    "    inputs.append(each)"
   ]
  },
  {
   "cell_type": "code",
   "execution_count": 3,
   "metadata": {
    "cell_id": "00006-887e0019-1a44-456f-874f-b3a83113af1b",
    "deepnote_cell_type": "code",
    "deepnote_to_be_reexecuted": false,
    "execution_millis": 550,
    "execution_start": 1621088795766,
    "source_hash": "d9912af0"
   },
   "outputs": [],
   "source": [
    "deliveries = pd.read_json(inputs[0], lines=True)\n",
    "products = pd.read_json(inputs[1], lines=True)\n",
    "sessions = pd.read_json(inputs[2], lines=True)\n",
    "users = pd.read_json(inputs[3], lines=True)"
   ]
  },
  {
   "cell_type": "markdown",
   "metadata": {
    "cell_id": "00007-8c9a8516-3c5e-43e4-977f-f57945ab6268",
    "deepnote_cell_type": "text-cell-p",
    "tags": []
   },
   "source": [
    "USERS"
   ]
  },
  {
   "cell_type": "code",
   "execution_count": 4,
   "metadata": {
    "cell_id": "00007-8ed382e9-256c-4430-aa81-c620b302633e",
    "deepnote_cell_type": "code",
    "deepnote_to_be_reexecuted": false,
    "execution_millis": 21,
    "execution_start": 1621088796790,
    "source_hash": "1cdee671"
   },
   "outputs": [
    {
     "data": {
      "text/plain": [
       "user_id    200\n",
       "name       200\n",
       "city       200\n",
       "street     200\n",
       "dtype: int64"
      ]
     },
     "execution_count": 4,
     "metadata": {},
     "output_type": "execute_result"
    }
   ],
   "source": [
    "users.count()"
   ]
  },
  {
   "cell_type": "code",
   "execution_count": 5,
   "metadata": {
    "cell_id": "00008-dcb4e253-658a-42b3-b4eb-dd4543af37fe",
    "deepnote_cell_type": "code",
    "deepnote_to_be_reexecuted": false,
    "execution_millis": 28,
    "execution_start": 1621088797214,
    "source_hash": "43709f6a"
   },
   "outputs": [
    {
     "data": {
      "text/html": [
       "<div>\n",
       "<style scoped>\n",
       "    .dataframe tbody tr th:only-of-type {\n",
       "        vertical-align: middle;\n",
       "    }\n",
       "\n",
       "    .dataframe tbody tr th {\n",
       "        vertical-align: top;\n",
       "    }\n",
       "\n",
       "    .dataframe thead th {\n",
       "        text-align: right;\n",
       "    }\n",
       "</style>\n",
       "<table border=\"1\" class=\"dataframe\">\n",
       "  <thead>\n",
       "    <tr style=\"text-align: right;\">\n",
       "      <th></th>\n",
       "      <th>user_id</th>\n",
       "      <th>name</th>\n",
       "      <th>city</th>\n",
       "      <th>street</th>\n",
       "    </tr>\n",
       "  </thead>\n",
       "  <tbody>\n",
       "    <tr>\n",
       "      <th>106</th>\n",
       "      <td>208</td>\n",
       "      <td>Konrad Ciuk</td>\n",
       "      <td>Mielec</td>\n",
       "      <td>aleja Stolarska 439</td>\n",
       "    </tr>\n",
       "    <tr>\n",
       "      <th>110</th>\n",
       "      <td>212</td>\n",
       "      <td>Adam Zbroszczyk</td>\n",
       "      <td>Police</td>\n",
       "      <td>al. Akacjowa 77</td>\n",
       "    </tr>\n",
       "    <tr>\n",
       "      <th>155</th>\n",
       "      <td>257</td>\n",
       "      <td>Monika Samul</td>\n",
       "      <td>Szczecin</td>\n",
       "      <td>pl. Kasztanowa 25</td>\n",
       "    </tr>\n",
       "  </tbody>\n",
       "</table>\n",
       "</div>"
      ],
      "text/plain": [
       "     user_id             name      city               street\n",
       "106      208      Konrad Ciuk    Mielec  aleja Stolarska 439\n",
       "110      212  Adam Zbroszczyk    Police      al. Akacjowa 77\n",
       "155      257     Monika Samul  Szczecin    pl. Kasztanowa 25"
      ]
     },
     "execution_count": 5,
     "metadata": {},
     "output_type": "execute_result"
    }
   ],
   "source": [
    "users.sample(3)"
   ]
  },
  {
   "cell_type": "code",
   "execution_count": 6,
   "metadata": {
    "cell_id": "00009-aeda4f58-069b-4fa4-b3be-916753aa6e86",
    "deepnote_cell_type": "code",
    "deepnote_to_be_reexecuted": false,
    "execution_millis": 16,
    "execution_start": 1621088797598,
    "source_hash": "2d406d49",
    "tags": []
   },
   "outputs": [
    {
     "data": {
      "text/plain": [
       "200"
      ]
     },
     "execution_count": 6,
     "metadata": {},
     "output_type": "execute_result"
    }
   ],
   "source": [
    "# nie ma dwóch użytkowników o takich samych imionach i nazwiskach\n",
    "users.name.nunique()"
   ]
  },
  {
   "cell_type": "markdown",
   "metadata": {
    "cell_id": "00011-27cd97eb-fd8f-4a9a-a52d-a70cfb642a43",
    "deepnote_cell_type": "text-cell-p",
    "tags": []
   },
   "source": [
    "DELIVERIES"
   ]
  },
  {
   "cell_type": "code",
   "execution_count": 7,
   "metadata": {
    "cell_id": "00011-13f10d5d-0e85-49c0-b5d1-f788cebb6192",
    "deepnote_cell_type": "code",
    "deepnote_to_be_reexecuted": false,
    "execution_millis": 23,
    "execution_start": 1621088798323,
    "source_hash": "76baac2a"
   },
   "outputs": [
    {
     "data": {
      "text/plain": [
       "purchase_id           6339\n",
       "purchase_timestamp    6339\n",
       "delivery_timestamp    6339\n",
       "delivery_company      6339\n",
       "dtype: int64"
      ]
     },
     "execution_count": 7,
     "metadata": {},
     "output_type": "execute_result"
    }
   ],
   "source": [
    "deliveries.count()"
   ]
  },
  {
   "cell_type": "code",
   "execution_count": 8,
   "metadata": {
    "cell_id": "00012-13be79e4-fdb4-4c5f-a120-3c4b34db5434",
    "deepnote_cell_type": "code",
    "deepnote_to_be_reexecuted": false,
    "execution_millis": 35,
    "execution_start": 1621088798632,
    "source_hash": "91513beb"
   },
   "outputs": [
    {
     "data": {
      "text/html": [
       "<div>\n",
       "<style scoped>\n",
       "    .dataframe tbody tr th:only-of-type {\n",
       "        vertical-align: middle;\n",
       "    }\n",
       "\n",
       "    .dataframe tbody tr th {\n",
       "        vertical-align: top;\n",
       "    }\n",
       "\n",
       "    .dataframe thead th {\n",
       "        text-align: right;\n",
       "    }\n",
       "</style>\n",
       "<table border=\"1\" class=\"dataframe\">\n",
       "  <thead>\n",
       "    <tr style=\"text-align: right;\">\n",
       "      <th></th>\n",
       "      <th>purchase_id</th>\n",
       "      <th>purchase_timestamp</th>\n",
       "      <th>delivery_timestamp</th>\n",
       "      <th>delivery_company</th>\n",
       "    </tr>\n",
       "  </thead>\n",
       "  <tbody>\n",
       "    <tr>\n",
       "      <th>4845</th>\n",
       "      <td>24846</td>\n",
       "      <td>2021-04-01T12:48:53</td>\n",
       "      <td>2021-04-05T12:50:11</td>\n",
       "      <td>516</td>\n",
       "    </tr>\n",
       "    <tr>\n",
       "      <th>458</th>\n",
       "      <td>20459</td>\n",
       "      <td>2020-05-01T11:17:17</td>\n",
       "      <td>2020-05-05T11:19:34</td>\n",
       "      <td>516</td>\n",
       "    </tr>\n",
       "    <tr>\n",
       "      <th>5050</th>\n",
       "      <td>25051</td>\n",
       "      <td>2021-03-27T21:30:12</td>\n",
       "      <td>2021-04-01T21:31:47</td>\n",
       "      <td>516</td>\n",
       "    </tr>\n",
       "  </tbody>\n",
       "</table>\n",
       "</div>"
      ],
      "text/plain": [
       "      purchase_id   purchase_timestamp   delivery_timestamp  delivery_company\n",
       "4845        24846  2021-04-01T12:48:53  2021-04-05T12:50:11               516\n",
       "458         20459  2020-05-01T11:17:17  2020-05-05T11:19:34               516\n",
       "5050        25051  2021-03-27T21:30:12  2021-04-01T21:31:47               516"
      ]
     },
     "execution_count": 8,
     "metadata": {},
     "output_type": "execute_result"
    }
   ],
   "source": [
    "deliveries.sample(3)"
   ]
  },
  {
   "cell_type": "code",
   "execution_count": 9,
   "metadata": {
    "cell_id": "00013-2dd98884-e064-4677-b542-f469eab85e15",
    "deepnote_cell_type": "code",
    "deepnote_to_be_reexecuted": false,
    "execution_millis": 28,
    "execution_start": 1621088798903,
    "source_hash": "d338b6ad",
    "tags": []
   },
   "outputs": [
    {
     "name": "stdout",
     "output_type": "stream",
     "text": [
      "<class 'pandas.core.frame.DataFrame'>\n",
      "RangeIndex: 6339 entries, 0 to 6338\n",
      "Data columns (total 4 columns):\n",
      " #   Column              Non-Null Count  Dtype \n",
      "---  ------              --------------  ----- \n",
      " 0   purchase_id         6339 non-null   int64 \n",
      " 1   purchase_timestamp  6339 non-null   object\n",
      " 2   delivery_timestamp  6339 non-null   object\n",
      " 3   delivery_company    6339 non-null   int64 \n",
      "dtypes: int64(2), object(2)\n",
      "memory usage: 198.2+ KB\n"
     ]
    }
   ],
   "source": [
    "deliveries.info()"
   ]
  },
  {
   "cell_type": "code",
   "execution_count": 10,
   "metadata": {
    "cell_id": "00014-5a3f5916-92f2-41eb-a148-a937275532c6",
    "deepnote_cell_type": "code",
    "deepnote_to_be_reexecuted": false,
    "execution_millis": 45,
    "execution_start": 1621088799191,
    "source_hash": "fb6c217d",
    "tags": []
   },
   "outputs": [
    {
     "data": {
      "text/html": [
       "<div>\n",
       "<style scoped>\n",
       "    .dataframe tbody tr th:only-of-type {\n",
       "        vertical-align: middle;\n",
       "    }\n",
       "\n",
       "    .dataframe tbody tr th {\n",
       "        vertical-align: top;\n",
       "    }\n",
       "\n",
       "    .dataframe thead th {\n",
       "        text-align: right;\n",
       "    }\n",
       "</style>\n",
       "<table border=\"1\" class=\"dataframe\">\n",
       "  <thead>\n",
       "    <tr style=\"text-align: right;\">\n",
       "      <th></th>\n",
       "      <th>total_missing</th>\n",
       "      <th>perc_missing</th>\n",
       "    </tr>\n",
       "  </thead>\n",
       "  <tbody>\n",
       "    <tr>\n",
       "      <th>purchase_id</th>\n",
       "      <td>0</td>\n",
       "      <td>0.0</td>\n",
       "    </tr>\n",
       "    <tr>\n",
       "      <th>purchase_timestamp</th>\n",
       "      <td>0</td>\n",
       "      <td>0.0</td>\n",
       "    </tr>\n",
       "    <tr>\n",
       "      <th>delivery_timestamp</th>\n",
       "      <td>0</td>\n",
       "      <td>0.0</td>\n",
       "    </tr>\n",
       "    <tr>\n",
       "      <th>delivery_company</th>\n",
       "      <td>0</td>\n",
       "      <td>0.0</td>\n",
       "    </tr>\n",
       "  </tbody>\n",
       "</table>\n",
       "</div>"
      ],
      "text/plain": [
       "                    total_missing  perc_missing\n",
       "purchase_id                     0           0.0\n",
       "purchase_timestamp              0           0.0\n",
       "delivery_timestamp              0           0.0\n",
       "delivery_company                0           0.0"
      ]
     },
     "execution_count": 10,
     "metadata": {},
     "output_type": "execute_result"
    }
   ],
   "source": [
    "pd.DataFrame({'total_missing': deliveries.isnull().sum(), 'perc_missing': (deliveries.isnull().sum()/deliveries.purchase_id.count())*100})"
   ]
  },
  {
   "cell_type": "markdown",
   "metadata": {
    "cell_id": "00016-7a06a702-f88a-4d3a-b8c8-da128c5d8849",
    "deepnote_cell_type": "markdown",
    "tags": []
   },
   "source": [
    "SESSIONS"
   ]
  },
  {
   "cell_type": "code",
   "execution_count": 11,
   "metadata": {
    "cell_id": "00015-227045fb-e8c8-4a2a-ac07-65187a028a44",
    "deepnote_cell_type": "code",
    "deepnote_to_be_reexecuted": false,
    "execution_millis": 71,
    "execution_start": 1621088800883,
    "source_hash": "6c9b89b6"
   },
   "outputs": [
    {
     "data": {
      "text/html": [
       "<div>\n",
       "<style scoped>\n",
       "    .dataframe tbody tr th:only-of-type {\n",
       "        vertical-align: middle;\n",
       "    }\n",
       "\n",
       "    .dataframe tbody tr th {\n",
       "        vertical-align: top;\n",
       "    }\n",
       "\n",
       "    .dataframe thead th {\n",
       "        text-align: right;\n",
       "    }\n",
       "</style>\n",
       "<table border=\"1\" class=\"dataframe\">\n",
       "  <thead>\n",
       "    <tr style=\"text-align: right;\">\n",
       "      <th></th>\n",
       "      <th>session_id</th>\n",
       "      <th>user_id</th>\n",
       "      <th>product_id</th>\n",
       "      <th>offered_discount</th>\n",
       "      <th>purchase_id</th>\n",
       "    </tr>\n",
       "  </thead>\n",
       "  <tbody>\n",
       "    <tr>\n",
       "      <th>count</th>\n",
       "      <td>37169.000000</td>\n",
       "      <td>37169.000000</td>\n",
       "      <td>37169.000000</td>\n",
       "      <td>37169.000000</td>\n",
       "      <td>6339.00000</td>\n",
       "    </tr>\n",
       "    <tr>\n",
       "      <th>mean</th>\n",
       "      <td>104916.144421</td>\n",
       "      <td>201.799645</td>\n",
       "      <td>1126.983911</td>\n",
       "      <td>4.875434</td>\n",
       "      <td>23170.00000</td>\n",
       "    </tr>\n",
       "    <tr>\n",
       "      <th>std</th>\n",
       "      <td>2833.445266</td>\n",
       "      <td>57.784774</td>\n",
       "      <td>118.472731</td>\n",
       "      <td>6.986422</td>\n",
       "      <td>1830.05601</td>\n",
       "    </tr>\n",
       "    <tr>\n",
       "      <th>min</th>\n",
       "      <td>100001.000000</td>\n",
       "      <td>102.000000</td>\n",
       "      <td>1001.000000</td>\n",
       "      <td>0.000000</td>\n",
       "      <td>20001.00000</td>\n",
       "    </tr>\n",
       "    <tr>\n",
       "      <th>25%</th>\n",
       "      <td>102467.000000</td>\n",
       "      <td>151.000000</td>\n",
       "      <td>1036.000000</td>\n",
       "      <td>0.000000</td>\n",
       "      <td>21585.50000</td>\n",
       "    </tr>\n",
       "    <tr>\n",
       "      <th>50%</th>\n",
       "      <td>104891.000000</td>\n",
       "      <td>198.000000</td>\n",
       "      <td>1067.000000</td>\n",
       "      <td>0.000000</td>\n",
       "      <td>23170.00000</td>\n",
       "    </tr>\n",
       "    <tr>\n",
       "      <th>75%</th>\n",
       "      <td>107403.000000</td>\n",
       "      <td>252.000000</td>\n",
       "      <td>1278.000000</td>\n",
       "      <td>10.000000</td>\n",
       "      <td>24754.50000</td>\n",
       "    </tr>\n",
       "    <tr>\n",
       "      <th>max</th>\n",
       "      <td>109837.000000</td>\n",
       "      <td>301.000000</td>\n",
       "      <td>1319.000000</td>\n",
       "      <td>20.000000</td>\n",
       "      <td>26339.00000</td>\n",
       "    </tr>\n",
       "  </tbody>\n",
       "</table>\n",
       "</div>"
      ],
      "text/plain": [
       "          session_id       user_id    product_id  offered_discount  \\\n",
       "count   37169.000000  37169.000000  37169.000000      37169.000000   \n",
       "mean   104916.144421    201.799645   1126.983911          4.875434   \n",
       "std      2833.445266     57.784774    118.472731          6.986422   \n",
       "min    100001.000000    102.000000   1001.000000          0.000000   \n",
       "25%    102467.000000    151.000000   1036.000000          0.000000   \n",
       "50%    104891.000000    198.000000   1067.000000          0.000000   \n",
       "75%    107403.000000    252.000000   1278.000000         10.000000   \n",
       "max    109837.000000    301.000000   1319.000000         20.000000   \n",
       "\n",
       "       purchase_id  \n",
       "count   6339.00000  \n",
       "mean   23170.00000  \n",
       "std     1830.05601  \n",
       "min    20001.00000  \n",
       "25%    21585.50000  \n",
       "50%    23170.00000  \n",
       "75%    24754.50000  \n",
       "max    26339.00000  "
      ]
     },
     "execution_count": 11,
     "metadata": {},
     "output_type": "execute_result"
    }
   ],
   "source": [
    "sessions.describe()"
   ]
  },
  {
   "cell_type": "code",
   "execution_count": 12,
   "metadata": {
    "cell_id": "00016-4f1e07c5-836a-46f4-828a-dfb69d6ca8ba",
    "deepnote_cell_type": "code",
    "deepnote_to_be_reexecuted": false,
    "execution_millis": 51,
    "execution_start": 1621088801284,
    "source_hash": "8436f832"
   },
   "outputs": [
    {
     "data": {
      "text/html": [
       "<div>\n",
       "<style scoped>\n",
       "    .dataframe tbody tr th:only-of-type {\n",
       "        vertical-align: middle;\n",
       "    }\n",
       "\n",
       "    .dataframe tbody tr th {\n",
       "        vertical-align: top;\n",
       "    }\n",
       "\n",
       "    .dataframe thead th {\n",
       "        text-align: right;\n",
       "    }\n",
       "</style>\n",
       "<table border=\"1\" class=\"dataframe\">\n",
       "  <thead>\n",
       "    <tr style=\"text-align: right;\">\n",
       "      <th></th>\n",
       "      <th>session_id</th>\n",
       "      <th>timestamp</th>\n",
       "      <th>user_id</th>\n",
       "      <th>product_id</th>\n",
       "      <th>event_type</th>\n",
       "      <th>offered_discount</th>\n",
       "      <th>purchase_id</th>\n",
       "    </tr>\n",
       "  </thead>\n",
       "  <tbody>\n",
       "    <tr>\n",
       "      <th>31196</th>\n",
       "      <td>108258</td>\n",
       "      <td>2021-03-23 19:15:20</td>\n",
       "      <td>273</td>\n",
       "      <td>1318</td>\n",
       "      <td>VIEW_PRODUCT</td>\n",
       "      <td>0</td>\n",
       "      <td>NaN</td>\n",
       "    </tr>\n",
       "    <tr>\n",
       "      <th>2221</th>\n",
       "      <td>100613</td>\n",
       "      <td>2020-05-19 13:49:33</td>\n",
       "      <td>113</td>\n",
       "      <td>1035</td>\n",
       "      <td>BUY_PRODUCT</td>\n",
       "      <td>0</td>\n",
       "      <td>20397.0</td>\n",
       "    </tr>\n",
       "    <tr>\n",
       "      <th>25315</th>\n",
       "      <td>106694</td>\n",
       "      <td>2021-04-14 08:13:12</td>\n",
       "      <td>238</td>\n",
       "      <td>1234</td>\n",
       "      <td>VIEW_PRODUCT</td>\n",
       "      <td>0</td>\n",
       "      <td>NaN</td>\n",
       "    </tr>\n",
       "  </tbody>\n",
       "</table>\n",
       "</div>"
      ],
      "text/plain": [
       "       session_id           timestamp  user_id  product_id    event_type  \\\n",
       "31196      108258 2021-03-23 19:15:20      273        1318  VIEW_PRODUCT   \n",
       "2221       100613 2020-05-19 13:49:33      113        1035   BUY_PRODUCT   \n",
       "25315      106694 2021-04-14 08:13:12      238        1234  VIEW_PRODUCT   \n",
       "\n",
       "       offered_discount  purchase_id  \n",
       "31196                 0          NaN  \n",
       "2221                  0      20397.0  \n",
       "25315                 0          NaN  "
      ]
     },
     "execution_count": 12,
     "metadata": {},
     "output_type": "execute_result"
    }
   ],
   "source": [
    "sessions.sample(3)"
   ]
  },
  {
   "cell_type": "code",
   "execution_count": 13,
   "metadata": {
    "cell_id": "00017-ed9c714b-8faf-4737-a395-0c4bbcc1ac72",
    "deepnote_cell_type": "code",
    "deepnote_to_be_reexecuted": false,
    "execution_millis": 26,
    "execution_start": 1621088801640,
    "source_hash": "d39f9289",
    "tags": []
   },
   "outputs": [
    {
     "name": "stdout",
     "output_type": "stream",
     "text": [
      "<class 'pandas.core.frame.DataFrame'>\n",
      "RangeIndex: 37169 entries, 0 to 37168\n",
      "Data columns (total 7 columns):\n",
      " #   Column            Non-Null Count  Dtype         \n",
      "---  ------            --------------  -----         \n",
      " 0   session_id        37169 non-null  int64         \n",
      " 1   timestamp         37169 non-null  datetime64[ns]\n",
      " 2   user_id           37169 non-null  int64         \n",
      " 3   product_id        37169 non-null  int64         \n",
      " 4   event_type        37169 non-null  object        \n",
      " 5   offered_discount  37169 non-null  int64         \n",
      " 6   purchase_id       6339 non-null   float64       \n",
      "dtypes: datetime64[ns](1), float64(1), int64(4), object(1)\n",
      "memory usage: 2.0+ MB\n"
     ]
    }
   ],
   "source": [
    "sessions.info()"
   ]
  },
  {
   "cell_type": "code",
   "execution_count": 14,
   "metadata": {
    "cell_id": "00018-35c1438a-0719-42c1-aa97-b3fca214647b",
    "deepnote_cell_type": "code",
    "deepnote_to_be_reexecuted": false,
    "execution_millis": 41,
    "execution_start": 1621088802575,
    "source_hash": "9b009c2b",
    "tags": []
   },
   "outputs": [
    {
     "data": {
      "text/html": [
       "<div>\n",
       "<style scoped>\n",
       "    .dataframe tbody tr th:only-of-type {\n",
       "        vertical-align: middle;\n",
       "    }\n",
       "\n",
       "    .dataframe tbody tr th {\n",
       "        vertical-align: top;\n",
       "    }\n",
       "\n",
       "    .dataframe thead th {\n",
       "        text-align: right;\n",
       "    }\n",
       "</style>\n",
       "<table border=\"1\" class=\"dataframe\">\n",
       "  <thead>\n",
       "    <tr style=\"text-align: right;\">\n",
       "      <th></th>\n",
       "      <th>total_missing</th>\n",
       "      <th>perc_missing</th>\n",
       "    </tr>\n",
       "  </thead>\n",
       "  <tbody>\n",
       "    <tr>\n",
       "      <th>session_id</th>\n",
       "      <td>0</td>\n",
       "      <td>0.000000</td>\n",
       "    </tr>\n",
       "    <tr>\n",
       "      <th>timestamp</th>\n",
       "      <td>0</td>\n",
       "      <td>0.000000</td>\n",
       "    </tr>\n",
       "    <tr>\n",
       "      <th>user_id</th>\n",
       "      <td>0</td>\n",
       "      <td>0.000000</td>\n",
       "    </tr>\n",
       "    <tr>\n",
       "      <th>product_id</th>\n",
       "      <td>0</td>\n",
       "      <td>0.000000</td>\n",
       "    </tr>\n",
       "    <tr>\n",
       "      <th>event_type</th>\n",
       "      <td>0</td>\n",
       "      <td>0.000000</td>\n",
       "    </tr>\n",
       "    <tr>\n",
       "      <th>offered_discount</th>\n",
       "      <td>0</td>\n",
       "      <td>0.000000</td>\n",
       "    </tr>\n",
       "    <tr>\n",
       "      <th>purchase_id</th>\n",
       "      <td>30830</td>\n",
       "      <td>82.945465</td>\n",
       "    </tr>\n",
       "  </tbody>\n",
       "</table>\n",
       "</div>"
      ],
      "text/plain": [
       "                  total_missing  perc_missing\n",
       "session_id                    0      0.000000\n",
       "timestamp                     0      0.000000\n",
       "user_id                       0      0.000000\n",
       "product_id                    0      0.000000\n",
       "event_type                    0      0.000000\n",
       "offered_discount              0      0.000000\n",
       "purchase_id               30830     82.945465"
      ]
     },
     "execution_count": 14,
     "metadata": {},
     "output_type": "execute_result"
    }
   ],
   "source": [
    "pd.DataFrame({'total_missing': sessions.isnull().sum(), 'perc_missing': (sessions.isnull().sum()/sessions.session_id.count())*100})"
   ]
  },
  {
   "cell_type": "code",
   "execution_count": 15,
   "metadata": {
    "cell_id": "00031-152a27f7-4c1e-4a0b-8991-706748c93ddf",
    "deepnote_cell_type": "code",
    "deepnote_to_be_reexecuted": false,
    "execution_millis": 325,
    "execution_start": 1621088802972,
    "source_hash": "d712c03a",
    "tags": []
   },
   "outputs": [
    {
     "data": {
      "image/png": "[encoded data removed]",
      "text/plain": [
       "<Figure size 432x288 with 1 Axes>"
      ]
     },
     "metadata": {
      "needs_background": "light"
     },
     "output_type": "display_data"
    }
   ],
   "source": [
    "# nie ma żadnych wartości odstających do poprawienia\n",
    "numerical_columns = [\"offered_discount\"]\n",
    "sessions[numerical_columns].boxplot()\n",
    "plt.title(\"offered discount boxplot\")\n",
    "plt.show()"
   ]
  },
  {
   "cell_type": "code",
   "execution_count": 16,
   "metadata": {
    "cell_id": "00032-7f22ab95-8686-42c4-9a33-ac7cc1e9158f",
    "deepnote_cell_type": "code",
    "deepnote_to_be_reexecuted": false,
    "execution_millis": 317,
    "execution_start": 1621088803822,
    "source_hash": "be6c0923",
    "tags": []
   },
   "outputs": [
    {
     "data": {
      "image/png": "[encoded data removed]",
      "text/plain": [
       "<Figure size 432x288 with 1 Axes>"
      ]
     },
     "metadata": {
      "needs_background": "light"
     },
     "output_type": "display_data"
    }
   ],
   "source": [
    "sns.histplot(sessions.event_type)\n",
    "plt.title(\"Distribution of session events\")\n",
    "plt.show()\n",
    "\n",
    "# na 6 oglądań, średnio mamy 1 zakup"
   ]
  },
  {
   "cell_type": "code",
   "execution_count": 17,
   "metadata": {
    "cell_id": "00033-de9a20b7-ba6c-4799-b092-7d3689b881c7",
    "deepnote_cell_type": "code",
    "deepnote_to_be_reexecuted": false,
    "execution_millis": 26,
    "execution_start": 1621088804189,
    "source_hash": "35dc849a",
    "tags": []
   },
   "outputs": [
    {
     "data": {
      "text/plain": [
       "0"
      ]
     },
     "execution_count": 17,
     "metadata": {},
     "output_type": "execute_result"
    }
   ],
   "source": [
    "# ile brakuje purchase_id gdy typ sesji to BUY_PRODUCT?\n",
    "sessions[sessions.event_type==\"BUY_PRODUCT\"].purchase_id.isna().sum()"
   ]
  },
  {
   "cell_type": "markdown",
   "metadata": {
    "cell_id": "00034-b7498bf5-6209-4e08-8108-51ff043ffed2",
    "deepnote_cell_type": "markdown",
    "tags": []
   },
   "source": [
    "Gdy ktoś kupuje produkt, zawsze znamy id tego produktu."
   ]
  },
  {
   "cell_type": "code",
   "execution_count": 18,
   "metadata": {
    "cell_id": "00035-2519df6f-b9fd-40e7-9133-640af5e23ba0",
    "deepnote_cell_type": "code",
    "deepnote_to_be_reexecuted": false,
    "execution_millis": 24,
    "execution_start": 1621088805404,
    "source_hash": "2d35c6d8",
    "tags": []
   },
   "outputs": [
    {
     "data": {
      "text/plain": [
       "0"
      ]
     },
     "execution_count": 18,
     "metadata": {},
     "output_type": "execute_result"
    }
   ],
   "source": [
    "# ile sesji typu VIEW_PRODUCT ma purchase_id (prawdopodobnie niepotrzebne informacje)?\n",
    "sessions[sessions.event_type==\"VIEW_PRODUCT\"].purchase_id.notna().sum()"
   ]
  },
  {
   "cell_type": "markdown",
   "metadata": {
    "cell_id": "00026-4a94d74e-493e-467a-aa2e-c1fec145ce82",
    "deepnote_cell_type": "text-cell-p",
    "tags": []
   },
   "source": [
    "PRODUCTS"
   ]
  },
  {
   "cell_type": "code",
   "execution_count": 19,
   "metadata": {
    "cell_id": "00036-76b530da-3f7c-40ef-bdfa-0ee30e41e9f1",
    "deepnote_cell_type": "code",
    "deepnote_to_be_reexecuted": false,
    "execution_millis": 22,
    "execution_start": 1621088806264,
    "source_hash": "cd78479f",
    "tags": []
   },
   "outputs": [
    {
     "name": "stdout",
     "output_type": "stream",
     "text": [
      "<class 'pandas.core.frame.DataFrame'>\n",
      "RangeIndex: 319 entries, 0 to 318\n",
      "Data columns (total 4 columns):\n",
      " #   Column         Non-Null Count  Dtype  \n",
      "---  ------         --------------  -----  \n",
      " 0   product_id     319 non-null    int64  \n",
      " 1   product_name   319 non-null    object \n",
      " 2   category_path  319 non-null    object \n",
      " 3   price          319 non-null    float64\n",
      "dtypes: float64(1), int64(1), object(2)\n",
      "memory usage: 10.1+ KB\n"
     ]
    }
   ],
   "source": [
    "# brak pustych komóre\n",
    "products.info()"
   ]
  },
  {
   "cell_type": "code",
   "execution_count": 20,
   "metadata": {
    "cell_id": "00037-f10c5e65-5497-4daf-8131-47f197c29f2c",
    "deepnote_cell_type": "code",
    "deepnote_to_be_reexecuted": false,
    "execution_millis": 70,
    "execution_start": 1621088806556,
    "source_hash": "9122d6c8",
    "tags": []
   },
   "outputs": [
    {
     "data": {
      "text/html": [
       "<div>\n",
       "<style scoped>\n",
       "    .dataframe tbody tr th:only-of-type {\n",
       "        vertical-align: middle;\n",
       "    }\n",
       "\n",
       "    .dataframe tbody tr th {\n",
       "        vertical-align: top;\n",
       "    }\n",
       "\n",
       "    .dataframe thead th {\n",
       "        text-align: right;\n",
       "    }\n",
       "</style>\n",
       "<table border=\"1\" class=\"dataframe\">\n",
       "  <thead>\n",
       "    <tr style=\"text-align: right;\">\n",
       "      <th></th>\n",
       "      <th>product_id</th>\n",
       "      <th>product_name</th>\n",
       "      <th>category_path</th>\n",
       "      <th>price</th>\n",
       "    </tr>\n",
       "  </thead>\n",
       "  <tbody>\n",
       "    <tr>\n",
       "      <th>111</th>\n",
       "      <td>1112</td>\n",
       "      <td>Singularity (PC)</td>\n",
       "      <td>Gry i konsole;Gry komputerowe</td>\n",
       "      <td>8.9</td>\n",
       "    </tr>\n",
       "    <tr>\n",
       "      <th>271</th>\n",
       "      <td>1272</td>\n",
       "      <td>The Ball (PC)</td>\n",
       "      <td>Gry i konsole;Gry komputerowe</td>\n",
       "      <td>1.0</td>\n",
       "    </tr>\n",
       "    <tr>\n",
       "      <th>229</th>\n",
       "      <td>1230</td>\n",
       "      <td>Symulator Robót Drogowych (PC)</td>\n",
       "      <td>Gry i konsole;Gry komputerowe</td>\n",
       "      <td>47.7</td>\n",
       "    </tr>\n",
       "  </tbody>\n",
       "</table>\n",
       "</div>"
      ],
      "text/plain": [
       "     product_id                    product_name  \\\n",
       "111        1112                Singularity (PC)   \n",
       "271        1272                   The Ball (PC)   \n",
       "229        1230  Symulator Robót Drogowych (PC)   \n",
       "\n",
       "                     category_path  price  \n",
       "111  Gry i konsole;Gry komputerowe    8.9  \n",
       "271  Gry i konsole;Gry komputerowe    1.0  \n",
       "229  Gry i konsole;Gry komputerowe   47.7  "
      ]
     },
     "execution_count": 20,
     "metadata": {},
     "output_type": "execute_result"
    }
   ],
   "source": [
    "products.sample(3)"
   ]
  },
  {
   "cell_type": "code",
   "execution_count": 21,
   "metadata": {
    "cell_id": "00038-668568d1-6d07-4689-9607-1e99ed5ca20d",
    "deepnote_cell_type": "code",
    "deepnote_to_be_reexecuted": false,
    "execution_millis": 94,
    "execution_start": 1621088806921,
    "source_hash": "6d63a87d"
   },
   "outputs": [
    {
     "data": {
      "text/html": [
       "<div>\n",
       "<style scoped>\n",
       "    .dataframe tbody tr th:only-of-type {\n",
       "        vertical-align: middle;\n",
       "    }\n",
       "\n",
       "    .dataframe tbody tr th {\n",
       "        vertical-align: top;\n",
       "    }\n",
       "\n",
       "    .dataframe thead th {\n",
       "        text-align: right;\n",
       "    }\n",
       "</style>\n",
       "<table border=\"1\" class=\"dataframe\">\n",
       "  <thead>\n",
       "    <tr style=\"text-align: right;\">\n",
       "      <th></th>\n",
       "      <th>product_id</th>\n",
       "      <th>price</th>\n",
       "    </tr>\n",
       "  </thead>\n",
       "  <tbody>\n",
       "    <tr>\n",
       "      <th>count</th>\n",
       "      <td>319.000000</td>\n",
       "      <td>319.000000</td>\n",
       "    </tr>\n",
       "    <tr>\n",
       "      <th>mean</th>\n",
       "      <td>1160.000000</td>\n",
       "      <td>247.787962</td>\n",
       "    </tr>\n",
       "    <tr>\n",
       "      <th>std</th>\n",
       "      <td>92.231593</td>\n",
       "      <td>813.788548</td>\n",
       "    </tr>\n",
       "    <tr>\n",
       "      <th>min</th>\n",
       "      <td>1001.000000</td>\n",
       "      <td>1.000000</td>\n",
       "    </tr>\n",
       "    <tr>\n",
       "      <th>25%</th>\n",
       "      <td>1080.500000</td>\n",
       "      <td>24.990000</td>\n",
       "    </tr>\n",
       "    <tr>\n",
       "      <th>50%</th>\n",
       "      <td>1160.000000</td>\n",
       "      <td>41.000000</td>\n",
       "    </tr>\n",
       "    <tr>\n",
       "      <th>75%</th>\n",
       "      <td>1239.500000</td>\n",
       "      <td>92.995000</td>\n",
       "    </tr>\n",
       "    <tr>\n",
       "      <th>max</th>\n",
       "      <td>1319.000000</td>\n",
       "      <td>7639.000000</td>\n",
       "    </tr>\n",
       "  </tbody>\n",
       "</table>\n",
       "</div>"
      ],
      "text/plain": [
       "        product_id        price\n",
       "count   319.000000   319.000000\n",
       "mean   1160.000000   247.787962\n",
       "std      92.231593   813.788548\n",
       "min    1001.000000     1.000000\n",
       "25%    1080.500000    24.990000\n",
       "50%    1160.000000    41.000000\n",
       "75%    1239.500000    92.995000\n",
       "max    1319.000000  7639.000000"
      ]
     },
     "execution_count": 21,
     "metadata": {},
     "output_type": "execute_result"
    }
   ],
   "source": [
    "products.describe()"
   ]
  },
  {
   "cell_type": "code",
   "execution_count": 22,
   "metadata": {
    "cell_id": "00040-1f573b78-439f-4cf3-aa4e-b4fd1e7294be",
    "deepnote_cell_type": "code",
    "deepnote_to_be_reexecuted": false,
    "execution_millis": 211,
    "execution_start": 1621088807719,
    "source_hash": "713ba29b",
    "tags": []
   },
   "outputs": [
    {
     "data": {
      "image/png": "[encoded data removed]",
      "text/plain": [
       "<Figure size 432x288 with 1 Axes>"
      ]
     },
     "metadata": {
      "needs_background": "light"
     },
     "output_type": "display_data"
    }
   ],
   "source": [
    "numerical_columns = ['price']\n",
    "products[numerical_columns].boxplot()\n",
    "plt.title('Price boxplot')\n",
    "plt.show()"
   ]
  },
  {
   "cell_type": "code",
   "execution_count": 23,
   "metadata": {
    "cell_id": "00042-406b4f9f-359b-47b4-9ee2-3e1eac1e4e17",
    "deepnote_cell_type": "code",
    "deepnote_to_be_reexecuted": false,
    "execution_millis": 39,
    "execution_start": 1621088808136,
    "source_hash": "9f992bda",
    "tags": []
   },
   "outputs": [
    {
     "data": {
      "text/html": [
       "<div>\n",
       "<style scoped>\n",
       "    .dataframe tbody tr th:only-of-type {\n",
       "        vertical-align: middle;\n",
       "    }\n",
       "\n",
       "    .dataframe tbody tr th {\n",
       "        vertical-align: top;\n",
       "    }\n",
       "\n",
       "    .dataframe thead th {\n",
       "        text-align: right;\n",
       "    }\n",
       "</style>\n",
       "<table border=\"1\" class=\"dataframe\">\n",
       "  <thead>\n",
       "    <tr style=\"text-align: right;\">\n",
       "      <th></th>\n",
       "      <th>product_id</th>\n",
       "      <th>product_name</th>\n",
       "      <th>category_path</th>\n",
       "      <th>price</th>\n",
       "    </tr>\n",
       "  </thead>\n",
       "  <tbody>\n",
       "    <tr>\n",
       "      <th>140</th>\n",
       "      <td>1141</td>\n",
       "      <td>Król Futbolu Piłkarski Quiz (PC)</td>\n",
       "      <td>Gry i konsole;Gry komputerowe</td>\n",
       "      <td>1.0</td>\n",
       "    </tr>\n",
       "    <tr>\n",
       "      <th>192</th>\n",
       "      <td>1193</td>\n",
       "      <td>Heroes Over Europe (PC)</td>\n",
       "      <td>Gry i konsole;Gry komputerowe</td>\n",
       "      <td>1.0</td>\n",
       "    </tr>\n",
       "    <tr>\n",
       "      <th>271</th>\n",
       "      <td>1272</td>\n",
       "      <td>The Ball (PC)</td>\n",
       "      <td>Gry i konsole;Gry komputerowe</td>\n",
       "      <td>1.0</td>\n",
       "    </tr>\n",
       "  </tbody>\n",
       "</table>\n",
       "</div>"
      ],
      "text/plain": [
       "     product_id                      product_name  \\\n",
       "140        1141  Król Futbolu Piłkarski Quiz (PC)   \n",
       "192        1193           Heroes Over Europe (PC)   \n",
       "271        1272                     The Ball (PC)   \n",
       "\n",
       "                     category_path  price  \n",
       "140  Gry i konsole;Gry komputerowe    1.0  \n",
       "192  Gry i konsole;Gry komputerowe    1.0  \n",
       "271  Gry i konsole;Gry komputerowe    1.0  "
      ]
     },
     "execution_count": 23,
     "metadata": {},
     "output_type": "execute_result"
    }
   ],
   "source": [
    "products[products['price'] == 1]"
   ]
  },
  {
   "cell_type": "code",
   "execution_count": 24,
   "metadata": {
    "cell_id": "00044-99664b94-c8ef-4a50-82b7-d43ef3302c80",
    "deepnote_cell_type": "code",
    "deepnote_to_be_reexecuted": false,
    "execution_millis": 36,
    "execution_start": 1621088808431,
    "source_hash": "a9fa11cf",
    "tags": []
   },
   "outputs": [
    {
     "data": {
      "text/plain": [
       "product_id       0\n",
       "product_name     0\n",
       "category_path    0\n",
       "price            0\n",
       "dtype: int64"
      ]
     },
     "execution_count": 24,
     "metadata": {},
     "output_type": "execute_result"
    }
   ],
   "source": [
    "# ceny niedodatnie\n",
    "products[products['price'] <= 0].count()"
   ]
  },
  {
   "cell_type": "code",
   "execution_count": 25,
   "metadata": {
    "cell_id": "00048-e15175f3-1cd0-4071-922d-4cf24a86f2d7",
    "deepnote_cell_type": "code",
    "deepnote_to_be_reexecuted": false,
    "execution_millis": 27,
    "execution_start": 1621088808800,
    "source_hash": "2ea6618f",
    "tags": []
   },
   "outputs": [],
   "source": [
    "# merge sessions with products\n",
    "shop_df = sessions.merge(products, on=\"product_id\", how=\"left\")"
   ]
  },
  {
   "cell_type": "code",
   "execution_count": 26,
   "metadata": {
    "cell_id": "00033-205eca2e-9b76-486b-a3b2-dcf0b57552e5",
    "deepnote_cell_type": "code",
    "deepnote_to_be_reexecuted": false,
    "execution_millis": 31,
    "execution_start": 1621088810394,
    "source_hash": "2c30680d",
    "tags": []
   },
   "outputs": [],
   "source": [
    "# merge sessions and products with users\n",
    "shop_df = shop_df.merge(users, on='user_id', how = 'left')"
   ]
  },
  {
   "cell_type": "code",
   "execution_count": 27,
   "metadata": {
    "cell_id": "00036-9603bcac-a731-4cab-b633-4db872721937",
    "deepnote_cell_type": "code",
    "deepnote_to_be_reexecuted": false,
    "execution_millis": 12,
    "execution_start": 1621088810840,
    "source_hash": "f67fa841",
    "tags": []
   },
   "outputs": [
    {
     "data": {
      "text/html": [
       "<div>\n",
       "<style scoped>\n",
       "    .dataframe tbody tr th:only-of-type {\n",
       "        vertical-align: middle;\n",
       "    }\n",
       "\n",
       "    .dataframe tbody tr th {\n",
       "        vertical-align: top;\n",
       "    }\n",
       "\n",
       "    .dataframe thead th {\n",
       "        text-align: right;\n",
       "    }\n",
       "</style>\n",
       "<table border=\"1\" class=\"dataframe\">\n",
       "  <thead>\n",
       "    <tr style=\"text-align: right;\">\n",
       "      <th></th>\n",
       "      <th>session_id</th>\n",
       "      <th>timestamp</th>\n",
       "      <th>user_id</th>\n",
       "      <th>product_id</th>\n",
       "      <th>event_type</th>\n",
       "      <th>offered_discount</th>\n",
       "      <th>purchase_id</th>\n",
       "      <th>product_name</th>\n",
       "      <th>category_path</th>\n",
       "      <th>price</th>\n",
       "      <th>name</th>\n",
       "      <th>city</th>\n",
       "      <th>street</th>\n",
       "    </tr>\n",
       "  </thead>\n",
       "  <tbody>\n",
       "    <tr>\n",
       "      <th>9255</th>\n",
       "      <td>102459</td>\n",
       "      <td>2021-03-15 23:23:47</td>\n",
       "      <td>151</td>\n",
       "      <td>1293</td>\n",
       "      <td>VIEW_PRODUCT</td>\n",
       "      <td>0</td>\n",
       "      <td>NaN</td>\n",
       "      <td>Hama 44292</td>\n",
       "      <td>Sprzęt RTV;Video;Telewizory i akcesoria;Anteny...</td>\n",
       "      <td>44.99</td>\n",
       "      <td>Dawid Rzeźniczak</td>\n",
       "      <td>Radom</td>\n",
       "      <td>pl. Lawendowa 338</td>\n",
       "    </tr>\n",
       "    <tr>\n",
       "      <th>16737</th>\n",
       "      <td>104385</td>\n",
       "      <td>2021-03-31 17:07:58</td>\n",
       "      <td>190</td>\n",
       "      <td>1318</td>\n",
       "      <td>BUY_PRODUCT</td>\n",
       "      <td>0</td>\n",
       "      <td>22857.0</td>\n",
       "      <td>Plantronics Savi W710</td>\n",
       "      <td>Sprzęt RTV;Audio;Słuchawki</td>\n",
       "      <td>553.00</td>\n",
       "      <td>Justyna Karwala</td>\n",
       "      <td>Police</td>\n",
       "      <td>al. Torowa 460</td>\n",
       "    </tr>\n",
       "    <tr>\n",
       "      <th>3062</th>\n",
       "      <td>100849</td>\n",
       "      <td>2021-04-16 07:21:03</td>\n",
       "      <td>120</td>\n",
       "      <td>1009</td>\n",
       "      <td>VIEW_PRODUCT</td>\n",
       "      <td>0</td>\n",
       "      <td>NaN</td>\n",
       "      <td>Kinect Joy Ride (Xbox 360)</td>\n",
       "      <td>Gry i konsole;Gry na konsole;Gry Xbox 360</td>\n",
       "      <td>69.00</td>\n",
       "      <td>Olaf Szymula</td>\n",
       "      <td>Warszawa</td>\n",
       "      <td>plac Browarna 72</td>\n",
       "    </tr>\n",
       "  </tbody>\n",
       "</table>\n",
       "</div>"
      ],
      "text/plain": [
       "       session_id           timestamp  user_id  product_id    event_type  \\\n",
       "9255       102459 2021-03-15 23:23:47      151        1293  VIEW_PRODUCT   \n",
       "16737      104385 2021-03-31 17:07:58      190        1318   BUY_PRODUCT   \n",
       "3062       100849 2021-04-16 07:21:03      120        1009  VIEW_PRODUCT   \n",
       "\n",
       "       offered_discount  purchase_id                product_name  \\\n",
       "9255                  0          NaN                  Hama 44292   \n",
       "16737                 0      22857.0       Plantronics Savi W710   \n",
       "3062                  0          NaN  Kinect Joy Ride (Xbox 360)   \n",
       "\n",
       "                                           category_path   price  \\\n",
       "9255   Sprzęt RTV;Video;Telewizory i akcesoria;Anteny...   44.99   \n",
       "16737                         Sprzęt RTV;Audio;Słuchawki  553.00   \n",
       "3062           Gry i konsole;Gry na konsole;Gry Xbox 360   69.00   \n",
       "\n",
       "                   name      city             street  \n",
       "9255   Dawid Rzeźniczak     Radom  pl. Lawendowa 338  \n",
       "16737   Justyna Karwala    Police     al. Torowa 460  \n",
       "3062       Olaf Szymula  Warszawa   plac Browarna 72  "
      ]
     },
     "execution_count": 27,
     "metadata": {},
     "output_type": "execute_result"
    }
   ],
   "source": [
    "shop_df.sample(3)"
   ]
  },
  {
   "cell_type": "code",
   "execution_count": 28,
   "metadata": {
    "cell_id": "00033-b3620f83-83e6-4659-b470-6e0d7b040995",
    "deepnote_cell_type": "code",
    "deepnote_to_be_reexecuted": false,
    "execution_millis": 24,
    "execution_start": 1621088811376,
    "source_hash": "e6c63b21",
    "tags": []
   },
   "outputs": [
    {
     "name": "stdout",
     "output_type": "stream",
     "text": [
      "<class 'pandas.core.frame.DataFrame'>\n",
      "Int64Index: 37169 entries, 0 to 37168\n",
      "Data columns (total 13 columns):\n",
      " #   Column            Non-Null Count  Dtype         \n",
      "---  ------            --------------  -----         \n",
      " 0   session_id        37169 non-null  int64         \n",
      " 1   timestamp         37169 non-null  datetime64[ns]\n",
      " 2   user_id           37169 non-null  int64         \n",
      " 3   product_id        37169 non-null  int64         \n",
      " 4   event_type        37169 non-null  object        \n",
      " 5   offered_discount  37169 non-null  int64         \n",
      " 6   purchase_id       6339 non-null   float64       \n",
      " 7   product_name      37169 non-null  object        \n",
      " 8   category_path     37169 non-null  object        \n",
      " 9   price             37169 non-null  float64       \n",
      " 10  name              37169 non-null  object        \n",
      " 11  city              37169 non-null  object        \n",
      " 12  street            37169 non-null  object        \n",
      "dtypes: datetime64[ns](1), float64(2), int64(4), object(6)\n",
      "memory usage: 4.0+ MB\n"
     ]
    }
   ],
   "source": [
    "shop_df.info()"
   ]
  },
  {
   "cell_type": "markdown",
   "metadata": {
    "cell_id": "00037-604ad26b-a461-4857-af8f-6f460891cdc8",
    "deepnote_cell_type": "markdown",
    "tags": []
   },
   "source": [
    "Zmienną celu jest event_type_BUY_PRODUCT. Sprawdzamy współczynnik wzajemnej informacji między tą zmienną i innymi atrybutami. \n",
    "\n",
    "Pomijamy atrybut purchase_id, ponieważ jest on znany tylko wtedy, gdy dokonano zakupu. Dodajemy kolumnę 'purchase_id_nan', której wartości to 1, gdy nie dokonano zakupu i 0, jeśli dokonano. \n",
    "\n",
    "Do analizy używamy one hot encoding (pd.get_dummies()) i dlatego pomijamy też kolumny 'name' oraz 'street'. Możemy to ominąć, ponieważ mamy kolumnę 'user_id', która mówi nam o tym, który to użytkownik. Z tego samego powodu pomijamy 'product_name' - mamy 'product_id' i to wystarczy."
   ]
  },
  {
   "cell_type": "code",
   "execution_count": 29,
   "metadata": {
    "cell_id": "00038-87d95bce-df72-44ed-8b8e-bba23f1a6775",
    "deepnote_cell_type": "code",
    "deepnote_to_be_reexecuted": false,
    "execution_millis": 45,
    "execution_start": 1621089477728,
    "source_hash": "30ff39ba",
    "tags": []
   },
   "outputs": [],
   "source": [
    "shop_df[\"purchase_id_isnan\"] = np.where(shop_df.purchase_id.isnull(), 1, 0)\n",
    "\n",
    "# dodajemy nowy atrubut: price*offered_discount\n",
    "shop_df[\"discount_price\"] = (shop_df[\"price\"] * shop_df[\"offered_discount\"])\n",
    "\n",
    "# dataframe tylko dla XGB\n",
    "shop_df_xgb = shop_df.copy()\n",
    "\n",
    "shop_df = shop_df[shop_df.columns[~shop_df.columns.isin([\"product_name\", \"purchase_id\", \"name\", \"street\"])]]\n",
    "shop_df = pd.get_dummies(shop_df)"
   ]
  },
  {
   "cell_type": "markdown",
   "metadata": {
    "cell_id": "00038-df945a48-502d-4f6e-86a2-4e317af27c13",
    "deepnote_cell_type": "text-cell-h2",
    "tags": []
   },
   "source": [
    "## Sprawdzenie współczynnika wzajemnej informacji"
   ]
  },
  {
   "cell_type": "code",
   "execution_count": 30,
   "metadata": {
    "cell_id": "00035-20bd62ff-061a-4f55-a79b-331339e72eb4",
    "deepnote_cell_type": "code",
    "deepnote_to_be_reexecuted": false,
    "execution_millis": 121,
    "execution_start": 1621089481046,
    "source_hash": "be0a1b7c",
    "tags": []
   },
   "outputs": [
    {
     "data": {
      "text/html": [
       "<div>\n",
       "<style scoped>\n",
       "    .dataframe tbody tr th:only-of-type {\n",
       "        vertical-align: middle;\n",
       "    }\n",
       "\n",
       "    .dataframe tbody tr th {\n",
       "        vertical-align: top;\n",
       "    }\n",
       "\n",
       "    .dataframe thead th {\n",
       "        text-align: right;\n",
       "    }\n",
       "</style>\n",
       "<table border=\"1\" class=\"dataframe\">\n",
       "  <thead>\n",
       "    <tr style=\"text-align: right;\">\n",
       "      <th></th>\n",
       "      <th>session_id</th>\n",
       "      <th>timestamp</th>\n",
       "      <th>user_id</th>\n",
       "      <th>product_id</th>\n",
       "      <th>offered_discount</th>\n",
       "      <th>price</th>\n",
       "      <th>purchase_id_isnan</th>\n",
       "      <th>discount_price</th>\n",
       "      <th>event_type_BUY_PRODUCT</th>\n",
       "      <th>event_type_VIEW_PRODUCT</th>\n",
       "      <th>...</th>\n",
       "      <th>category_path_Telefony i akcesoria;Telefony komórkowe</th>\n",
       "      <th>category_path_Telefony i akcesoria;Telefony stacjonarne</th>\n",
       "      <th>city_Gdynia</th>\n",
       "      <th>city_Konin</th>\n",
       "      <th>city_Kutno</th>\n",
       "      <th>city_Mielec</th>\n",
       "      <th>city_Police</th>\n",
       "      <th>city_Radom</th>\n",
       "      <th>city_Szczecin</th>\n",
       "      <th>city_Warszawa</th>\n",
       "    </tr>\n",
       "  </thead>\n",
       "  <tbody>\n",
       "    <tr>\n",
       "      <th>21848</th>\n",
       "      <td>105746</td>\n",
       "      <td>2021-01-30 05:59:22</td>\n",
       "      <td>217</td>\n",
       "      <td>1042</td>\n",
       "      <td>15</td>\n",
       "      <td>129.00</td>\n",
       "      <td>1</td>\n",
       "      <td>1935.00</td>\n",
       "      <td>0</td>\n",
       "      <td>1</td>\n",
       "      <td>...</td>\n",
       "      <td>0</td>\n",
       "      <td>0</td>\n",
       "      <td>0</td>\n",
       "      <td>0</td>\n",
       "      <td>1</td>\n",
       "      <td>0</td>\n",
       "      <td>0</td>\n",
       "      <td>0</td>\n",
       "      <td>0</td>\n",
       "      <td>0</td>\n",
       "    </tr>\n",
       "    <tr>\n",
       "      <th>25571</th>\n",
       "      <td>106757</td>\n",
       "      <td>2021-04-13 16:21:51</td>\n",
       "      <td>239</td>\n",
       "      <td>1051</td>\n",
       "      <td>0</td>\n",
       "      <td>76.90</td>\n",
       "      <td>0</td>\n",
       "      <td>0.00</td>\n",
       "      <td>1</td>\n",
       "      <td>0</td>\n",
       "      <td>...</td>\n",
       "      <td>0</td>\n",
       "      <td>0</td>\n",
       "      <td>0</td>\n",
       "      <td>0</td>\n",
       "      <td>1</td>\n",
       "      <td>0</td>\n",
       "      <td>0</td>\n",
       "      <td>0</td>\n",
       "      <td>0</td>\n",
       "      <td>0</td>\n",
       "    </tr>\n",
       "    <tr>\n",
       "      <th>34258</th>\n",
       "      <td>109079</td>\n",
       "      <td>2021-04-08 12:40:42</td>\n",
       "      <td>286</td>\n",
       "      <td>1001</td>\n",
       "      <td>5</td>\n",
       "      <td>58.97</td>\n",
       "      <td>0</td>\n",
       "      <td>294.85</td>\n",
       "      <td>1</td>\n",
       "      <td>0</td>\n",
       "      <td>...</td>\n",
       "      <td>0</td>\n",
       "      <td>1</td>\n",
       "      <td>0</td>\n",
       "      <td>1</td>\n",
       "      <td>0</td>\n",
       "      <td>0</td>\n",
       "      <td>0</td>\n",
       "      <td>0</td>\n",
       "      <td>0</td>\n",
       "      <td>0</td>\n",
       "    </tr>\n",
       "  </tbody>\n",
       "</table>\n",
       "<p>3 rows × 33 columns</p>\n",
       "</div>"
      ],
      "text/plain": [
       "       session_id           timestamp  user_id  product_id  offered_discount  \\\n",
       "21848      105746 2021-01-30 05:59:22      217        1042                15   \n",
       "25571      106757 2021-04-13 16:21:51      239        1051                 0   \n",
       "34258      109079 2021-04-08 12:40:42      286        1001                 5   \n",
       "\n",
       "        price  purchase_id_isnan  discount_price  event_type_BUY_PRODUCT  \\\n",
       "21848  129.00                  1         1935.00                       0   \n",
       "25571   76.90                  0            0.00                       1   \n",
       "34258   58.97                  0          294.85                       1   \n",
       "\n",
       "       event_type_VIEW_PRODUCT  ...  \\\n",
       "21848                        1  ...   \n",
       "25571                        0  ...   \n",
       "34258                        0  ...   \n",
       "\n",
       "       category_path_Telefony i akcesoria;Telefony komórkowe  \\\n",
       "21848                                                  0       \n",
       "25571                                                  0       \n",
       "34258                                                  0       \n",
       "\n",
       "       category_path_Telefony i akcesoria;Telefony stacjonarne  city_Gdynia  \\\n",
       "21848                                                  0                  0   \n",
       "25571                                                  0                  0   \n",
       "34258                                                  1                  0   \n",
       "\n",
       "       city_Konin  city_Kutno  city_Mielec  city_Police  city_Radom  \\\n",
       "21848           0           1            0            0           0   \n",
       "25571           0           1            0            0           0   \n",
       "34258           1           0            0            0           0   \n",
       "\n",
       "       city_Szczecin  city_Warszawa  \n",
       "21848              0              0  \n",
       "25571              0              0  \n",
       "34258              0              0  \n",
       "\n",
       "[3 rows x 33 columns]"
      ]
     },
     "execution_count": 30,
     "metadata": {},
     "output_type": "execute_result"
    }
   ],
   "source": [
    "shop_df_check = shop_df.copy()\n",
    "shop_df_check.sample(3)"
   ]
  },
  {
   "cell_type": "code",
   "execution_count": 31,
   "metadata": {
    "cell_id": "00035-a2e08475-52f8-4943-9ca4-2824f3f304c8",
    "deepnote_cell_type": "code",
    "deepnote_to_be_reexecuted": false,
    "execution_millis": 31,
    "execution_start": 1621088815126,
    "source_hash": "8d38a6ad",
    "tags": []
   },
   "outputs": [
    {
     "name": "stdout",
     "output_type": "stream",
     "text": [
      "<class 'pandas.core.frame.DataFrame'>\n",
      "Int64Index: 37169 entries, 0 to 37168\n",
      "Data columns (total 33 columns):\n",
      " #   Column                                                                           Non-Null Count  Dtype         \n",
      "---  ------                                                                           --------------  -----         \n",
      " 0   session_id                                                                       37169 non-null  int64         \n",
      " 1   timestamp                                                                        37169 non-null  datetime64[ns]\n",
      " 2   user_id                                                                          37169 non-null  int64         \n",
      " 3   product_id                                                                       37169 non-null  int64         \n",
      " 4   offered_discount                                                                 37169 non-null  int64         \n",
      " 5   price                                                                            37169 non-null  float64       \n",
      " 6   purchase_id_isnan                                                                37169 non-null  int32         \n",
      " 7   discount_price                                                                   37169 non-null  float64       \n",
      " 8   event_type_BUY_PRODUCT                                                           37169 non-null  uint8         \n",
      " 9   event_type_VIEW_PRODUCT                                                          37169 non-null  uint8         \n",
      " 10  category_path_Gry i konsole;Gry komputerowe                                      37169 non-null  uint8         \n",
      " 11  category_path_Gry i konsole;Gry na konsole;Gry PlayStation3                      37169 non-null  uint8         \n",
      " 12  category_path_Gry i konsole;Gry na konsole;Gry Xbox 360                          37169 non-null  uint8         \n",
      " 13  category_path_Komputery;Drukarki i skanery;Biurowe urządzenia wielofunkcyjne     37169 non-null  uint8         \n",
      " 14  category_path_Komputery;Monitory;Monitory LCD                                    37169 non-null  uint8         \n",
      " 15  category_path_Komputery;Tablety i akcesoria;Tablety                              37169 non-null  uint8         \n",
      " 16  category_path_Sprzęt RTV;Audio;Słuchawki                                         37169 non-null  uint8         \n",
      " 17  category_path_Sprzęt RTV;Przenośne audio i video;Odtwarzacze mp3 i mp4           37169 non-null  uint8         \n",
      " 18  category_path_Sprzęt RTV;Video;Odtwarzacze DVD                                   37169 non-null  uint8         \n",
      " 19  category_path_Sprzęt RTV;Video;Telewizory i akcesoria;Anteny RTV                 37169 non-null  uint8         \n",
      " 20  category_path_Sprzęt RTV;Video;Telewizory i akcesoria;Okulary 3D                 37169 non-null  uint8         \n",
      " 21  category_path_Telefony i akcesoria;Akcesoria telefoniczne;Zestawy głośnomówiące  37169 non-null  uint8         \n",
      " 22  category_path_Telefony i akcesoria;Akcesoria telefoniczne;Zestawy słuchawkowe    37169 non-null  uint8         \n",
      " 23  category_path_Telefony i akcesoria;Telefony komórkowe                            37169 non-null  uint8         \n",
      " 24  category_path_Telefony i akcesoria;Telefony stacjonarne                          37169 non-null  uint8         \n",
      " 25  city_Gdynia                                                                      37169 non-null  uint8         \n",
      " 26  city_Konin                                                                       37169 non-null  uint8         \n",
      " 27  city_Kutno                                                                       37169 non-null  uint8         \n",
      " 28  city_Mielec                                                                      37169 non-null  uint8         \n",
      " 29  city_Police                                                                      37169 non-null  uint8         \n",
      " 30  city_Radom                                                                       37169 non-null  uint8         \n",
      " 31  city_Szczecin                                                                    37169 non-null  uint8         \n",
      " 32  city_Warszawa                                                                    37169 non-null  uint8         \n",
      "dtypes: datetime64[ns](1), float64(2), int32(1), int64(4), uint8(25)\n",
      "memory usage: 3.3 MB\n"
     ]
    }
   ],
   "source": [
    "shop_df_check.info()"
   ]
  },
  {
   "cell_type": "markdown",
   "metadata": {
    "cell_id": "00042-8607c57d-e313-40aa-9574-7ee6968f66a2",
    "deepnote_cell_type": "markdown",
    "tags": []
   },
   "source": [
    "Sprawdzamy współczynnik wzajemnej informacji między zmienną celu, a innymi atrybutami. Aby sprawdzić, czy współczynnik jest wysoki, permutujemy każdą z kolumn tworząc szum i porównujemy wyniki wzajemnej informacji z szumem i z oryginalnym atrybutem."
   ]
  },
  {
   "cell_type": "code",
   "execution_count": 32,
   "metadata": {
    "cell_id": "00037-e371ef32-a582-4e57-94d9-c8808eb32a39",
    "deepnote_cell_type": "code",
    "deepnote_to_be_reexecuted": false,
    "execution_millis": 32461,
    "execution_start": 1621088820777,
    "source_hash": "b129cebe",
    "tags": []
   },
   "outputs": [],
   "source": [
    "y = shop_df_check[\"event_type_BUY_PRODUCT\"]\n",
    "shop_df_check = shop_df_check[shop_df_check.columns[~shop_df_check.columns.isin([\"event_type_BUY_PRODUCT\", \"event_type_VIEW_PRODUCT\", \"purchase_id_isnan\", \"timestamp\"])]]\n",
    "\n",
    "cols = shop_df_check.columns\n",
    "mutual_info_scores = {}\n",
    "mutual_info_noise_scores = {}\n",
    "\n",
    "shop_np_check = shop_df_check.to_numpy()\n",
    "shop_np_check_with_noise = shop_df_check.copy().to_numpy()\n",
    "\n",
    "mutual_info_scores = mutual_info_classif(shop_np_check, y)\n",
    "\n",
    "# permutacja kolumn w shop_np_check_with_noise\n",
    "np.random.seed(42)\n",
    "np.random.shuffle(np.transpose(shop_np_check_with_noise))\n",
    "mutual_info_noise_scores = mutual_info_classif(shop_np_check_with_noise, y)"
   ]
  },
  {
   "cell_type": "code",
   "execution_count": 33,
   "metadata": {
    "cell_id": "00041-b70fc9c2-a78f-449b-8acf-dd4f66f29d48",
    "deepnote_cell_type": "code",
    "deepnote_to_be_reexecuted": false,
    "execution_millis": 53,
    "execution_start": 1621088853261,
    "source_hash": "ccd7b545",
    "tags": []
   },
   "outputs": [
    {
     "data": {
      "text/html": [
       "<div>\n",
       "<style scoped>\n",
       "    .dataframe tbody tr th:only-of-type {\n",
       "        vertical-align: middle;\n",
       "    }\n",
       "\n",
       "    .dataframe tbody tr th {\n",
       "        vertical-align: top;\n",
       "    }\n",
       "\n",
       "    .dataframe thead th {\n",
       "        text-align: right;\n",
       "    }\n",
       "</style>\n",
       "<table border=\"1\" class=\"dataframe\">\n",
       "  <thead>\n",
       "    <tr style=\"text-align: right;\">\n",
       "      <th></th>\n",
       "      <th>mutual_info_score</th>\n",
       "      <th>noise</th>\n",
       "    </tr>\n",
       "  </thead>\n",
       "  <tbody>\n",
       "    <tr>\n",
       "      <th>session_id</th>\n",
       "      <td>0.000000</td>\n",
       "      <td>0.001287</td>\n",
       "    </tr>\n",
       "    <tr>\n",
       "      <th>user_id</th>\n",
       "      <td>0.005199</td>\n",
       "      <td>0.008078</td>\n",
       "    </tr>\n",
       "    <tr>\n",
       "      <th>product_id</th>\n",
       "      <td>0.025453</td>\n",
       "      <td>0.005118</td>\n",
       "    </tr>\n",
       "    <tr>\n",
       "      <th>offered_discount</th>\n",
       "      <td>0.001802</td>\n",
       "      <td>0.000000</td>\n",
       "    </tr>\n",
       "    <tr>\n",
       "      <th>price</th>\n",
       "      <td>0.025678</td>\n",
       "      <td>0.004585</td>\n",
       "    </tr>\n",
       "    <tr>\n",
       "      <th>discount_price</th>\n",
       "      <td>0.008356</td>\n",
       "      <td>0.000000</td>\n",
       "    </tr>\n",
       "    <tr>\n",
       "      <th>category_path_Gry i konsole;Gry komputerowe</th>\n",
       "      <td>0.003962</td>\n",
       "      <td>0.000000</td>\n",
       "    </tr>\n",
       "    <tr>\n",
       "      <th>category_path_Gry i konsole;Gry na konsole;Gry PlayStation3</th>\n",
       "      <td>0.002843</td>\n",
       "      <td>0.000000</td>\n",
       "    </tr>\n",
       "    <tr>\n",
       "      <th>category_path_Gry i konsole;Gry na konsole;Gry Xbox 360</th>\n",
       "      <td>0.002010</td>\n",
       "      <td>0.000000</td>\n",
       "    </tr>\n",
       "    <tr>\n",
       "      <th>category_path_Komputery;Drukarki i skanery;Biurowe urządzenia wielofunkcyjne</th>\n",
       "      <td>0.001908</td>\n",
       "      <td>0.000000</td>\n",
       "    </tr>\n",
       "    <tr>\n",
       "      <th>category_path_Komputery;Monitory;Monitory LCD</th>\n",
       "      <td>0.006547</td>\n",
       "      <td>0.001903</td>\n",
       "    </tr>\n",
       "    <tr>\n",
       "      <th>category_path_Komputery;Tablety i akcesoria;Tablety</th>\n",
       "      <td>0.000000</td>\n",
       "      <td>0.002078</td>\n",
       "    </tr>\n",
       "    <tr>\n",
       "      <th>category_path_Sprzęt RTV;Audio;Słuchawki</th>\n",
       "      <td>0.000000</td>\n",
       "      <td>0.000317</td>\n",
       "    </tr>\n",
       "    <tr>\n",
       "      <th>category_path_Sprzęt RTV;Przenośne audio i video;Odtwarzacze mp3 i mp4</th>\n",
       "      <td>0.001597</td>\n",
       "      <td>0.008623</td>\n",
       "    </tr>\n",
       "    <tr>\n",
       "      <th>category_path_Sprzęt RTV;Video;Odtwarzacze DVD</th>\n",
       "      <td>0.001138</td>\n",
       "      <td>0.023599</td>\n",
       "    </tr>\n",
       "    <tr>\n",
       "      <th>category_path_Sprzęt RTV;Video;Telewizory i akcesoria;Anteny RTV</th>\n",
       "      <td>0.003127</td>\n",
       "      <td>0.012017</td>\n",
       "    </tr>\n",
       "    <tr>\n",
       "      <th>category_path_Sprzęt RTV;Video;Telewizory i akcesoria;Okulary 3D</th>\n",
       "      <td>0.006612</td>\n",
       "      <td>0.029910</td>\n",
       "    </tr>\n",
       "    <tr>\n",
       "      <th>category_path_Telefony i akcesoria;Akcesoria telefoniczne;Zestawy głośnomówiące</th>\n",
       "      <td>0.000000</td>\n",
       "      <td>0.001421</td>\n",
       "    </tr>\n",
       "    <tr>\n",
       "      <th>category_path_Telefony i akcesoria;Akcesoria telefoniczne;Zestawy słuchawkowe</th>\n",
       "      <td>0.000000</td>\n",
       "      <td>0.001129</td>\n",
       "    </tr>\n",
       "    <tr>\n",
       "      <th>category_path_Telefony i akcesoria;Telefony komórkowe</th>\n",
       "      <td>0.001665</td>\n",
       "      <td>0.000000</td>\n",
       "    </tr>\n",
       "    <tr>\n",
       "      <th>category_path_Telefony i akcesoria;Telefony stacjonarne</th>\n",
       "      <td>0.003810</td>\n",
       "      <td>0.000000</td>\n",
       "    </tr>\n",
       "    <tr>\n",
       "      <th>city_Gdynia</th>\n",
       "      <td>0.000000</td>\n",
       "      <td>0.000163</td>\n",
       "    </tr>\n",
       "    <tr>\n",
       "      <th>city_Konin</th>\n",
       "      <td>0.001283</td>\n",
       "      <td>0.003405</td>\n",
       "    </tr>\n",
       "    <tr>\n",
       "      <th>city_Kutno</th>\n",
       "      <td>0.000000</td>\n",
       "      <td>0.005140</td>\n",
       "    </tr>\n",
       "    <tr>\n",
       "      <th>city_Mielec</th>\n",
       "      <td>0.000000</td>\n",
       "      <td>0.002123</td>\n",
       "    </tr>\n",
       "    <tr>\n",
       "      <th>city_Police</th>\n",
       "      <td>0.000000</td>\n",
       "      <td>0.002850</td>\n",
       "    </tr>\n",
       "    <tr>\n",
       "      <th>city_Radom</th>\n",
       "      <td>0.002745</td>\n",
       "      <td>0.003037</td>\n",
       "    </tr>\n",
       "    <tr>\n",
       "      <th>city_Szczecin</th>\n",
       "      <td>0.001899</td>\n",
       "      <td>0.000000</td>\n",
       "    </tr>\n",
       "    <tr>\n",
       "      <th>city_Warszawa</th>\n",
       "      <td>0.003799</td>\n",
       "      <td>0.001748</td>\n",
       "    </tr>\n",
       "  </tbody>\n",
       "</table>\n",
       "</div>"
      ],
      "text/plain": [
       "                                                    mutual_info_score  \\\n",
       "session_id                                                   0.000000   \n",
       "user_id                                                      0.005199   \n",
       "product_id                                                   0.025453   \n",
       "offered_discount                                             0.001802   \n",
       "price                                                        0.025678   \n",
       "discount_price                                               0.008356   \n",
       "category_path_Gry i konsole;Gry komputerowe                  0.003962   \n",
       "category_path_Gry i konsole;Gry na konsole;Gry ...           0.002843   \n",
       "category_path_Gry i konsole;Gry na konsole;Gry ...           0.002010   \n",
       "category_path_Komputery;Drukarki i skanery;Biur...           0.001908   \n",
       "category_path_Komputery;Monitory;Monitory LCD                0.006547   \n",
       "category_path_Komputery;Tablety i akcesoria;Tab...           0.000000   \n",
       "category_path_Sprzęt RTV;Audio;Słuchawki                     0.000000   \n",
       "category_path_Sprzęt RTV;Przenośne audio i vide...           0.001597   \n",
       "category_path_Sprzęt RTV;Video;Odtwarzacze DVD               0.001138   \n",
       "category_path_Sprzęt RTV;Video;Telewizory i akc...           0.003127   \n",
       "category_path_Sprzęt RTV;Video;Telewizory i akc...           0.006612   \n",
       "category_path_Telefony i akcesoria;Akcesoria te...           0.000000   \n",
       "category_path_Telefony i akcesoria;Akcesoria te...           0.000000   \n",
       "category_path_Telefony i akcesoria;Telefony kom...           0.001665   \n",
       "category_path_Telefony i akcesoria;Telefony sta...           0.003810   \n",
       "city_Gdynia                                                  0.000000   \n",
       "city_Konin                                                   0.001283   \n",
       "city_Kutno                                                   0.000000   \n",
       "city_Mielec                                                  0.000000   \n",
       "city_Police                                                  0.000000   \n",
       "city_Radom                                                   0.002745   \n",
       "city_Szczecin                                                0.001899   \n",
       "city_Warszawa                                                0.003799   \n",
       "\n",
       "                                                       noise  \n",
       "session_id                                          0.001287  \n",
       "user_id                                             0.008078  \n",
       "product_id                                          0.005118  \n",
       "offered_discount                                    0.000000  \n",
       "price                                               0.004585  \n",
       "discount_price                                      0.000000  \n",
       "category_path_Gry i konsole;Gry komputerowe         0.000000  \n",
       "category_path_Gry i konsole;Gry na konsole;Gry ...  0.000000  \n",
       "category_path_Gry i konsole;Gry na konsole;Gry ...  0.000000  \n",
       "category_path_Komputery;Drukarki i skanery;Biur...  0.000000  \n",
       "category_path_Komputery;Monitory;Monitory LCD       0.001903  \n",
       "category_path_Komputery;Tablety i akcesoria;Tab...  0.002078  \n",
       "category_path_Sprzęt RTV;Audio;Słuchawki            0.000317  \n",
       "category_path_Sprzęt RTV;Przenośne audio i vide...  0.008623  \n",
       "category_path_Sprzęt RTV;Video;Odtwarzacze DVD      0.023599  \n",
       "category_path_Sprzęt RTV;Video;Telewizory i akc...  0.012017  \n",
       "category_path_Sprzęt RTV;Video;Telewizory i akc...  0.029910  \n",
       "category_path_Telefony i akcesoria;Akcesoria te...  0.001421  \n",
       "category_path_Telefony i akcesoria;Akcesoria te...  0.001129  \n",
       "category_path_Telefony i akcesoria;Telefony kom...  0.000000  \n",
       "category_path_Telefony i akcesoria;Telefony sta...  0.000000  \n",
       "city_Gdynia                                         0.000163  \n",
       "city_Konin                                          0.003405  \n",
       "city_Kutno                                          0.005140  \n",
       "city_Mielec                                         0.002123  \n",
       "city_Police                                         0.002850  \n",
       "city_Radom                                          0.003037  \n",
       "city_Szczecin                                       0.000000  \n",
       "city_Warszawa                                       0.001748  "
      ]
     },
     "execution_count": 33,
     "metadata": {},
     "output_type": "execute_result"
    }
   ],
   "source": [
    "mi_df = pd.DataFrame([mutual_info_scores, mutual_info_noise_scores], index=[\"mutual_info_score\", \"noise\"]).T\n",
    "mi_df.index = shop_df_check.columns\n",
    "mi_df"
   ]
  },
  {
   "cell_type": "code",
   "execution_count": 34,
   "metadata": {
    "cell_id": "00042-a7bdff8d-650a-4563-928c-a3f6eed7d596",
    "deepnote_cell_type": "code",
    "deepnote_to_be_reexecuted": false,
    "execution_millis": 2293,
    "execution_start": 1621088859630,
    "source_hash": "32e49bea",
    "tags": []
   },
   "outputs": [
    {
     "data": {
      "image/png": "[encoded data removed]",
      "text/plain": [
       "<Figure size 1080x756 with 2 Axes>"
      ]
     },
     "metadata": {
      "needs_background": "light"
     },
     "output_type": "display_data"
    }
   ],
   "source": [
    "plt.figure(figsize=(15,10.5))\n",
    "sns.heatmap(mi_df, annot=True, fmt=\"g\", cmap='viridis')\n",
    "\n",
    "plt.show()"
   ]
  },
  {
   "cell_type": "markdown",
   "metadata": {
    "cell_id": "00046-59a74d5f-20a8-45a1-b6d8-9555f6e745dd",
    "deepnote_cell_type": "markdown",
    "tags": []
   },
   "source": [
    "Wybieramy kolumny, których współczynnik wzajemnej informacji z funkcją celu jest większy, niż funkcji celu z szumem."
   ]
  },
  {
   "cell_type": "code",
   "execution_count": 35,
   "metadata": {
    "cell_id": "00040-b078d27e-054e-4d24-8f86-939e5ccfe795",
    "deepnote_cell_type": "code",
    "deepnote_to_be_reexecuted": false,
    "execution_millis": 0,
    "execution_start": 1621088972286,
    "source_hash": "4f3d2f84",
    "tags": []
   },
   "outputs": [],
   "source": [
    "useful_categories = np.where(mutual_info_scores > mutual_info_noise_scores, 1, 0)\n",
    "useful_categories_indices = np.argwhere(useful_categories == np.amax(useful_categories))"
   ]
  },
  {
   "cell_type": "code",
   "execution_count": 36,
   "metadata": {
    "cell_id": "00042-38ae6b34-64d3-4e65-8b43-1d30303874ea",
    "deepnote_cell_type": "code",
    "deepnote_to_be_reexecuted": false,
    "execution_millis": 14,
    "execution_start": 1621088979712,
    "source_hash": "c6ec377f",
    "tags": []
   },
   "outputs": [
    {
     "name": "stdout",
     "output_type": "stream",
     "text": [
      "Meaningful categories are: \n",
      " [['product_id']\n",
      " ['offered_discount']\n",
      " ['price']\n",
      " ['discount_price']\n",
      " ['category_path_Gry i konsole;Gry komputerowe']\n",
      " ['category_path_Gry i konsole;Gry na konsole;Gry PlayStation3']\n",
      " ['category_path_Gry i konsole;Gry na konsole;Gry Xbox 360']\n",
      " ['category_path_Komputery;Drukarki i skanery;Biurowe urządzenia wielofunkcyjne']\n",
      " ['category_path_Komputery;Monitory;Monitory LCD']\n",
      " ['category_path_Telefony i akcesoria;Telefony komórkowe']\n",
      " ['category_path_Telefony i akcesoria;Telefony stacjonarne']\n",
      " ['city_Szczecin']\n",
      " ['city_Warszawa']]\n"
     ]
    }
   ],
   "source": [
    "print(\"Meaningful categories are: \\n\", shop_df_check.columns[useful_categories_indices])"
   ]
  },
  {
   "cell_type": "markdown",
   "metadata": {
    "cell_id": "00041-319096c5-bfb8-4ad7-8f5b-d815a247644d",
    "deepnote_cell_type": "markdown",
    "tags": []
   },
   "source": [
    "# Etap 2"
   ]
  },
  {
   "cell_type": "markdown",
   "metadata": {
    "cell_id": "00041-bde97dd9-b664-43a2-a351-ba9ef27ac2d2",
    "deepnote_cell_type": "markdown",
    "tags": []
   },
   "source": [
    "1. Dwa modele: model bazowy (najprostszy możliwy dla danego zadania) i bardziej zaawansowany model docelowy, oraz raport pokazujący proces budowy modelu i porównujący wyniki (0-15pkt).\n",
    "2. Implementacja aplikacji (w formie mikroserwisu), która pozwala na (0-15pkt):\n",
    "    - serwowanie predykcji przy pomocy danego modelu,\n",
    "    - realizację eksperymentu A/B –w ramach którego porównywane będą oba modelei zbierane dane niezbędne do późniejszej oceny ich jakości,\n",
    "    - materiały pokazujące, że implementacja działa."
   ]
  },
  {
   "cell_type": "markdown",
   "metadata": {
    "cell_id": "00042-4b21b3b1-3b9a-4c4b-a644-25e433da735f",
    "deepnote_cell_type": "markdown",
    "tags": []
   },
   "source": [
    "Od początku zdawaliśmy sobie sprawę, że nasz dataset jest bardzo niezbalansowany, co przedstawia poniższy wykres."
   ]
  },
  {
   "cell_type": "code",
   "execution_count": 37,
   "metadata": {
    "cell_id": "00042-489b407e-20ad-4775-92d6-c7ffd31537c6",
    "deepnote_cell_type": "code",
    "deepnote_to_be_reexecuted": false,
    "execution_millis": 312,
    "execution_start": 1621089196633,
    "source_hash": "98cd7d86",
    "tags": []
   },
   "outputs": [
    {
     "data": {
      "image/png": "[encoded data removed]",
      "text/plain": [
       "<Figure size 432x288 with 1 Axes>"
      ]
     },
     "metadata": {
      "needs_background": "light"
     },
     "output_type": "display_data"
    }
   ],
   "source": [
    "sns.histplot(sessions.event_type)\n",
    "plt.title(\"Distribution of session events\")\n",
    "plt.show()"
   ]
  },
  {
   "cell_type": "markdown",
   "metadata": {
    "cell_id": "00043-a2dedf55-b07b-4837-8a03-e4fed5d629cd",
    "deepnote_cell_type": "markdown",
    "tags": []
   },
   "source": [
    "Oba nasze pierwsze modele z Logistic Regression i XGBoost nie biorą tego pod uwagę. Pomimo, że ich dokładność jest bardzo wysoka, to po spojrzeniu w macierz korelacji zauważamy, że przewidują one prawie zawsze tylko brak zakupu i finalnie nie przewyższają skuteczności modelu naiwnego."
   ]
  },
  {
   "cell_type": "markdown",
   "metadata": {
    "cell_id": "00042-d669a40b-8b2d-47c9-86dc-4f173d7286bb",
    "deepnote_cell_type": "text-cell-h2",
    "tags": []
   },
   "source": [
    "## Logistic Regression"
   ]
  },
  {
   "cell_type": "code",
   "execution_count": 38,
   "metadata": {
    "cell_id": "00043-9f0b660a-70ac-48ae-a6ab-3d1d9f029583",
    "deepnote_cell_type": "code",
    "deepnote_to_be_reexecuted": false,
    "execution_millis": 1,
    "execution_start": 1621089299738,
    "source_hash": "2ece78a",
    "tags": []
   },
   "outputs": [],
   "source": [
    "y_col = 'event_type_BUY_PRODUCT'"
   ]
  },
  {
   "cell_type": "code",
   "execution_count": 39,
   "metadata": {
    "cell_id": "00045-908a87fa-d082-4250-8131-9b8a637126aa",
    "deepnote_cell_type": "code",
    "deepnote_to_be_reexecuted": false,
    "execution_millis": 6,
    "execution_start": 1621089558214,
    "source_hash": "5b578872",
    "tags": []
   },
   "outputs": [],
   "source": [
    "X_train, X_test, y_train, y_test = train_test_split(shop_df[shop_df.columns[useful_categories_indices].flatten()], shop_df[y_col], test_size=0.2, random_state=42)"
   ]
  },
  {
   "cell_type": "markdown",
   "metadata": {
    "cell_id": "00057-bdd65418-1483-403c-8aca-219928d60177",
    "deepnote_cell_type": "text-cell-h3",
    "tags": []
   },
   "source": [
    "### Niezbalansowany model"
   ]
  },
  {
   "cell_type": "code",
   "execution_count": 40,
   "metadata": {
    "cell_id": "00046-643788de-d66b-4191-b94c-938040fcd44e",
    "deepnote_cell_type": "code",
    "deepnote_to_be_reexecuted": false,
    "execution_millis": 180,
    "execution_start": 1621089633264,
    "source_hash": "dae26494",
    "tags": []
   },
   "outputs": [],
   "source": [
    "model = LogisticRegression(solver='liblinear', C=10.0, random_state=0).fit(X_train, y_train)\n",
    "y_pred = model.predict(X_test)"
   ]
  },
  {
   "cell_type": "code",
   "execution_count": 41,
   "metadata": {
    "cell_id": "00047-47e9342d-eae8-419b-974c-871773a37818",
    "deepnote_cell_type": "code",
    "deepnote_to_be_reexecuted": false,
    "execution_millis": 29,
    "execution_start": 1621089634120,
    "source_hash": "a351bd75",
    "tags": []
   },
   "outputs": [
    {
     "data": {
      "text/plain": [
       "1.0"
      ]
     },
     "execution_count": 41,
     "metadata": {},
     "output_type": "execute_result"
    }
   ],
   "source": [
    "model.score(X_train, y_train)"
   ]
  },
  {
   "cell_type": "code",
   "execution_count": 42,
   "metadata": {
    "cell_id": "00048-eb3c56bb-3c15-4a86-b515-72caa16fee9a",
    "deepnote_cell_type": "code",
    "deepnote_to_be_reexecuted": false,
    "execution_millis": 20,
    "execution_start": 1621089634963,
    "source_hash": "b8a8a8e6",
    "tags": []
   },
   "outputs": [
    {
     "data": {
      "text/plain": [
       "1.0"
      ]
     },
     "execution_count": 42,
     "metadata": {},
     "output_type": "execute_result"
    }
   ],
   "source": [
    "model.score(X_test, y_test)"
   ]
  },
  {
   "cell_type": "code",
   "execution_count": 43,
   "metadata": {
    "cell_id": "00048-3a39f374-f63f-470f-9102-96b6658d79a7",
    "deepnote_cell_type": "code",
    "deepnote_to_be_reexecuted": false,
    "execution_millis": 253,
    "execution_start": 1621089636444,
    "source_hash": "f2948b1",
    "tags": []
   },
   "outputs": [
    {
     "data": {
      "image/png": "[encoded data removed]",
      "text/plain": [
       "<Figure size 360x360 with 1 Axes>"
      ]
     },
     "metadata": {
      "needs_background": "light"
     },
     "output_type": "display_data"
    }
   ],
   "source": [
    "cm = confusion_matrix(y_test, y_pred)\n",
    "\n",
    "fig, ax = plt.subplots(figsize=(5, 5))\n",
    "ax.imshow(cm)\n",
    "ax.grid(False)\n",
    "ax.xaxis.set(ticks=(0, 1), ticklabels=('Predicted 0s', 'Predicted 1s'))\n",
    "ax.yaxis.set(ticks=(0, 1), ticklabels=('Actual 0s', 'Actual 1s'))\n",
    "ax.set_ylim(1.5, -0.5)\n",
    "for i in range(2):\n",
    "    for j in range(2):\n",
    "        ax.text(j, i, cm[i, j], ha='center', va='center', color='red')\n",
    "plt.title('Confusion matrix')\n",
    "plt.show()"
   ]
  },
  {
   "cell_type": "markdown",
   "metadata": {
    "cell_id": "00062-5f5e45c3-42f0-4a7f-9fb2-807641a67bc7",
    "deepnote_cell_type": "text-cell-h3",
    "tags": []
   },
   "source": [
    "### Zbalansowany model"
   ]
  },
  {
   "cell_type": "code",
   "execution_count": 44,
   "metadata": {
    "cell_id": "00063-aeb428b0-adf1-47a1-b190-e6c299c86384",
    "deepnote_cell_type": "code",
    "deepnote_to_be_reexecuted": false,
    "execution_millis": 262,
    "execution_start": 1621089739341,
    "source_hash": "c050e115",
    "tags": []
   },
   "outputs": [],
   "source": [
    "model = LogisticRegression(solver='liblinear', C=10.0, random_state=0, class_weight='balanced').fit(X_train, y_train)\n",
    "y_pred = model.predict(X_test)"
   ]
  },
  {
   "cell_type": "code",
   "execution_count": 45,
   "metadata": {
    "cell_id": "00064-3a194672-c16d-46a4-beea-9f6b6a9a934e",
    "deepnote_cell_type": "code",
    "deepnote_to_be_reexecuted": false,
    "execution_millis": 219,
    "execution_start": 1621089739992,
    "source_hash": "a351bd75",
    "tags": []
   },
   "outputs": [
    {
     "data": {
      "text/plain": [
       "1.0"
      ]
     },
     "execution_count": 45,
     "metadata": {},
     "output_type": "execute_result"
    }
   ],
   "source": [
    "model.score(X_train, y_train)"
   ]
  },
  {
   "cell_type": "code",
   "execution_count": 46,
   "metadata": {
    "cell_id": "00065-f9657604-d15e-4bdc-bc98-666ed77cb2fb",
    "deepnote_cell_type": "code",
    "deepnote_to_be_reexecuted": false,
    "execution_millis": 22,
    "execution_start": 1621089741085,
    "source_hash": "b8a8a8e6",
    "tags": []
   },
   "outputs": [
    {
     "data": {
      "text/plain": [
       "1.0"
      ]
     },
     "execution_count": 46,
     "metadata": {},
     "output_type": "execute_result"
    }
   ],
   "source": [
    "model.score(X_test, y_test)"
   ]
  },
  {
   "cell_type": "code",
   "execution_count": 47,
   "metadata": {
    "cell_id": "00066-6eb61431-5161-4308-96ac-89b11f35dc79",
    "deepnote_cell_type": "code",
    "deepnote_to_be_reexecuted": false,
    "execution_millis": 166,
    "execution_start": 1621089741727,
    "source_hash": "f2948b1",
    "tags": []
   },
   "outputs": [
    {
     "data": {
      "image/png": "[encoded data removed]",
      "text/plain": [
       "<Figure size 360x360 with 1 Axes>"
      ]
     },
     "metadata": {
      "needs_background": "light"
     },
     "output_type": "display_data"
    }
   ],
   "source": [
    "cm = confusion_matrix(y_test, y_pred)\n",
    "\n",
    "fig, ax = plt.subplots(figsize=(5, 5))\n",
    "ax.imshow(cm)\n",
    "ax.grid(False)\n",
    "ax.xaxis.set(ticks=(0, 1), ticklabels=('Predicted 0s', 'Predicted 1s'))\n",
    "ax.yaxis.set(ticks=(0, 1), ticklabels=('Actual 0s', 'Actual 1s'))\n",
    "ax.set_ylim(1.5, -0.5)\n",
    "for i in range(2):\n",
    "    for j in range(2):\n",
    "        ax.text(j, i, cm[i, j], ha='center', va='center', color='red')\n",
    "plt.title('Confusion matrix')\n",
    "plt.show()"
   ]
  },
  {
   "cell_type": "markdown",
   "metadata": {
    "cell_id": "00043-19c8ac8c-6bd5-434c-bce3-e9ed323d42fe",
    "deepnote_cell_type": "text-cell-h2",
    "tags": []
   },
   "source": [
    "## XGBoost"
   ]
  },
  {
   "cell_type": "code",
   "execution_count": 48,
   "metadata": {
    "cell_id": "00045-24e21ed8-8f4a-45b4-a581-adaf3ecb3d08",
    "deepnote_cell_type": "code",
    "deepnote_to_be_reexecuted": false,
    "execution_millis": 1,
    "execution_start": 1621089928363,
    "source_hash": "b8d3c739",
    "tags": []
   },
   "outputs": [],
   "source": [
    "from xgboost import XGBClassifier"
   ]
  },
  {
   "cell_type": "code",
   "execution_count": 49,
   "metadata": {
    "cell_id": "00053-b8b3a46f-f3fd-4a1a-ab3b-fa7fb56d30b5",
    "deepnote_cell_type": "code",
    "deepnote_to_be_reexecuted": false,
    "execution_millis": 18,
    "execution_start": 1621089928711,
    "source_hash": "11b2b271",
    "tags": []
   },
   "outputs": [],
   "source": [
    "X_col = shop_df_check.columns\n",
    "X_train, X_test, y_train, y_test = train_test_split(shop_df[X_col], shop_df[y_col], test_size=0.2, random_state=42)"
   ]
  },
  {
   "cell_type": "markdown",
   "metadata": {
    "cell_id": "00070-7b8fe5a0-1630-486e-be18-b79cd3d8d49c",
    "deepnote_cell_type": "text-cell-h3",
    "tags": []
   },
   "source": [
    "### Niezbalansowany model"
   ]
  },
  {
   "cell_type": "code",
   "execution_count": 50,
   "metadata": {
    "cell_id": "00058-bf930fcd-4ab5-4dae-91c1-0394ba2c3734",
    "deepnote_cell_type": "code",
    "deepnote_to_be_reexecuted": false,
    "execution_millis": 36592,
    "execution_start": 1621089929577,
    "source_hash": "24503a4f",
    "tags": []
   },
   "outputs": [
    {
     "name": "stdout",
     "output_type": "stream",
     "text": [
      "[17:14:05] WARNING: C:/Users/Administrator/workspace/xgboost-win64_release_1.4.0/src/learner.cc:1095: Starting in XGBoost 1.3.0, the default evaluation metric used with the objective 'binary:logistic' was changed from 'error' to 'logloss'. Explicitly set eval_metric if you'd like to restore the old behavior.\n"
     ]
    },
    {
     "data": {
      "text/plain": [
       "0.8239171374764596"
      ]
     },
     "execution_count": 50,
     "metadata": {},
     "output_type": "execute_result"
    }
   ],
   "source": [
    "model = XGBClassifier()\n",
    "model.fit(X_train, y_train)\n",
    "\n",
    "cols_when_model_builds = model.get_booster().feature_names\n",
    "X_test = X_test[cols_when_model_builds]\n",
    "\n",
    "y_pred = model.predict(X_test)\n",
    "predictions = [round(value) for value in y_pred]\n",
    "\n",
    "accuracy_score(y_test, predictions)"
   ]
  },
  {
   "cell_type": "code",
   "execution_count": 51,
   "metadata": {
    "cell_id": "00057-6a08725e-896f-49ed-a1a5-077b8dda5bf0",
    "deepnote_cell_type": "code",
    "deepnote_to_be_reexecuted": false,
    "execution_millis": 203,
    "execution_start": 1621089970768,
    "source_hash": "dde815b2",
    "tags": []
   },
   "outputs": [
    {
     "data": {
      "image/png": "[encoded data removed]",
      "text/plain": [
       "<Figure size 360x360 with 1 Axes>"
      ]
     },
     "metadata": {
      "needs_background": "light"
     },
     "output_type": "display_data"
    }
   ],
   "source": [
    "cm = confusion_matrix(y_test, predictions)\n",
    "\n",
    "fig, ax = plt.subplots(figsize=(5, 5))\n",
    "ax.imshow(cm)\n",
    "ax.grid(False)\n",
    "ax.xaxis.set(ticks=(0, 1), ticklabels=('Predicted 0s', 'Predicted 1s'))\n",
    "ax.yaxis.set(ticks=(0, 1), ticklabels=('Actual 0s', 'Actual 1s'))\n",
    "ax.set_ylim(1.5, -0.5)\n",
    "for i in range(2):\n",
    "    for j in range(2):\n",
    "        ax.text(j, i, cm[i, j], ha='center', va='center', color='red')\n",
    "plt.title('Confusion matrix')\n",
    "plt.show()"
   ]
  },
  {
   "cell_type": "markdown",
   "metadata": {
    "cell_id": "00058-da1be011-e2ec-46f1-b749-102a2c2f38d8",
    "deepnote_cell_type": "markdown",
    "tags": []
   },
   "source": [
    "### Zbalansowany model"
   ]
  },
  {
   "cell_type": "code",
   "execution_count": 52,
   "metadata": {
    "cell_id": "00059-6fe24156-45ea-4918-b154-1db9bccfc9e1",
    "deepnote_cell_type": "code",
    "deepnote_to_be_reexecuted": false,
    "execution_millis": 40852,
    "execution_start": 1621090015341,
    "source_hash": "45166e08",
    "tags": []
   },
   "outputs": [
    {
     "name": "stdout",
     "output_type": "stream",
     "text": [
      "[17:14:07] WARNING: C:/Users/Administrator/workspace/xgboost-win64_release_1.4.0/src/learner.cc:1095: Starting in XGBoost 1.3.0, the default evaluation metric used with the objective 'binary:logistic' was changed from 'error' to 'logloss'. Explicitly set eval_metric if you'd like to restore the old behavior.\n"
     ]
    },
    {
     "data": {
      "text/plain": [
       "0.6416464891041163"
      ]
     },
     "execution_count": 52,
     "metadata": {},
     "output_type": "execute_result"
    }
   ],
   "source": [
    "model = XGBClassifier(scale_pos_weight=5)\n",
    "model.fit(X_train, y_train)\n",
    "\n",
    "cols_when_model_builds = model.get_booster().feature_names\n",
    "X_test = X_test[cols_when_model_builds]\n",
    "\n",
    "y_pred = model.predict(X_test)\n",
    "predictions = [round(value) for value in y_pred]\n",
    "\n",
    "accuracy_score(y_test, predictions)"
   ]
  },
  {
   "cell_type": "code",
   "execution_count": 53,
   "metadata": {
    "cell_id": "00060-b4ec176b-dfb4-4fa3-8d46-4e4faff707fc",
    "deepnote_cell_type": "code",
    "deepnote_to_be_reexecuted": false,
    "execution_millis": 288,
    "execution_start": 1621090060551,
    "source_hash": "acf051c1",
    "tags": []
   },
   "outputs": [
    {
     "data": {
      "image/png": "[encoded data removed]",
      "text/plain": [
       "<Figure size 360x360 with 1 Axes>"
      ]
     },
     "metadata": {
      "needs_background": "light"
     },
     "output_type": "display_data"
    }
   ],
   "source": [
    "cm = confusion_matrix(y_test, predictions)\n",
    "\n",
    "fig, ax = plt.subplots(figsize=(5, 5))\n",
    "ax.imshow(cm)\n",
    "ax.grid(False)\n",
    "ax.xaxis.set(ticks=(0, 1), ticklabels=('Predicted 0s', 'Predicted 1s'))\n",
    "ax.yaxis.set(ticks=(0, 1), ticklabels=('Actual 0s', 'Actual 1s'))\n",
    "ax.set_ylim(1.5, -0.5)\n",
    "for i in range(2):\n",
    "    for j in range(2):\n",
    "        ax.text(j, i, cm[i, j], ha='center', va='center', color='red')\n",
    "plt.title('Confusion matrix')\n",
    "plt.show()"
   ]
  },
  {
   "cell_type": "markdown",
   "metadata": {
    "cell_id": "00076-730887b0-1d49-4b4f-93bf-1c442fc14b02",
    "deepnote_cell_type": "text-cell-h3",
    "tags": []
   },
   "source": [
    "### GridSearchCV do znalezienia odpowiedniej wagi do XGBoost"
   ]
  },
  {
   "cell_type": "code",
   "execution_count": 54,
   "metadata": {
    "cell_id": "00061-5c68a8e4-be4f-44d7-8822-a70fc4509df3",
    "deepnote_cell_type": "code",
    "deepnote_to_be_reexecuted": true,
    "execution_millis": 805810,
    "execution_start": 1621090069759,
    "source_hash": "9e0c6915",
    "tags": []
   },
   "outputs": [
    {
     "name": "stdout",
     "output_type": "stream",
     "text": [
      "[17:16:15] WARNING: C:/Users/Administrator/workspace/xgboost-win64_release_1.4.0/src/learner.cc:1095: Starting in XGBoost 1.3.0, the default evaluation metric used with the objective 'binary:logistic' was changed from 'error' to 'logloss'. Explicitly set eval_metric if you'd like to restore the old behavior.\n"
     ]
    }
   ],
   "source": [
    "from sklearn.model_selection import RepeatedStratifiedKFold\n",
    "from sklearn.model_selection import GridSearchCV\n",
    "\n",
    "# define grid\n",
    "weights = [1, 2, 4, 8, 10, 25, 50]\n",
    "param_grid = dict(scale_pos_weight=weights)\n",
    "\n",
    "# define evaluation procedure\n",
    "cv = RepeatedStratifiedKFold(n_splits=5, n_repeats=3, random_state=42)\n",
    "# define grid search\n",
    "grid = GridSearchCV(estimator=model, param_grid=param_grid, n_jobs=-1, cv=cv, scoring='roc_auc')\n",
    "# execute the grid search\n",
    "grid_result = grid.fit(X_train, y_train)"
   ]
  },
  {
   "cell_type": "code",
   "execution_count": 55,
   "metadata": {
    "cell_id": "00062-6ae3c754-3d73-4129-b135-5bdd7d1bf6c0",
    "deepnote_cell_type": "code",
    "deepnote_to_be_reexecuted": true,
    "execution_millis": 18,
    "execution_start": 1621012701813,
    "source_hash": "d0675ecb",
    "tags": []
   },
   "outputs": [
    {
     "name": "stdout",
     "output_type": "stream",
     "text": [
      "Best: 0.604133 using {'scale_pos_weight': 1}\n",
      "0.604133 (0.007212) with: {'scale_pos_weight': 1}\n",
      "0.597436 (0.005888) with: {'scale_pos_weight': 2}\n",
      "0.591857 (0.006603) with: {'scale_pos_weight': 4}\n",
      "0.584545 (0.006868) with: {'scale_pos_weight': 8}\n",
      "0.579426 (0.008110) with: {'scale_pos_weight': 10}\n",
      "0.574563 (0.006877) with: {'scale_pos_weight': 25}\n",
      "0.571209 (0.008181) with: {'scale_pos_weight': 50}\n"
     ]
    }
   ],
   "source": [
    "# report the best configuration\n",
    "print(\"Best: %f using %s\" % (grid_result.best_score_, grid_result.best_params_))\n",
    "# report all configurations\n",
    "means = grid_result.cv_results_['mean_test_score']\n",
    "stds = grid_result.cv_results_['std_test_score']\n",
    "params = grid_result.cv_results_['params']\n",
    "for mean, stdev, param in zip(means, stds, params):\n",
    "    print(\"%f (%f) with: %r\" % (mean, stdev, param))"
   ]
  }
 ],
 "metadata": {
  "deepnote": {
   "is_reactive": false
  },
  "deepnote_execution_queue": [
   {
    "cellId": "00061-5c68a8e4-be4f-44d7-8822-a70fc4509df3",
    "msgId": "287cfdd2-0d9d-461d-ab6a-89b1e442781c",
    "sessionId": "976a2e27-29ad-434f-8469-e2f8894089b2"
   },
   {
    "cellId": "00062-6ae3c754-3d73-4129-b135-5bdd7d1bf6c0",
    "msgId": "e3ebc6c4-9ded-48a3-86a6-69a8ef34530f",
    "sessionId": "976a2e27-29ad-434f-8469-e2f8894089b2"
   }
  ],
  "deepnote_notebook_id": "86018db3-9d84-45d3-a940-66648a08ad29",
  "kernelspec": {
   "display_name": "Python 3",
   "language": "python",
   "name": "python3"
  },
  "language_info": {
   "codemirror_mode": {
    "name": "ipython",
    "version": 3
   },
   "file_extension": ".py",
   "mimetype": "text/x-python",
   "name": "python",
   "nbconvert_exporter": "python",
   "pygments_lexer": "ipython3",
   "version": "3.8.5"
  }
 },
 "nbformat": 4,
 "nbformat_minor": 4
}
